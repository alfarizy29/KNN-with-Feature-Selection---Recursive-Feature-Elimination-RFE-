{
  "nbformat": 4,
  "nbformat_minor": 0,
  "metadata": {
    "colab": {
      "name": "Classification Diabetes using KNN with Recursive Feature Elimination.ipynb",
      "provenance": [],
      "toc_visible": true
    },
    "kernelspec": {
      "name": "python3",
      "display_name": "Python 3"
    },
    "accelerator": "TPU"
  },
  "cells": [
    {
      "cell_type": "markdown",
      "metadata": {
        "id": "FhsuHzdTBosD"
      },
      "source": [
        "# **Mount Drive**"
      ]
    },
    {
      "cell_type": "code",
      "metadata": {
        "colab": {
          "base_uri": "https://localhost:8080/"
        },
        "id": "pysCxDi3BoRo",
        "outputId": "67c1ca32-b63c-4541-aecc-51e94c566897"
      },
      "source": [
        "from google.colab import drive\r\n",
        "drive.mount('/content/drive')"
      ],
      "execution_count": null,
      "outputs": [
        {
          "output_type": "stream",
          "text": [
            "Drive already mounted at /content/drive; to attempt to forcibly remount, call drive.mount(\"/content/drive\", force_remount=True).\n"
          ],
          "name": "stdout"
        }
      ]
    },
    {
      "cell_type": "markdown",
      "metadata": {
        "id": "izbTX1YVEjNL"
      },
      "source": [
        "# **Library**"
      ]
    },
    {
      "cell_type": "code",
      "metadata": {
        "id": "2XY2K2yGEk6T"
      },
      "source": [
        "import pandas as pd\r\n",
        "import numpy as np\r\n",
        "\r\n",
        "import matplotlib.pyplot as plt\r\n",
        "import seaborn as sns\r\n",
        "\r\n",
        "from sklearn.preprocessing import StandardScaler\r\n",
        "\r\n",
        "from sklearn.model_selection import train_test_split\r\n",
        "\r\n",
        "from sklearn.neighbors import KNeighborsClassifier\r\n",
        "\r\n",
        "from sklearn.ensemble import RandomForestClassifier\r\n",
        "from sklearn.model_selection import StratifiedKFold\r\n",
        "from sklearn.feature_selection import RFECV\r\n",
        "\r\n",
        "from sklearn.metrics import accuracy_score\r\n",
        "\r\n",
        "from sklearn.metrics import confusion_matrix, classification_report\r\n",
        "\r\n",
        "from sklearn.metrics import roc_curve\r\n",
        "from sklearn.metrics import roc_auc_score\r\n",
        "\r\n",
        "from sklearn.model_selection import GridSearchCV"
      ],
      "execution_count": null,
      "outputs": []
    },
    {
      "cell_type": "markdown",
      "metadata": {
        "id": "ClApBBQ2DVzu"
      },
      "source": [
        "# **Dataset**"
      ]
    },
    {
      "cell_type": "markdown",
      "metadata": {
        "id": "gGDqBjNFDm0E"
      },
      "source": [
        "## Link [Dataset](https://www.kaggle.com/uciml/pima-indians-diabetes-database)"
      ]
    },
    {
      "cell_type": "markdown",
      "metadata": {
        "id": "L-7ODu2GDuNu"
      },
      "source": [
        "## Load Data"
      ]
    },
    {
      "cell_type": "code",
      "metadata": {
        "id": "_V2cb-1ADBD-"
      },
      "source": [
        "data = pd.read_csv('/content/drive/MyDrive/Data Science Course and Bootcamp/DLB/Final Project/diabetes.csv')"
      ],
      "execution_count": null,
      "outputs": []
    },
    {
      "cell_type": "markdown",
      "metadata": {
        "id": "aMpqILsuEsXR"
      },
      "source": [
        "## Cek Data"
      ]
    },
    {
      "cell_type": "markdown",
      "metadata": {
        "id": "-U2sALkPJw3c"
      },
      "source": [
        "### Data\r\n",
        "\r\n"
      ]
    },
    {
      "cell_type": "code",
      "metadata": {
        "colab": {
          "base_uri": "https://localhost:8080/",
          "height": 204
        },
        "id": "p9RLTZ8_Euid",
        "outputId": "423628de-c9d4-4970-e434-494804f013e9"
      },
      "source": [
        "data.head()"
      ],
      "execution_count": null,
      "outputs": [
        {
          "output_type": "execute_result",
          "data": {
            "text/html": [
              "<div>\n",
              "<style scoped>\n",
              "    .dataframe tbody tr th:only-of-type {\n",
              "        vertical-align: middle;\n",
              "    }\n",
              "\n",
              "    .dataframe tbody tr th {\n",
              "        vertical-align: top;\n",
              "    }\n",
              "\n",
              "    .dataframe thead th {\n",
              "        text-align: right;\n",
              "    }\n",
              "</style>\n",
              "<table border=\"1\" class=\"dataframe\">\n",
              "  <thead>\n",
              "    <tr style=\"text-align: right;\">\n",
              "      <th></th>\n",
              "      <th>Pregnancies</th>\n",
              "      <th>Glucose</th>\n",
              "      <th>BloodPressure</th>\n",
              "      <th>SkinThickness</th>\n",
              "      <th>Insulin</th>\n",
              "      <th>BMI</th>\n",
              "      <th>DiabetesPedigreeFunction</th>\n",
              "      <th>Age</th>\n",
              "      <th>Outcome</th>\n",
              "    </tr>\n",
              "  </thead>\n",
              "  <tbody>\n",
              "    <tr>\n",
              "      <th>0</th>\n",
              "      <td>6</td>\n",
              "      <td>148</td>\n",
              "      <td>72</td>\n",
              "      <td>35</td>\n",
              "      <td>0</td>\n",
              "      <td>33.6</td>\n",
              "      <td>0.627</td>\n",
              "      <td>50</td>\n",
              "      <td>1</td>\n",
              "    </tr>\n",
              "    <tr>\n",
              "      <th>1</th>\n",
              "      <td>1</td>\n",
              "      <td>85</td>\n",
              "      <td>66</td>\n",
              "      <td>29</td>\n",
              "      <td>0</td>\n",
              "      <td>26.6</td>\n",
              "      <td>0.351</td>\n",
              "      <td>31</td>\n",
              "      <td>0</td>\n",
              "    </tr>\n",
              "    <tr>\n",
              "      <th>2</th>\n",
              "      <td>8</td>\n",
              "      <td>183</td>\n",
              "      <td>64</td>\n",
              "      <td>0</td>\n",
              "      <td>0</td>\n",
              "      <td>23.3</td>\n",
              "      <td>0.672</td>\n",
              "      <td>32</td>\n",
              "      <td>1</td>\n",
              "    </tr>\n",
              "    <tr>\n",
              "      <th>3</th>\n",
              "      <td>1</td>\n",
              "      <td>89</td>\n",
              "      <td>66</td>\n",
              "      <td>23</td>\n",
              "      <td>94</td>\n",
              "      <td>28.1</td>\n",
              "      <td>0.167</td>\n",
              "      <td>21</td>\n",
              "      <td>0</td>\n",
              "    </tr>\n",
              "    <tr>\n",
              "      <th>4</th>\n",
              "      <td>0</td>\n",
              "      <td>137</td>\n",
              "      <td>40</td>\n",
              "      <td>35</td>\n",
              "      <td>168</td>\n",
              "      <td>43.1</td>\n",
              "      <td>2.288</td>\n",
              "      <td>33</td>\n",
              "      <td>1</td>\n",
              "    </tr>\n",
              "  </tbody>\n",
              "</table>\n",
              "</div>"
            ],
            "text/plain": [
              "   Pregnancies  Glucose  BloodPressure  ...  DiabetesPedigreeFunction  Age  Outcome\n",
              "0            6      148             72  ...                     0.627   50        1\n",
              "1            1       85             66  ...                     0.351   31        0\n",
              "2            8      183             64  ...                     0.672   32        1\n",
              "3            1       89             66  ...                     0.167   21        0\n",
              "4            0      137             40  ...                     2.288   33        1\n",
              "\n",
              "[5 rows x 9 columns]"
            ]
          },
          "metadata": {
            "tags": []
          },
          "execution_count": 4
        }
      ]
    },
    {
      "cell_type": "markdown",
      "metadata": {
        "id": "trGQDBuzuGiv"
      },
      "source": [
        "### Shape"
      ]
    },
    {
      "cell_type": "code",
      "metadata": {
        "colab": {
          "base_uri": "https://localhost:8080/"
        },
        "id": "RbT4QkvauJoU",
        "outputId": "c7ea089a-8842-4953-ee18-020e111ec615"
      },
      "source": [
        "data.shape"
      ],
      "execution_count": null,
      "outputs": [
        {
          "output_type": "execute_result",
          "data": {
            "text/plain": [
              "(768, 9)"
            ]
          },
          "metadata": {
            "tags": []
          },
          "execution_count": 5
        }
      ]
    },
    {
      "cell_type": "markdown",
      "metadata": {
        "id": "UGANVtraJj3G"
      },
      "source": [
        "### Tipe Data Setiap Atribut"
      ]
    },
    {
      "cell_type": "code",
      "metadata": {
        "colab": {
          "base_uri": "https://localhost:8080/"
        },
        "id": "qY7qs1QnKS8a",
        "outputId": "5f5a2312-3b93-420c-f598-5c1739057119"
      },
      "source": [
        "data.info()"
      ],
      "execution_count": null,
      "outputs": [
        {
          "output_type": "stream",
          "text": [
            "<class 'pandas.core.frame.DataFrame'>\n",
            "RangeIndex: 768 entries, 0 to 767\n",
            "Data columns (total 9 columns):\n",
            " #   Column                    Non-Null Count  Dtype  \n",
            "---  ------                    --------------  -----  \n",
            " 0   Pregnancies               768 non-null    int64  \n",
            " 1   Glucose                   768 non-null    int64  \n",
            " 2   BloodPressure             768 non-null    int64  \n",
            " 3   SkinThickness             768 non-null    int64  \n",
            " 4   Insulin                   768 non-null    int64  \n",
            " 5   BMI                       768 non-null    float64\n",
            " 6   DiabetesPedigreeFunction  768 non-null    float64\n",
            " 7   Age                       768 non-null    int64  \n",
            " 8   Outcome                   768 non-null    int64  \n",
            "dtypes: float64(2), int64(7)\n",
            "memory usage: 54.1 KB\n"
          ],
          "name": "stdout"
        }
      ]
    },
    {
      "cell_type": "markdown",
      "metadata": {
        "id": "fKVwKpZILZ9-"
      },
      "source": [
        "### Detail Data"
      ]
    },
    {
      "cell_type": "code",
      "metadata": {
        "colab": {
          "base_uri": "https://localhost:8080/",
          "height": 317
        },
        "id": "NYw9WMGOLdMD",
        "outputId": "05431324-6a54-4caa-8aec-86eec0c0cbed"
      },
      "source": [
        "data.describe()"
      ],
      "execution_count": null,
      "outputs": [
        {
          "output_type": "execute_result",
          "data": {
            "text/html": [
              "<div>\n",
              "<style scoped>\n",
              "    .dataframe tbody tr th:only-of-type {\n",
              "        vertical-align: middle;\n",
              "    }\n",
              "\n",
              "    .dataframe tbody tr th {\n",
              "        vertical-align: top;\n",
              "    }\n",
              "\n",
              "    .dataframe thead th {\n",
              "        text-align: right;\n",
              "    }\n",
              "</style>\n",
              "<table border=\"1\" class=\"dataframe\">\n",
              "  <thead>\n",
              "    <tr style=\"text-align: right;\">\n",
              "      <th></th>\n",
              "      <th>Pregnancies</th>\n",
              "      <th>Glucose</th>\n",
              "      <th>BloodPressure</th>\n",
              "      <th>SkinThickness</th>\n",
              "      <th>Insulin</th>\n",
              "      <th>BMI</th>\n",
              "      <th>DiabetesPedigreeFunction</th>\n",
              "      <th>Age</th>\n",
              "      <th>Outcome</th>\n",
              "    </tr>\n",
              "  </thead>\n",
              "  <tbody>\n",
              "    <tr>\n",
              "      <th>count</th>\n",
              "      <td>768.000000</td>\n",
              "      <td>768.000000</td>\n",
              "      <td>768.000000</td>\n",
              "      <td>768.000000</td>\n",
              "      <td>768.000000</td>\n",
              "      <td>768.000000</td>\n",
              "      <td>768.000000</td>\n",
              "      <td>768.000000</td>\n",
              "      <td>768.000000</td>\n",
              "    </tr>\n",
              "    <tr>\n",
              "      <th>mean</th>\n",
              "      <td>3.845052</td>\n",
              "      <td>120.894531</td>\n",
              "      <td>69.105469</td>\n",
              "      <td>20.536458</td>\n",
              "      <td>79.799479</td>\n",
              "      <td>31.992578</td>\n",
              "      <td>0.471876</td>\n",
              "      <td>33.240885</td>\n",
              "      <td>0.348958</td>\n",
              "    </tr>\n",
              "    <tr>\n",
              "      <th>std</th>\n",
              "      <td>3.369578</td>\n",
              "      <td>31.972618</td>\n",
              "      <td>19.355807</td>\n",
              "      <td>15.952218</td>\n",
              "      <td>115.244002</td>\n",
              "      <td>7.884160</td>\n",
              "      <td>0.331329</td>\n",
              "      <td>11.760232</td>\n",
              "      <td>0.476951</td>\n",
              "    </tr>\n",
              "    <tr>\n",
              "      <th>min</th>\n",
              "      <td>0.000000</td>\n",
              "      <td>0.000000</td>\n",
              "      <td>0.000000</td>\n",
              "      <td>0.000000</td>\n",
              "      <td>0.000000</td>\n",
              "      <td>0.000000</td>\n",
              "      <td>0.078000</td>\n",
              "      <td>21.000000</td>\n",
              "      <td>0.000000</td>\n",
              "    </tr>\n",
              "    <tr>\n",
              "      <th>25%</th>\n",
              "      <td>1.000000</td>\n",
              "      <td>99.000000</td>\n",
              "      <td>62.000000</td>\n",
              "      <td>0.000000</td>\n",
              "      <td>0.000000</td>\n",
              "      <td>27.300000</td>\n",
              "      <td>0.243750</td>\n",
              "      <td>24.000000</td>\n",
              "      <td>0.000000</td>\n",
              "    </tr>\n",
              "    <tr>\n",
              "      <th>50%</th>\n",
              "      <td>3.000000</td>\n",
              "      <td>117.000000</td>\n",
              "      <td>72.000000</td>\n",
              "      <td>23.000000</td>\n",
              "      <td>30.500000</td>\n",
              "      <td>32.000000</td>\n",
              "      <td>0.372500</td>\n",
              "      <td>29.000000</td>\n",
              "      <td>0.000000</td>\n",
              "    </tr>\n",
              "    <tr>\n",
              "      <th>75%</th>\n",
              "      <td>6.000000</td>\n",
              "      <td>140.250000</td>\n",
              "      <td>80.000000</td>\n",
              "      <td>32.000000</td>\n",
              "      <td>127.250000</td>\n",
              "      <td>36.600000</td>\n",
              "      <td>0.626250</td>\n",
              "      <td>41.000000</td>\n",
              "      <td>1.000000</td>\n",
              "    </tr>\n",
              "    <tr>\n",
              "      <th>max</th>\n",
              "      <td>17.000000</td>\n",
              "      <td>199.000000</td>\n",
              "      <td>122.000000</td>\n",
              "      <td>99.000000</td>\n",
              "      <td>846.000000</td>\n",
              "      <td>67.100000</td>\n",
              "      <td>2.420000</td>\n",
              "      <td>81.000000</td>\n",
              "      <td>1.000000</td>\n",
              "    </tr>\n",
              "  </tbody>\n",
              "</table>\n",
              "</div>"
            ],
            "text/plain": [
              "       Pregnancies     Glucose  ...         Age     Outcome\n",
              "count   768.000000  768.000000  ...  768.000000  768.000000\n",
              "mean      3.845052  120.894531  ...   33.240885    0.348958\n",
              "std       3.369578   31.972618  ...   11.760232    0.476951\n",
              "min       0.000000    0.000000  ...   21.000000    0.000000\n",
              "25%       1.000000   99.000000  ...   24.000000    0.000000\n",
              "50%       3.000000  117.000000  ...   29.000000    0.000000\n",
              "75%       6.000000  140.250000  ...   41.000000    1.000000\n",
              "max      17.000000  199.000000  ...   81.000000    1.000000\n",
              "\n",
              "[8 rows x 9 columns]"
            ]
          },
          "metadata": {
            "tags": []
          },
          "execution_count": 7
        }
      ]
    },
    {
      "cell_type": "markdown",
      "metadata": {
        "id": "axa7jZDqLntv"
      },
      "source": [
        "### Korelasi Antar Atribut"
      ]
    },
    {
      "cell_type": "code",
      "metadata": {
        "colab": {
          "base_uri": "https://localhost:8080/"
        },
        "id": "pdIBQlbnKbAf",
        "outputId": "bae91261-0412-4584-b0a4-628b5f8c5418"
      },
      "source": [
        "data.corr()"
      ],
      "execution_count": null,
      "outputs": [
        {
          "output_type": "execute_result",
          "data": {
            "text/html": [
              "<div>\n",
              "<style scoped>\n",
              "    .dataframe tbody tr th:only-of-type {\n",
              "        vertical-align: middle;\n",
              "    }\n",
              "\n",
              "    .dataframe tbody tr th {\n",
              "        vertical-align: top;\n",
              "    }\n",
              "\n",
              "    .dataframe thead th {\n",
              "        text-align: right;\n",
              "    }\n",
              "</style>\n",
              "<table border=\"1\" class=\"dataframe\">\n",
              "  <thead>\n",
              "    <tr style=\"text-align: right;\">\n",
              "      <th></th>\n",
              "      <th>Pregnancies</th>\n",
              "      <th>Glucose</th>\n",
              "      <th>BloodPressure</th>\n",
              "      <th>SkinThickness</th>\n",
              "      <th>Insulin</th>\n",
              "      <th>BMI</th>\n",
              "      <th>DiabetesPedigreeFunction</th>\n",
              "      <th>Age</th>\n",
              "      <th>Outcome</th>\n",
              "    </tr>\n",
              "  </thead>\n",
              "  <tbody>\n",
              "    <tr>\n",
              "      <th>Pregnancies</th>\n",
              "      <td>1.000000</td>\n",
              "      <td>0.129459</td>\n",
              "      <td>0.141282</td>\n",
              "      <td>-0.081672</td>\n",
              "      <td>-0.073535</td>\n",
              "      <td>0.017683</td>\n",
              "      <td>-0.033523</td>\n",
              "      <td>0.544341</td>\n",
              "      <td>0.221898</td>\n",
              "    </tr>\n",
              "    <tr>\n",
              "      <th>Glucose</th>\n",
              "      <td>0.129459</td>\n",
              "      <td>1.000000</td>\n",
              "      <td>0.152590</td>\n",
              "      <td>0.057328</td>\n",
              "      <td>0.331357</td>\n",
              "      <td>0.221071</td>\n",
              "      <td>0.137337</td>\n",
              "      <td>0.263514</td>\n",
              "      <td>0.466581</td>\n",
              "    </tr>\n",
              "    <tr>\n",
              "      <th>BloodPressure</th>\n",
              "      <td>0.141282</td>\n",
              "      <td>0.152590</td>\n",
              "      <td>1.000000</td>\n",
              "      <td>0.207371</td>\n",
              "      <td>0.088933</td>\n",
              "      <td>0.281805</td>\n",
              "      <td>0.041265</td>\n",
              "      <td>0.239528</td>\n",
              "      <td>0.065068</td>\n",
              "    </tr>\n",
              "    <tr>\n",
              "      <th>SkinThickness</th>\n",
              "      <td>-0.081672</td>\n",
              "      <td>0.057328</td>\n",
              "      <td>0.207371</td>\n",
              "      <td>1.000000</td>\n",
              "      <td>0.436783</td>\n",
              "      <td>0.392573</td>\n",
              "      <td>0.183928</td>\n",
              "      <td>-0.113970</td>\n",
              "      <td>0.074752</td>\n",
              "    </tr>\n",
              "    <tr>\n",
              "      <th>Insulin</th>\n",
              "      <td>-0.073535</td>\n",
              "      <td>0.331357</td>\n",
              "      <td>0.088933</td>\n",
              "      <td>0.436783</td>\n",
              "      <td>1.000000</td>\n",
              "      <td>0.197859</td>\n",
              "      <td>0.185071</td>\n",
              "      <td>-0.042163</td>\n",
              "      <td>0.130548</td>\n",
              "    </tr>\n",
              "    <tr>\n",
              "      <th>BMI</th>\n",
              "      <td>0.017683</td>\n",
              "      <td>0.221071</td>\n",
              "      <td>0.281805</td>\n",
              "      <td>0.392573</td>\n",
              "      <td>0.197859</td>\n",
              "      <td>1.000000</td>\n",
              "      <td>0.140647</td>\n",
              "      <td>0.036242</td>\n",
              "      <td>0.292695</td>\n",
              "    </tr>\n",
              "    <tr>\n",
              "      <th>DiabetesPedigreeFunction</th>\n",
              "      <td>-0.033523</td>\n",
              "      <td>0.137337</td>\n",
              "      <td>0.041265</td>\n",
              "      <td>0.183928</td>\n",
              "      <td>0.185071</td>\n",
              "      <td>0.140647</td>\n",
              "      <td>1.000000</td>\n",
              "      <td>0.033561</td>\n",
              "      <td>0.173844</td>\n",
              "    </tr>\n",
              "    <tr>\n",
              "      <th>Age</th>\n",
              "      <td>0.544341</td>\n",
              "      <td>0.263514</td>\n",
              "      <td>0.239528</td>\n",
              "      <td>-0.113970</td>\n",
              "      <td>-0.042163</td>\n",
              "      <td>0.036242</td>\n",
              "      <td>0.033561</td>\n",
              "      <td>1.000000</td>\n",
              "      <td>0.238356</td>\n",
              "    </tr>\n",
              "    <tr>\n",
              "      <th>Outcome</th>\n",
              "      <td>0.221898</td>\n",
              "      <td>0.466581</td>\n",
              "      <td>0.065068</td>\n",
              "      <td>0.074752</td>\n",
              "      <td>0.130548</td>\n",
              "      <td>0.292695</td>\n",
              "      <td>0.173844</td>\n",
              "      <td>0.238356</td>\n",
              "      <td>1.000000</td>\n",
              "    </tr>\n",
              "  </tbody>\n",
              "</table>\n",
              "</div>"
            ],
            "text/plain": [
              "                          Pregnancies   Glucose  ...       Age   Outcome\n",
              "Pregnancies                  1.000000  0.129459  ...  0.544341  0.221898\n",
              "Glucose                      0.129459  1.000000  ...  0.263514  0.466581\n",
              "BloodPressure                0.141282  0.152590  ...  0.239528  0.065068\n",
              "SkinThickness               -0.081672  0.057328  ... -0.113970  0.074752\n",
              "Insulin                     -0.073535  0.331357  ... -0.042163  0.130548\n",
              "BMI                          0.017683  0.221071  ...  0.036242  0.292695\n",
              "DiabetesPedigreeFunction    -0.033523  0.137337  ...  0.033561  0.173844\n",
              "Age                          0.544341  0.263514  ...  1.000000  0.238356\n",
              "Outcome                      0.221898  0.466581  ...  0.238356  1.000000\n",
              "\n",
              "[9 rows x 9 columns]"
            ]
          },
          "metadata": {
            "tags": []
          },
          "execution_count": 8
        }
      ]
    },
    {
      "cell_type": "markdown",
      "metadata": {
        "id": "pJcQ9sNrML-m"
      },
      "source": [
        "### Nilai Null Setiap Atribut"
      ]
    },
    {
      "cell_type": "code",
      "metadata": {
        "colab": {
          "base_uri": "https://localhost:8080/"
        },
        "id": "UF2TwfVVMdUw",
        "outputId": "4d115e45-af4b-460f-d4fb-36f30b53cb62"
      },
      "source": [
        "data.isnull().sum()"
      ],
      "execution_count": null,
      "outputs": [
        {
          "output_type": "execute_result",
          "data": {
            "text/plain": [
              "Pregnancies                 0\n",
              "Glucose                     0\n",
              "BloodPressure               0\n",
              "SkinThickness               0\n",
              "Insulin                     0\n",
              "BMI                         0\n",
              "DiabetesPedigreeFunction    0\n",
              "Age                         0\n",
              "Outcome                     0\n",
              "dtype: int64"
            ]
          },
          "metadata": {
            "tags": []
          },
          "execution_count": 9
        }
      ]
    },
    {
      "cell_type": "markdown",
      "metadata": {
        "id": "RQH7T6SJMlMA"
      },
      "source": [
        "# **Preprocessing**"
      ]
    },
    {
      "cell_type": "markdown",
      "metadata": {
        "id": "E1l49arrilQD"
      },
      "source": [
        "## Mendeteksi Data Outlier dengan IQR ( Inter Quartile Range )"
      ]
    },
    {
      "cell_type": "markdown",
      "metadata": {
        "id": "olYcT1apjjG2"
      },
      "source": [
        "### Atribut Pregnancies"
      ]
    },
    {
      "cell_type": "markdown",
      "metadata": {
        "id": "69sLqeZSjGeF"
      },
      "source": [
        "Visualisasi IQR dengan Bloxplot"
      ]
    },
    {
      "cell_type": "code",
      "metadata": {
        "colab": {
          "base_uri": "https://localhost:8080/"
        },
        "id": "yDvfSjIqMoMb",
        "outputId": "fa3a6678-38cf-4b3e-c289-3799aa4fd619"
      },
      "source": [
        "plt.figure(figsize = (10, 5))\r\n",
        "sns.boxplot(data['Pregnancies'])\r\n",
        "plt.axvline(data['Pregnancies'].describe()['25%'], color = 'red', label = 'Q1')\r\n",
        "plt.axvline(data['Pregnancies'].describe()['50%'], color = 'yellow', label = 'Q2')\r\n",
        "plt.axvline(data['Pregnancies'].describe()['75%'], color = 'blue', label = 'Q3')\r\n",
        "plt.annotate('Outlier', (data['Pregnancies'].describe()['max'],0.1), xytext = (data['Pregnancies'].describe()['max'],0.3),\r\n",
        "             arrowprops = dict(facecolor = 'blue'), fontsize = 13 )\r\n",
        "\r\n",
        "IQR = data['Pregnancies'].describe()['75%'] - data['Pregnancies'].describe()['25%']\r\n",
        "plt.annotate('Batas Atas', (data['Pregnancies'].describe()['75%'] + 1.5*IQR, 0.2), \r\n",
        "             xytext = (data['Pregnancies'].describe()['75%'] + 1.5*IQR, 0.4),\r\n",
        "             arrowprops = dict(facecolor = 'blue'), fontsize = 13 )\r\n",
        "\r\n",
        "plt.annotate('Batas Bawah', (data['Pregnancies'].describe()['min'], 0.2), \r\n",
        "             xytext = (data['Pregnancies'].describe()['min'], 0.4),\r\n",
        "             arrowprops = dict(facecolor = 'blue'), fontsize = 13 )\r\n",
        "\r\n",
        "plt.legend()"
      ],
      "execution_count": null,
      "outputs": [
        {
          "output_type": "stream",
          "text": [
            "/usr/local/lib/python3.6/dist-packages/seaborn/_decorators.py:43: FutureWarning: Pass the following variable as a keyword arg: x. From version 0.12, the only valid positional argument will be `data`, and passing other arguments without an explicit keyword will result in an error or misinterpretation.\n",
            "  FutureWarning\n"
          ],
          "name": "stderr"
        },
        {
          "output_type": "execute_result",
          "data": {
            "text/plain": [
              "<matplotlib.legend.Legend at 0x7f85c5519f98>"
            ]
          },
          "metadata": {
            "tags": []
          },
          "execution_count": 10
        },
        {
          "output_type": "display_data",
          "data": {
            "image/png": "[encoded data removed]",
            "text/plain": [
              "<Figure size 720x360 with 1 Axes>"
            ]
          },
          "metadata": {
            "tags": [],
            "needs_background": "light"
          }
        }
      ]
    },
    {
      "cell_type": "markdown",
      "metadata": {
        "id": "EY_3dAjBjdR_"
      },
      "source": [
        "Menampilkan Data Outlier"
      ]
    },
    {
      "cell_type": "code",
      "metadata": {
        "id": "Yy1RFTRiU-MK"
      },
      "source": [
        "def detect_outliers(df, x):\r\n",
        "    Q1 = df[x].describe()['25%']\r\n",
        "    Q3 = df[x].describe()['75%']\r\n",
        "    IQR = Q3-Q1\r\n",
        "    return df[(df[x] < Q1-1.5*IQR) | (df[x] > Q3+1.5*IQR)]"
      ],
      "execution_count": null,
      "outputs": []
    },
    {
      "cell_type": "code",
      "metadata": {
        "colab": {
          "base_uri": "https://localhost:8080/"
        },
        "id": "6IE03YX9VDGF",
        "outputId": "0d01373a-e4c4-4462-d5d0-5ef9cfa9f808"
      },
      "source": [
        "detect_outliers(data,'Pregnancies')"
      ],
      "execution_count": null,
      "outputs": [
        {
          "output_type": "execute_result",
          "data": {
            "text/html": [
              "<div>\n",
              "<style scoped>\n",
              "    .dataframe tbody tr th:only-of-type {\n",
              "        vertical-align: middle;\n",
              "    }\n",
              "\n",
              "    .dataframe tbody tr th {\n",
              "        vertical-align: top;\n",
              "    }\n",
              "\n",
              "    .dataframe thead th {\n",
              "        text-align: right;\n",
              "    }\n",
              "</style>\n",
              "<table border=\"1\" class=\"dataframe\">\n",
              "  <thead>\n",
              "    <tr style=\"text-align: right;\">\n",
              "      <th></th>\n",
              "      <th>Pregnancies</th>\n",
              "      <th>Glucose</th>\n",
              "      <th>BloodPressure</th>\n",
              "      <th>SkinThickness</th>\n",
              "      <th>Insulin</th>\n",
              "      <th>BMI</th>\n",
              "      <th>DiabetesPedigreeFunction</th>\n",
              "      <th>Age</th>\n",
              "      <th>Outcome</th>\n",
              "    </tr>\n",
              "  </thead>\n",
              "  <tbody>\n",
              "    <tr>\n",
              "      <th>88</th>\n",
              "      <td>15</td>\n",
              "      <td>136</td>\n",
              "      <td>70</td>\n",
              "      <td>32</td>\n",
              "      <td>110</td>\n",
              "      <td>37.1</td>\n",
              "      <td>0.153</td>\n",
              "      <td>43</td>\n",
              "      <td>1</td>\n",
              "    </tr>\n",
              "    <tr>\n",
              "      <th>159</th>\n",
              "      <td>17</td>\n",
              "      <td>163</td>\n",
              "      <td>72</td>\n",
              "      <td>41</td>\n",
              "      <td>114</td>\n",
              "      <td>40.9</td>\n",
              "      <td>0.817</td>\n",
              "      <td>47</td>\n",
              "      <td>1</td>\n",
              "    </tr>\n",
              "    <tr>\n",
              "      <th>298</th>\n",
              "      <td>14</td>\n",
              "      <td>100</td>\n",
              "      <td>78</td>\n",
              "      <td>25</td>\n",
              "      <td>184</td>\n",
              "      <td>36.6</td>\n",
              "      <td>0.412</td>\n",
              "      <td>46</td>\n",
              "      <td>1</td>\n",
              "    </tr>\n",
              "    <tr>\n",
              "      <th>455</th>\n",
              "      <td>14</td>\n",
              "      <td>175</td>\n",
              "      <td>62</td>\n",
              "      <td>30</td>\n",
              "      <td>0</td>\n",
              "      <td>33.6</td>\n",
              "      <td>0.212</td>\n",
              "      <td>38</td>\n",
              "      <td>1</td>\n",
              "    </tr>\n",
              "  </tbody>\n",
              "</table>\n",
              "</div>"
            ],
            "text/plain": [
              "     Pregnancies  Glucose  ...  Age  Outcome\n",
              "88            15      136  ...   43        1\n",
              "159           17      163  ...   47        1\n",
              "298           14      100  ...   46        1\n",
              "455           14      175  ...   38        1\n",
              "\n",
              "[4 rows x 9 columns]"
            ]
          },
          "metadata": {
            "tags": []
          },
          "execution_count": 12
        }
      ]
    },
    {
      "cell_type": "code",
      "metadata": {
        "colab": {
          "base_uri": "https://localhost:8080/"
        },
        "id": "pWxxO9m6vORh",
        "outputId": "ca852061-2b67-4a26-8177-25ae4181c5bc"
      },
      "source": [
        "pregnancies = detect_outliers(data,'Pregnancies')\r\n",
        "row_pregnancies = pregnancies.index.values.tolist()\r\n",
        "value_pregnancies = pregnancies['Pregnancies'].values.tolist()\r\n",
        "\r\n",
        "print(\"Outlier atribut Pregnancies terdapat pada baris ke :\",row_pregnancies)\r\n",
        "print(\"Outlier atribut Pregnancies bernilai :\",value_pregnancies)"
      ],
      "execution_count": null,
      "outputs": [
        {
          "output_type": "stream",
          "text": [
            "Outlier atribut Pregnancies terdapat pada baris ke : [88, 159, 298, 455]\n",
            "Outlier atribut Pregnancies bernilai : [15, 17, 14, 14]\n"
          ],
          "name": "stdout"
        }
      ]
    },
    {
      "cell_type": "markdown",
      "metadata": {
        "id": "VOKvWh4DvAib"
      },
      "source": [
        "Menghapus Data Outlier"
      ]
    },
    {
      "cell_type": "code",
      "metadata": {
        "colab": {
          "base_uri": "https://localhost:8080/"
        },
        "id": "smHVngw76jun",
        "outputId": "17bf7bf3-8d06-4a65-8996-0325856ad11c"
      },
      "source": [
        "Q1 = data['Pregnancies'].describe()['25%']\r\n",
        "Q3 = data['Pregnancies'].describe()['75%']\r\n",
        "IQR = Q3-Q1\r\n",
        "\r\n",
        "outlier_pregnancies = data[data['Pregnancies'] <= Q3+1.5*IQR]\r\n",
        "outlier_pregnancies.head()"
      ],
      "execution_count": null,
      "outputs": [
        {
          "output_type": "execute_result",
          "data": {
            "text/html": [
              "<div>\n",
              "<style scoped>\n",
              "    .dataframe tbody tr th:only-of-type {\n",
              "        vertical-align: middle;\n",
              "    }\n",
              "\n",
              "    .dataframe tbody tr th {\n",
              "        vertical-align: top;\n",
              "    }\n",
              "\n",
              "    .dataframe thead th {\n",
              "        text-align: right;\n",
              "    }\n",
              "</style>\n",
              "<table border=\"1\" class=\"dataframe\">\n",
              "  <thead>\n",
              "    <tr style=\"text-align: right;\">\n",
              "      <th></th>\n",
              "      <th>Pregnancies</th>\n",
              "      <th>Glucose</th>\n",
              "      <th>BloodPressure</th>\n",
              "      <th>SkinThickness</th>\n",
              "      <th>Insulin</th>\n",
              "      <th>BMI</th>\n",
              "      <th>DiabetesPedigreeFunction</th>\n",
              "      <th>Age</th>\n",
              "      <th>Outcome</th>\n",
              "    </tr>\n",
              "  </thead>\n",
              "  <tbody>\n",
              "    <tr>\n",
              "      <th>0</th>\n",
              "      <td>6</td>\n",
              "      <td>148</td>\n",
              "      <td>72</td>\n",
              "      <td>35</td>\n",
              "      <td>0</td>\n",
              "      <td>33.6</td>\n",
              "      <td>0.627</td>\n",
              "      <td>50</td>\n",
              "      <td>1</td>\n",
              "    </tr>\n",
              "    <tr>\n",
              "      <th>1</th>\n",
              "      <td>1</td>\n",
              "      <td>85</td>\n",
              "      <td>66</td>\n",
              "      <td>29</td>\n",
              "      <td>0</td>\n",
              "      <td>26.6</td>\n",
              "      <td>0.351</td>\n",
              "      <td>31</td>\n",
              "      <td>0</td>\n",
              "    </tr>\n",
              "    <tr>\n",
              "      <th>2</th>\n",
              "      <td>8</td>\n",
              "      <td>183</td>\n",
              "      <td>64</td>\n",
              "      <td>0</td>\n",
              "      <td>0</td>\n",
              "      <td>23.3</td>\n",
              "      <td>0.672</td>\n",
              "      <td>32</td>\n",
              "      <td>1</td>\n",
              "    </tr>\n",
              "    <tr>\n",
              "      <th>3</th>\n",
              "      <td>1</td>\n",
              "      <td>89</td>\n",
              "      <td>66</td>\n",
              "      <td>23</td>\n",
              "      <td>94</td>\n",
              "      <td>28.1</td>\n",
              "      <td>0.167</td>\n",
              "      <td>21</td>\n",
              "      <td>0</td>\n",
              "    </tr>\n",
              "    <tr>\n",
              "      <th>4</th>\n",
              "      <td>0</td>\n",
              "      <td>137</td>\n",
              "      <td>40</td>\n",
              "      <td>35</td>\n",
              "      <td>168</td>\n",
              "      <td>43.1</td>\n",
              "      <td>2.288</td>\n",
              "      <td>33</td>\n",
              "      <td>1</td>\n",
              "    </tr>\n",
              "  </tbody>\n",
              "</table>\n",
              "</div>"
            ],
            "text/plain": [
              "   Pregnancies  Glucose  BloodPressure  ...  DiabetesPedigreeFunction  Age  Outcome\n",
              "0            6      148             72  ...                     0.627   50        1\n",
              "1            1       85             66  ...                     0.351   31        0\n",
              "2            8      183             64  ...                     0.672   32        1\n",
              "3            1       89             66  ...                     0.167   21        0\n",
              "4            0      137             40  ...                     2.288   33        1\n",
              "\n",
              "[5 rows x 9 columns]"
            ]
          },
          "metadata": {
            "tags": []
          },
          "execution_count": 14
        }
      ]
    },
    {
      "cell_type": "markdown",
      "metadata": {
        "id": "7vwKt7cp8JPY"
      },
      "source": [
        "Cek Shape Data Hasil Tanpa Outlier Pregnancies"
      ]
    },
    {
      "cell_type": "code",
      "metadata": {
        "colab": {
          "base_uri": "https://localhost:8080/"
        },
        "id": "JvuP8Ob-77iW",
        "outputId": "d2bc3d08-a2d8-4f99-8d38-3d32e108bd81"
      },
      "source": [
        "outlier_pregnancies.shape"
      ],
      "execution_count": null,
      "outputs": [
        {
          "output_type": "execute_result",
          "data": {
            "text/plain": [
              "(764, 9)"
            ]
          },
          "metadata": {
            "tags": []
          },
          "execution_count": 15
        }
      ]
    },
    {
      "cell_type": "markdown",
      "metadata": {
        "id": "ne4yi7pSq0tv"
      },
      "source": [
        "### Atribut SkinThickness"
      ]
    },
    {
      "cell_type": "markdown",
      "metadata": {
        "id": "Kv7RC74Cq0t7"
      },
      "source": [
        "Visualisasi IQR dengan Bloxplot"
      ]
    },
    {
      "cell_type": "code",
      "metadata": {
        "colab": {
          "base_uri": "https://localhost:8080/"
        },
        "id": "KtO2DW14q0t9",
        "outputId": "f06d85cb-71dd-4181-98be-42eadffe77b4"
      },
      "source": [
        "import matplotlib.pyplot as plt\r\n",
        "import seaborn as sns\r\n",
        "\r\n",
        "plt.figure(figsize = (10, 5))\r\n",
        "sns.boxplot(data['SkinThickness'])\r\n",
        "plt.axvline(data['SkinThickness'].describe()['25%'], color = 'red', label = 'Q1')\r\n",
        "plt.axvline(data['SkinThickness'].describe()['50%'], color = 'yellow', label = 'Q2')\r\n",
        "plt.axvline(data['SkinThickness'].describe()['75%'], color = 'blue', label = 'Q3')\r\n",
        "plt.annotate('Outlier', (data['SkinThickness'].describe()['max'],0.1), xytext = (data['SkinThickness'].describe()['max'],0.3),\r\n",
        "             arrowprops = dict(facecolor = 'blue'), fontsize = 13 )\r\n",
        "IQR = data['SkinThickness'].describe()['75%'] - data['SkinThickness'].describe()['25%']\r\n",
        "plt.annotate('Batas Atas', (data['SkinThickness'].describe()['75%'] + 1.5*IQR, 0.2), \r\n",
        "             xytext = (data['SkinThickness'].describe()['75%'] + 1.5*IQR, 0.4),\r\n",
        "             arrowprops = dict(facecolor = 'blue'), fontsize = 13 )\r\n",
        "plt.annotate('Batas Bawah', (data['SkinThickness'].describe()['min'], 0.2), \r\n",
        "             xytext = (data['SkinThickness'].describe()['min'], 0.4),\r\n",
        "             arrowprops = dict(facecolor = 'blue'), fontsize = 13 )\r\n",
        "plt.legend()"
      ],
      "execution_count": null,
      "outputs": [
        {
          "output_type": "stream",
          "text": [
            "/usr/local/lib/python3.6/dist-packages/seaborn/_decorators.py:43: FutureWarning: Pass the following variable as a keyword arg: x. From version 0.12, the only valid positional argument will be `data`, and passing other arguments without an explicit keyword will result in an error or misinterpretation.\n",
            "  FutureWarning\n"
          ],
          "name": "stderr"
        },
        {
          "output_type": "execute_result",
          "data": {
            "text/plain": [
              "<matplotlib.legend.Legend at 0x7f85bc5926d8>"
            ]
          },
          "metadata": {
            "tags": []
          },
          "execution_count": 16
        },
        {
          "output_type": "display_data",
          "data": {
            "image/png": "[encoded data removed]",
            "text/plain": [
              "<Figure size 720x360 with 1 Axes>"
            ]
          },
          "metadata": {
            "tags": [],
            "needs_background": "light"
          }
        }
      ]
    },
    {
      "cell_type": "markdown",
      "metadata": {
        "id": "qXVA4waFq0uB"
      },
      "source": [
        "Menampilkan Data Outlier"
      ]
    },
    {
      "cell_type": "code",
      "metadata": {
        "id": "6ttrIL-nq0uB"
      },
      "source": [
        "def detect_outliers(df, x):\r\n",
        "    Q1 = df[x].describe()['25%']\r\n",
        "    Q3 = df[x].describe()['75%']\r\n",
        "    IQR = Q3-Q1\r\n",
        "    return df[(df[x] < Q1-1.5*IQR) | (df[x] > Q3+1.5*IQR)]"
      ],
      "execution_count": null,
      "outputs": []
    },
    {
      "cell_type": "code",
      "metadata": {
        "colab": {
          "base_uri": "https://localhost:8080/"
        },
        "id": "AFb6URQMq0uC",
        "outputId": "e7ea7e3c-1406-470f-96e8-c24f68b8b367"
      },
      "source": [
        "detect_outliers(data,'SkinThickness')"
      ],
      "execution_count": null,
      "outputs": [
        {
          "output_type": "execute_result",
          "data": {
            "text/html": [
              "<div>\n",
              "<style scoped>\n",
              "    .dataframe tbody tr th:only-of-type {\n",
              "        vertical-align: middle;\n",
              "    }\n",
              "\n",
              "    .dataframe tbody tr th {\n",
              "        vertical-align: top;\n",
              "    }\n",
              "\n",
              "    .dataframe thead th {\n",
              "        text-align: right;\n",
              "    }\n",
              "</style>\n",
              "<table border=\"1\" class=\"dataframe\">\n",
              "  <thead>\n",
              "    <tr style=\"text-align: right;\">\n",
              "      <th></th>\n",
              "      <th>Pregnancies</th>\n",
              "      <th>Glucose</th>\n",
              "      <th>BloodPressure</th>\n",
              "      <th>SkinThickness</th>\n",
              "      <th>Insulin</th>\n",
              "      <th>BMI</th>\n",
              "      <th>DiabetesPedigreeFunction</th>\n",
              "      <th>Age</th>\n",
              "      <th>Outcome</th>\n",
              "    </tr>\n",
              "  </thead>\n",
              "  <tbody>\n",
              "    <tr>\n",
              "      <th>579</th>\n",
              "      <td>2</td>\n",
              "      <td>197</td>\n",
              "      <td>70</td>\n",
              "      <td>99</td>\n",
              "      <td>0</td>\n",
              "      <td>34.7</td>\n",
              "      <td>0.575</td>\n",
              "      <td>62</td>\n",
              "      <td>1</td>\n",
              "    </tr>\n",
              "  </tbody>\n",
              "</table>\n",
              "</div>"
            ],
            "text/plain": [
              "     Pregnancies  Glucose  ...  Age  Outcome\n",
              "579            2      197  ...   62        1\n",
              "\n",
              "[1 rows x 9 columns]"
            ]
          },
          "metadata": {
            "tags": []
          },
          "execution_count": 18
        }
      ]
    },
    {
      "cell_type": "code",
      "metadata": {
        "colab": {
          "base_uri": "https://localhost:8080/"
        },
        "id": "-wut_-AV8TNV",
        "outputId": "30f6645e-dd2e-434a-9d6d-b6364c3b9a3b"
      },
      "source": [
        "SkinThickness = detect_outliers(data,'SkinThickness')\r\n",
        "row_SkinThickness = SkinThickness.index.values.tolist()\r\n",
        "value_SkinThickness = SkinThickness['SkinThickness'].values.tolist()\r\n",
        "\r\n",
        "print(\"Outlier atribut SkinThickness terdapat pada baris ke :\",row_SkinThickness)\r\n",
        "print(\"Outlier atribut SkinThickness bernilai :\",value_SkinThickness)"
      ],
      "execution_count": null,
      "outputs": [
        {
          "output_type": "stream",
          "text": [
            "Outlier atribut SkinThickness terdapat pada baris ke : [579]\n",
            "Outlier atribut SkinThickness bernilai : [99]\n"
          ],
          "name": "stdout"
        }
      ]
    },
    {
      "cell_type": "markdown",
      "metadata": {
        "id": "nBCRmwYl8mVR"
      },
      "source": [
        "Menghapus Data Outlier"
      ]
    },
    {
      "cell_type": "code",
      "metadata": {
        "colab": {
          "base_uri": "https://localhost:8080/"
        },
        "id": "8nEXyImj8uEP",
        "outputId": "0d6fdd66-87cd-4bb0-d189-ddd8252e840e"
      },
      "source": [
        "Q1 = outlier_pregnancies['SkinThickness'].describe()['25%']\r\n",
        "Q3 = outlier_pregnancies['SkinThickness'].describe()['75%']\r\n",
        "IQR = Q3-Q1\r\n",
        "\r\n",
        "outlier_SkinThickness = outlier_pregnancies[outlier_pregnancies['SkinThickness'] <= Q3+1.5*IQR]\r\n",
        "outlier_SkinThickness.head()"
      ],
      "execution_count": null,
      "outputs": [
        {
          "output_type": "execute_result",
          "data": {
            "text/html": [
              "<div>\n",
              "<style scoped>\n",
              "    .dataframe tbody tr th:only-of-type {\n",
              "        vertical-align: middle;\n",
              "    }\n",
              "\n",
              "    .dataframe tbody tr th {\n",
              "        vertical-align: top;\n",
              "    }\n",
              "\n",
              "    .dataframe thead th {\n",
              "        text-align: right;\n",
              "    }\n",
              "</style>\n",
              "<table border=\"1\" class=\"dataframe\">\n",
              "  <thead>\n",
              "    <tr style=\"text-align: right;\">\n",
              "      <th></th>\n",
              "      <th>Pregnancies</th>\n",
              "      <th>Glucose</th>\n",
              "      <th>BloodPressure</th>\n",
              "      <th>SkinThickness</th>\n",
              "      <th>Insulin</th>\n",
              "      <th>BMI</th>\n",
              "      <th>DiabetesPedigreeFunction</th>\n",
              "      <th>Age</th>\n",
              "      <th>Outcome</th>\n",
              "    </tr>\n",
              "  </thead>\n",
              "  <tbody>\n",
              "    <tr>\n",
              "      <th>0</th>\n",
              "      <td>6</td>\n",
              "      <td>148</td>\n",
              "      <td>72</td>\n",
              "      <td>35</td>\n",
              "      <td>0</td>\n",
              "      <td>33.6</td>\n",
              "      <td>0.627</td>\n",
              "      <td>50</td>\n",
              "      <td>1</td>\n",
              "    </tr>\n",
              "    <tr>\n",
              "      <th>1</th>\n",
              "      <td>1</td>\n",
              "      <td>85</td>\n",
              "      <td>66</td>\n",
              "      <td>29</td>\n",
              "      <td>0</td>\n",
              "      <td>26.6</td>\n",
              "      <td>0.351</td>\n",
              "      <td>31</td>\n",
              "      <td>0</td>\n",
              "    </tr>\n",
              "    <tr>\n",
              "      <th>2</th>\n",
              "      <td>8</td>\n",
              "      <td>183</td>\n",
              "      <td>64</td>\n",
              "      <td>0</td>\n",
              "      <td>0</td>\n",
              "      <td>23.3</td>\n",
              "      <td>0.672</td>\n",
              "      <td>32</td>\n",
              "      <td>1</td>\n",
              "    </tr>\n",
              "    <tr>\n",
              "      <th>3</th>\n",
              "      <td>1</td>\n",
              "      <td>89</td>\n",
              "      <td>66</td>\n",
              "      <td>23</td>\n",
              "      <td>94</td>\n",
              "      <td>28.1</td>\n",
              "      <td>0.167</td>\n",
              "      <td>21</td>\n",
              "      <td>0</td>\n",
              "    </tr>\n",
              "    <tr>\n",
              "      <th>4</th>\n",
              "      <td>0</td>\n",
              "      <td>137</td>\n",
              "      <td>40</td>\n",
              "      <td>35</td>\n",
              "      <td>168</td>\n",
              "      <td>43.1</td>\n",
              "      <td>2.288</td>\n",
              "      <td>33</td>\n",
              "      <td>1</td>\n",
              "    </tr>\n",
              "  </tbody>\n",
              "</table>\n",
              "</div>"
            ],
            "text/plain": [
              "   Pregnancies  Glucose  BloodPressure  ...  DiabetesPedigreeFunction  Age  Outcome\n",
              "0            6      148             72  ...                     0.627   50        1\n",
              "1            1       85             66  ...                     0.351   31        0\n",
              "2            8      183             64  ...                     0.672   32        1\n",
              "3            1       89             66  ...                     0.167   21        0\n",
              "4            0      137             40  ...                     2.288   33        1\n",
              "\n",
              "[5 rows x 9 columns]"
            ]
          },
          "metadata": {
            "tags": []
          },
          "execution_count": 20
        }
      ]
    },
    {
      "cell_type": "markdown",
      "metadata": {
        "id": "6Jx_85NS9Bps"
      },
      "source": [
        "Cek Shape Data Hasil Tanpa Outlier SkinThickness"
      ]
    },
    {
      "cell_type": "code",
      "metadata": {
        "colab": {
          "base_uri": "https://localhost:8080/"
        },
        "id": "1g8V7LsC9FEZ",
        "outputId": "5ddec835-57ee-4d3a-83b3-be3b26809721"
      },
      "source": [
        "outlier_SkinThickness.shape"
      ],
      "execution_count": null,
      "outputs": [
        {
          "output_type": "execute_result",
          "data": {
            "text/plain": [
              "(763, 9)"
            ]
          },
          "metadata": {
            "tags": []
          },
          "execution_count": 21
        }
      ]
    },
    {
      "cell_type": "markdown",
      "metadata": {
        "id": "Wp0YdrMcrZ8J"
      },
      "source": [
        "### Atribut Insulin"
      ]
    },
    {
      "cell_type": "markdown",
      "metadata": {
        "id": "e3t1uu3mrZ8n"
      },
      "source": [
        "Visualisasi IQR dengan Bloxplot"
      ]
    },
    {
      "cell_type": "code",
      "metadata": {
        "colab": {
          "base_uri": "https://localhost:8080/",
          "height": 405
        },
        "id": "u4uyML9irZ8o",
        "outputId": "1f0abbcc-cbe4-4953-a023-9c04d326a9e1"
      },
      "source": [
        "import matplotlib.pyplot as plt\r\n",
        "import seaborn as sns\r\n",
        "\r\n",
        "plt.figure(figsize = (10, 5))\r\n",
        "sns.boxplot(data['Insulin'])\r\n",
        "plt.axvline(data['Insulin'].describe()['25%'], color = 'red', label = 'Q1')\r\n",
        "plt.axvline(data['Insulin'].describe()['50%'], color = 'yellow', label = 'Q2')\r\n",
        "plt.axvline(data['Insulin'].describe()['75%'], color = 'blue', label = 'Q3')\r\n",
        "plt.annotate('Outlier', (data['Insulin'].describe()['max'],0.1), xytext = (data['Insulin'].describe()['max'],0.3),\r\n",
        "             arrowprops = dict(facecolor = 'blue'), fontsize = 13 )\r\n",
        "IQR = data['Insulin'].describe()['75%'] - data['Insulin'].describe()['25%']\r\n",
        "plt.annotate('Batas Atas', (data['Insulin'].describe()['75%'] + 1.5*IQR, 0.2), \r\n",
        "             xytext = (data['Insulin'].describe()['75%'] + 1.5*IQR, 0.4),\r\n",
        "             arrowprops = dict(facecolor = 'blue'), fontsize = 13 )\r\n",
        "plt.annotate('Batas Bawah', (data['Insulin'].describe()['min'], 0.2), \r\n",
        "             xytext = (data['Insulin'].describe()['min'], 0.4),\r\n",
        "             arrowprops = dict(facecolor = 'blue'), fontsize = 13 )\r\n",
        "plt.legend()"
      ],
      "execution_count": null,
      "outputs": [
        {
          "output_type": "stream",
          "text": [
            "/usr/local/lib/python3.6/dist-packages/seaborn/_decorators.py:43: FutureWarning: Pass the following variable as a keyword arg: x. From version 0.12, the only valid positional argument will be `data`, and passing other arguments without an explicit keyword will result in an error or misinterpretation.\n",
            "  FutureWarning\n"
          ],
          "name": "stderr"
        },
        {
          "output_type": "execute_result",
          "data": {
            "text/plain": [
              "<matplotlib.legend.Legend at 0x7f85bbd206d8>"
            ]
          },
          "metadata": {
            "tags": []
          },
          "execution_count": 22
        },
        {
          "output_type": "display_data",
          "data": {
            "image/png": "[encoded data removed]",
            "text/plain": [
              "<Figure size 720x360 with 1 Axes>"
            ]
          },
          "metadata": {
            "tags": [],
            "needs_background": "light"
          }
        }
      ]
    },
    {
      "cell_type": "markdown",
      "metadata": {
        "id": "cAftAjBLrZ8r"
      },
      "source": [
        "Menampilkan Data Outlier"
      ]
    },
    {
      "cell_type": "code",
      "metadata": {
        "id": "5PLS2lF5rZ8r"
      },
      "source": [
        "def detect_outliers(df, x):\r\n",
        "    Q1 = df[x].describe()['25%']\r\n",
        "    Q3 = df[x].describe()['75%']\r\n",
        "    IQR = Q3-Q1\r\n",
        "    return df[(df[x] < Q1-1.5*IQR) | (df[x] > Q3+1.5*IQR)]"
      ],
      "execution_count": null,
      "outputs": []
    },
    {
      "cell_type": "code",
      "metadata": {
        "colab": {
          "base_uri": "https://localhost:8080/",
          "height": 1000
        },
        "id": "mumDIGuDrZ8s",
        "outputId": "abe5405b-1871-4255-c4d6-0c5385d1dd0f"
      },
      "source": [
        "detect_outliers(data,'Insulin')"
      ],
      "execution_count": null,
      "outputs": [
        {
          "output_type": "execute_result",
          "data": {
            "text/html": [
              "<div>\n",
              "<style scoped>\n",
              "    .dataframe tbody tr th:only-of-type {\n",
              "        vertical-align: middle;\n",
              "    }\n",
              "\n",
              "    .dataframe tbody tr th {\n",
              "        vertical-align: top;\n",
              "    }\n",
              "\n",
              "    .dataframe thead th {\n",
              "        text-align: right;\n",
              "    }\n",
              "</style>\n",
              "<table border=\"1\" class=\"dataframe\">\n",
              "  <thead>\n",
              "    <tr style=\"text-align: right;\">\n",
              "      <th></th>\n",
              "      <th>Pregnancies</th>\n",
              "      <th>Glucose</th>\n",
              "      <th>BloodPressure</th>\n",
              "      <th>SkinThickness</th>\n",
              "      <th>Insulin</th>\n",
              "      <th>BMI</th>\n",
              "      <th>DiabetesPedigreeFunction</th>\n",
              "      <th>Age</th>\n",
              "      <th>Outcome</th>\n",
              "    </tr>\n",
              "  </thead>\n",
              "  <tbody>\n",
              "    <tr>\n",
              "      <th>8</th>\n",
              "      <td>2</td>\n",
              "      <td>197</td>\n",
              "      <td>70</td>\n",
              "      <td>45</td>\n",
              "      <td>543</td>\n",
              "      <td>30.5</td>\n",
              "      <td>0.158</td>\n",
              "      <td>53</td>\n",
              "      <td>1</td>\n",
              "    </tr>\n",
              "    <tr>\n",
              "      <th>13</th>\n",
              "      <td>1</td>\n",
              "      <td>189</td>\n",
              "      <td>60</td>\n",
              "      <td>23</td>\n",
              "      <td>846</td>\n",
              "      <td>30.1</td>\n",
              "      <td>0.398</td>\n",
              "      <td>59</td>\n",
              "      <td>1</td>\n",
              "    </tr>\n",
              "    <tr>\n",
              "      <th>54</th>\n",
              "      <td>7</td>\n",
              "      <td>150</td>\n",
              "      <td>66</td>\n",
              "      <td>42</td>\n",
              "      <td>342</td>\n",
              "      <td>34.7</td>\n",
              "      <td>0.718</td>\n",
              "      <td>42</td>\n",
              "      <td>0</td>\n",
              "    </tr>\n",
              "    <tr>\n",
              "      <th>111</th>\n",
              "      <td>8</td>\n",
              "      <td>155</td>\n",
              "      <td>62</td>\n",
              "      <td>26</td>\n",
              "      <td>495</td>\n",
              "      <td>34.0</td>\n",
              "      <td>0.543</td>\n",
              "      <td>46</td>\n",
              "      <td>1</td>\n",
              "    </tr>\n",
              "    <tr>\n",
              "      <th>139</th>\n",
              "      <td>5</td>\n",
              "      <td>105</td>\n",
              "      <td>72</td>\n",
              "      <td>29</td>\n",
              "      <td>325</td>\n",
              "      <td>36.9</td>\n",
              "      <td>0.159</td>\n",
              "      <td>28</td>\n",
              "      <td>0</td>\n",
              "    </tr>\n",
              "    <tr>\n",
              "      <th>153</th>\n",
              "      <td>1</td>\n",
              "      <td>153</td>\n",
              "      <td>82</td>\n",
              "      <td>42</td>\n",
              "      <td>485</td>\n",
              "      <td>40.6</td>\n",
              "      <td>0.687</td>\n",
              "      <td>23</td>\n",
              "      <td>0</td>\n",
              "    </tr>\n",
              "    <tr>\n",
              "      <th>186</th>\n",
              "      <td>8</td>\n",
              "      <td>181</td>\n",
              "      <td>68</td>\n",
              "      <td>36</td>\n",
              "      <td>495</td>\n",
              "      <td>30.1</td>\n",
              "      <td>0.615</td>\n",
              "      <td>60</td>\n",
              "      <td>1</td>\n",
              "    </tr>\n",
              "    <tr>\n",
              "      <th>220</th>\n",
              "      <td>0</td>\n",
              "      <td>177</td>\n",
              "      <td>60</td>\n",
              "      <td>29</td>\n",
              "      <td>478</td>\n",
              "      <td>34.6</td>\n",
              "      <td>1.072</td>\n",
              "      <td>21</td>\n",
              "      <td>1</td>\n",
              "    </tr>\n",
              "    <tr>\n",
              "      <th>228</th>\n",
              "      <td>4</td>\n",
              "      <td>197</td>\n",
              "      <td>70</td>\n",
              "      <td>39</td>\n",
              "      <td>744</td>\n",
              "      <td>36.7</td>\n",
              "      <td>2.329</td>\n",
              "      <td>31</td>\n",
              "      <td>0</td>\n",
              "    </tr>\n",
              "    <tr>\n",
              "      <th>231</th>\n",
              "      <td>6</td>\n",
              "      <td>134</td>\n",
              "      <td>80</td>\n",
              "      <td>37</td>\n",
              "      <td>370</td>\n",
              "      <td>46.2</td>\n",
              "      <td>0.238</td>\n",
              "      <td>46</td>\n",
              "      <td>1</td>\n",
              "    </tr>\n",
              "    <tr>\n",
              "      <th>247</th>\n",
              "      <td>0</td>\n",
              "      <td>165</td>\n",
              "      <td>90</td>\n",
              "      <td>33</td>\n",
              "      <td>680</td>\n",
              "      <td>52.3</td>\n",
              "      <td>0.427</td>\n",
              "      <td>23</td>\n",
              "      <td>0</td>\n",
              "    </tr>\n",
              "    <tr>\n",
              "      <th>248</th>\n",
              "      <td>9</td>\n",
              "      <td>124</td>\n",
              "      <td>70</td>\n",
              "      <td>33</td>\n",
              "      <td>402</td>\n",
              "      <td>35.4</td>\n",
              "      <td>0.282</td>\n",
              "      <td>34</td>\n",
              "      <td>0</td>\n",
              "    </tr>\n",
              "    <tr>\n",
              "      <th>258</th>\n",
              "      <td>1</td>\n",
              "      <td>193</td>\n",
              "      <td>50</td>\n",
              "      <td>16</td>\n",
              "      <td>375</td>\n",
              "      <td>25.9</td>\n",
              "      <td>0.655</td>\n",
              "      <td>24</td>\n",
              "      <td>0</td>\n",
              "    </tr>\n",
              "    <tr>\n",
              "      <th>286</th>\n",
              "      <td>5</td>\n",
              "      <td>155</td>\n",
              "      <td>84</td>\n",
              "      <td>44</td>\n",
              "      <td>545</td>\n",
              "      <td>38.7</td>\n",
              "      <td>0.619</td>\n",
              "      <td>34</td>\n",
              "      <td>0</td>\n",
              "    </tr>\n",
              "    <tr>\n",
              "      <th>296</th>\n",
              "      <td>2</td>\n",
              "      <td>146</td>\n",
              "      <td>70</td>\n",
              "      <td>38</td>\n",
              "      <td>360</td>\n",
              "      <td>28.0</td>\n",
              "      <td>0.337</td>\n",
              "      <td>29</td>\n",
              "      <td>1</td>\n",
              "    </tr>\n",
              "    <tr>\n",
              "      <th>360</th>\n",
              "      <td>5</td>\n",
              "      <td>189</td>\n",
              "      <td>64</td>\n",
              "      <td>33</td>\n",
              "      <td>325</td>\n",
              "      <td>31.2</td>\n",
              "      <td>0.583</td>\n",
              "      <td>29</td>\n",
              "      <td>1</td>\n",
              "    </tr>\n",
              "    <tr>\n",
              "      <th>370</th>\n",
              "      <td>3</td>\n",
              "      <td>173</td>\n",
              "      <td>82</td>\n",
              "      <td>48</td>\n",
              "      <td>465</td>\n",
              "      <td>38.4</td>\n",
              "      <td>2.137</td>\n",
              "      <td>25</td>\n",
              "      <td>1</td>\n",
              "    </tr>\n",
              "    <tr>\n",
              "      <th>375</th>\n",
              "      <td>12</td>\n",
              "      <td>140</td>\n",
              "      <td>82</td>\n",
              "      <td>43</td>\n",
              "      <td>325</td>\n",
              "      <td>39.2</td>\n",
              "      <td>0.528</td>\n",
              "      <td>58</td>\n",
              "      <td>1</td>\n",
              "    </tr>\n",
              "    <tr>\n",
              "      <th>392</th>\n",
              "      <td>1</td>\n",
              "      <td>131</td>\n",
              "      <td>64</td>\n",
              "      <td>14</td>\n",
              "      <td>415</td>\n",
              "      <td>23.7</td>\n",
              "      <td>0.389</td>\n",
              "      <td>21</td>\n",
              "      <td>0</td>\n",
              "    </tr>\n",
              "    <tr>\n",
              "      <th>409</th>\n",
              "      <td>1</td>\n",
              "      <td>172</td>\n",
              "      <td>68</td>\n",
              "      <td>49</td>\n",
              "      <td>579</td>\n",
              "      <td>42.4</td>\n",
              "      <td>0.702</td>\n",
              "      <td>28</td>\n",
              "      <td>1</td>\n",
              "    </tr>\n",
              "    <tr>\n",
              "      <th>415</th>\n",
              "      <td>3</td>\n",
              "      <td>173</td>\n",
              "      <td>84</td>\n",
              "      <td>33</td>\n",
              "      <td>474</td>\n",
              "      <td>35.7</td>\n",
              "      <td>0.258</td>\n",
              "      <td>22</td>\n",
              "      <td>1</td>\n",
              "    </tr>\n",
              "    <tr>\n",
              "      <th>480</th>\n",
              "      <td>3</td>\n",
              "      <td>158</td>\n",
              "      <td>70</td>\n",
              "      <td>30</td>\n",
              "      <td>328</td>\n",
              "      <td>35.5</td>\n",
              "      <td>0.344</td>\n",
              "      <td>35</td>\n",
              "      <td>1</td>\n",
              "    </tr>\n",
              "    <tr>\n",
              "      <th>486</th>\n",
              "      <td>1</td>\n",
              "      <td>139</td>\n",
              "      <td>62</td>\n",
              "      <td>41</td>\n",
              "      <td>480</td>\n",
              "      <td>40.7</td>\n",
              "      <td>0.536</td>\n",
              "      <td>21</td>\n",
              "      <td>0</td>\n",
              "    </tr>\n",
              "    <tr>\n",
              "      <th>519</th>\n",
              "      <td>6</td>\n",
              "      <td>129</td>\n",
              "      <td>90</td>\n",
              "      <td>7</td>\n",
              "      <td>326</td>\n",
              "      <td>19.6</td>\n",
              "      <td>0.582</td>\n",
              "      <td>60</td>\n",
              "      <td>0</td>\n",
              "    </tr>\n",
              "    <tr>\n",
              "      <th>574</th>\n",
              "      <td>1</td>\n",
              "      <td>143</td>\n",
              "      <td>86</td>\n",
              "      <td>30</td>\n",
              "      <td>330</td>\n",
              "      <td>30.1</td>\n",
              "      <td>0.892</td>\n",
              "      <td>23</td>\n",
              "      <td>0</td>\n",
              "    </tr>\n",
              "    <tr>\n",
              "      <th>584</th>\n",
              "      <td>8</td>\n",
              "      <td>124</td>\n",
              "      <td>76</td>\n",
              "      <td>24</td>\n",
              "      <td>600</td>\n",
              "      <td>28.7</td>\n",
              "      <td>0.687</td>\n",
              "      <td>52</td>\n",
              "      <td>1</td>\n",
              "    </tr>\n",
              "    <tr>\n",
              "      <th>612</th>\n",
              "      <td>7</td>\n",
              "      <td>168</td>\n",
              "      <td>88</td>\n",
              "      <td>42</td>\n",
              "      <td>321</td>\n",
              "      <td>38.2</td>\n",
              "      <td>0.787</td>\n",
              "      <td>40</td>\n",
              "      <td>1</td>\n",
              "    </tr>\n",
              "    <tr>\n",
              "      <th>645</th>\n",
              "      <td>2</td>\n",
              "      <td>157</td>\n",
              "      <td>74</td>\n",
              "      <td>35</td>\n",
              "      <td>440</td>\n",
              "      <td>39.4</td>\n",
              "      <td>0.134</td>\n",
              "      <td>30</td>\n",
              "      <td>0</td>\n",
              "    </tr>\n",
              "    <tr>\n",
              "      <th>655</th>\n",
              "      <td>2</td>\n",
              "      <td>155</td>\n",
              "      <td>52</td>\n",
              "      <td>27</td>\n",
              "      <td>540</td>\n",
              "      <td>38.7</td>\n",
              "      <td>0.240</td>\n",
              "      <td>25</td>\n",
              "      <td>1</td>\n",
              "    </tr>\n",
              "    <tr>\n",
              "      <th>695</th>\n",
              "      <td>7</td>\n",
              "      <td>142</td>\n",
              "      <td>90</td>\n",
              "      <td>24</td>\n",
              "      <td>480</td>\n",
              "      <td>30.4</td>\n",
              "      <td>0.128</td>\n",
              "      <td>43</td>\n",
              "      <td>1</td>\n",
              "    </tr>\n",
              "    <tr>\n",
              "      <th>707</th>\n",
              "      <td>2</td>\n",
              "      <td>127</td>\n",
              "      <td>46</td>\n",
              "      <td>21</td>\n",
              "      <td>335</td>\n",
              "      <td>34.4</td>\n",
              "      <td>0.176</td>\n",
              "      <td>22</td>\n",
              "      <td>0</td>\n",
              "    </tr>\n",
              "    <tr>\n",
              "      <th>710</th>\n",
              "      <td>3</td>\n",
              "      <td>158</td>\n",
              "      <td>64</td>\n",
              "      <td>13</td>\n",
              "      <td>387</td>\n",
              "      <td>31.2</td>\n",
              "      <td>0.295</td>\n",
              "      <td>24</td>\n",
              "      <td>0</td>\n",
              "    </tr>\n",
              "    <tr>\n",
              "      <th>715</th>\n",
              "      <td>7</td>\n",
              "      <td>187</td>\n",
              "      <td>50</td>\n",
              "      <td>33</td>\n",
              "      <td>392</td>\n",
              "      <td>33.9</td>\n",
              "      <td>0.826</td>\n",
              "      <td>34</td>\n",
              "      <td>1</td>\n",
              "    </tr>\n",
              "    <tr>\n",
              "      <th>753</th>\n",
              "      <td>0</td>\n",
              "      <td>181</td>\n",
              "      <td>88</td>\n",
              "      <td>44</td>\n",
              "      <td>510</td>\n",
              "      <td>43.3</td>\n",
              "      <td>0.222</td>\n",
              "      <td>26</td>\n",
              "      <td>1</td>\n",
              "    </tr>\n",
              "  </tbody>\n",
              "</table>\n",
              "</div>"
            ],
            "text/plain": [
              "     Pregnancies  Glucose  ...  Age  Outcome\n",
              "8              2      197  ...   53        1\n",
              "13             1      189  ...   59        1\n",
              "54             7      150  ...   42        0\n",
              "111            8      155  ...   46        1\n",
              "139            5      105  ...   28        0\n",
              "153            1      153  ...   23        0\n",
              "186            8      181  ...   60        1\n",
              "220            0      177  ...   21        1\n",
              "228            4      197  ...   31        0\n",
              "231            6      134  ...   46        1\n",
              "247            0      165  ...   23        0\n",
              "248            9      124  ...   34        0\n",
              "258            1      193  ...   24        0\n",
              "286            5      155  ...   34        0\n",
              "296            2      146  ...   29        1\n",
              "360            5      189  ...   29        1\n",
              "370            3      173  ...   25        1\n",
              "375           12      140  ...   58        1\n",
              "392            1      131  ...   21        0\n",
              "409            1      172  ...   28        1\n",
              "415            3      173  ...   22        1\n",
              "480            3      158  ...   35        1\n",
              "486            1      139  ...   21        0\n",
              "519            6      129  ...   60        0\n",
              "574            1      143  ...   23        0\n",
              "584            8      124  ...   52        1\n",
              "612            7      168  ...   40        1\n",
              "645            2      157  ...   30        0\n",
              "655            2      155  ...   25        1\n",
              "695            7      142  ...   43        1\n",
              "707            2      127  ...   22        0\n",
              "710            3      158  ...   24        0\n",
              "715            7      187  ...   34        1\n",
              "753            0      181  ...   26        1\n",
              "\n",
              "[34 rows x 9 columns]"
            ]
          },
          "metadata": {
            "tags": []
          },
          "execution_count": 24
        }
      ]
    },
    {
      "cell_type": "code",
      "metadata": {
        "colab": {
          "base_uri": "https://localhost:8080/"
        },
        "id": "kKDTsD7M9kbQ",
        "outputId": "2bcd8fee-89d1-4b18-ab8a-e04e9af97aa9"
      },
      "source": [
        "Insulin = detect_outliers(data,'Insulin')\r\n",
        "row_Insulin = Insulin.index.values.tolist()\r\n",
        "value_Insulin = Insulin['Insulin'].values.tolist()\r\n",
        "\r\n",
        "print(\"Outlier atribut Insulin terdapat pada baris ke :\",row_Insulin)\r\n",
        "print(\"Outlier atribut Insulin bernilai :\",value_Insulin)"
      ],
      "execution_count": null,
      "outputs": [
        {
          "output_type": "stream",
          "text": [
            "Outlier atribut Insulin terdapat pada baris ke : [8, 13, 54, 111, 139, 153, 186, 220, 228, 231, 247, 248, 258, 286, 296, 360, 370, 375, 392, 409, 415, 480, 486, 519, 574, 584, 612, 645, 655, 695, 707, 710, 715, 753]\n",
            "Outlier atribut Insulin bernilai : [543, 846, 342, 495, 325, 485, 495, 478, 744, 370, 680, 402, 375, 545, 360, 325, 465, 325, 415, 579, 474, 328, 480, 326, 330, 600, 321, 440, 540, 480, 335, 387, 392, 510]\n"
          ],
          "name": "stdout"
        }
      ]
    },
    {
      "cell_type": "markdown",
      "metadata": {
        "id": "IOP5G1hL93yC"
      },
      "source": [
        "Menghapus Data Outlier"
      ]
    },
    {
      "cell_type": "code",
      "metadata": {
        "colab": {
          "base_uri": "https://localhost:8080/",
          "height": 204
        },
        "id": "5sJ1_e0w9yi6",
        "outputId": "fc9b3c27-22fd-4d17-de7c-7c1394ef55f7"
      },
      "source": [
        "Q1 = outlier_SkinThickness['Insulin'].describe()['25%']\r\n",
        "Q3 = outlier_SkinThickness['Insulin'].describe()['75%']\r\n",
        "IQR = Q3-Q1\r\n",
        "\r\n",
        "outlier_Insulin = outlier_SkinThickness[outlier_SkinThickness['Insulin'] <= Q3+1.5*IQR]\r\n",
        "outlier_Insulin.head()"
      ],
      "execution_count": null,
      "outputs": [
        {
          "output_type": "execute_result",
          "data": {
            "text/html": [
              "<div>\n",
              "<style scoped>\n",
              "    .dataframe tbody tr th:only-of-type {\n",
              "        vertical-align: middle;\n",
              "    }\n",
              "\n",
              "    .dataframe tbody tr th {\n",
              "        vertical-align: top;\n",
              "    }\n",
              "\n",
              "    .dataframe thead th {\n",
              "        text-align: right;\n",
              "    }\n",
              "</style>\n",
              "<table border=\"1\" class=\"dataframe\">\n",
              "  <thead>\n",
              "    <tr style=\"text-align: right;\">\n",
              "      <th></th>\n",
              "      <th>Pregnancies</th>\n",
              "      <th>Glucose</th>\n",
              "      <th>BloodPressure</th>\n",
              "      <th>SkinThickness</th>\n",
              "      <th>Insulin</th>\n",
              "      <th>BMI</th>\n",
              "      <th>DiabetesPedigreeFunction</th>\n",
              "      <th>Age</th>\n",
              "      <th>Outcome</th>\n",
              "    </tr>\n",
              "  </thead>\n",
              "  <tbody>\n",
              "    <tr>\n",
              "      <th>0</th>\n",
              "      <td>6</td>\n",
              "      <td>148</td>\n",
              "      <td>72</td>\n",
              "      <td>35</td>\n",
              "      <td>0</td>\n",
              "      <td>33.6</td>\n",
              "      <td>0.627</td>\n",
              "      <td>50</td>\n",
              "      <td>1</td>\n",
              "    </tr>\n",
              "    <tr>\n",
              "      <th>1</th>\n",
              "      <td>1</td>\n",
              "      <td>85</td>\n",
              "      <td>66</td>\n",
              "      <td>29</td>\n",
              "      <td>0</td>\n",
              "      <td>26.6</td>\n",
              "      <td>0.351</td>\n",
              "      <td>31</td>\n",
              "      <td>0</td>\n",
              "    </tr>\n",
              "    <tr>\n",
              "      <th>2</th>\n",
              "      <td>8</td>\n",
              "      <td>183</td>\n",
              "      <td>64</td>\n",
              "      <td>0</td>\n",
              "      <td>0</td>\n",
              "      <td>23.3</td>\n",
              "      <td>0.672</td>\n",
              "      <td>32</td>\n",
              "      <td>1</td>\n",
              "    </tr>\n",
              "    <tr>\n",
              "      <th>3</th>\n",
              "      <td>1</td>\n",
              "      <td>89</td>\n",
              "      <td>66</td>\n",
              "      <td>23</td>\n",
              "      <td>94</td>\n",
              "      <td>28.1</td>\n",
              "      <td>0.167</td>\n",
              "      <td>21</td>\n",
              "      <td>0</td>\n",
              "    </tr>\n",
              "    <tr>\n",
              "      <th>4</th>\n",
              "      <td>0</td>\n",
              "      <td>137</td>\n",
              "      <td>40</td>\n",
              "      <td>35</td>\n",
              "      <td>168</td>\n",
              "      <td>43.1</td>\n",
              "      <td>2.288</td>\n",
              "      <td>33</td>\n",
              "      <td>1</td>\n",
              "    </tr>\n",
              "  </tbody>\n",
              "</table>\n",
              "</div>"
            ],
            "text/plain": [
              "   Pregnancies  Glucose  BloodPressure  ...  DiabetesPedigreeFunction  Age  Outcome\n",
              "0            6      148             72  ...                     0.627   50        1\n",
              "1            1       85             66  ...                     0.351   31        0\n",
              "2            8      183             64  ...                     0.672   32        1\n",
              "3            1       89             66  ...                     0.167   21        0\n",
              "4            0      137             40  ...                     2.288   33        1\n",
              "\n",
              "[5 rows x 9 columns]"
            ]
          },
          "metadata": {
            "tags": []
          },
          "execution_count": 26
        }
      ]
    },
    {
      "cell_type": "markdown",
      "metadata": {
        "id": "08c1h52A-Isi"
      },
      "source": [
        "Cek Shape Data Hasil Tanpa Outlier Insulin"
      ]
    },
    {
      "cell_type": "code",
      "metadata": {
        "colab": {
          "base_uri": "https://localhost:8080/"
        },
        "id": "rQoi7BUU-Jfh",
        "outputId": "cdab2b47-105e-4676-82b1-f312f6f0de06"
      },
      "source": [
        "outlier_Insulin.shape"
      ],
      "execution_count": null,
      "outputs": [
        {
          "output_type": "execute_result",
          "data": {
            "text/plain": [
              "(729, 9)"
            ]
          },
          "metadata": {
            "tags": []
          },
          "execution_count": 27
        }
      ]
    },
    {
      "cell_type": "markdown",
      "metadata": {
        "id": "1mlMLw9ee00w"
      },
      "source": [
        "### Atribut BloodPressure"
      ]
    },
    {
      "cell_type": "markdown",
      "metadata": {
        "id": "Ouf1FiIPe009"
      },
      "source": [
        "Visualisasi IQR dengan Bloxplot"
      ]
    },
    {
      "cell_type": "code",
      "metadata": {
        "colab": {
          "base_uri": "https://localhost:8080/",
          "height": 405
        },
        "id": "JygufFP4e00-",
        "outputId": "47bd22ed-099b-4733-8b89-74f2e3d8860c"
      },
      "source": [
        "import matplotlib.pyplot as plt\r\n",
        "import seaborn as sns\r\n",
        "\r\n",
        "plt.figure(figsize = (10, 5))\r\n",
        "sns.boxplot(data['BloodPressure'])\r\n",
        "plt.axvline(data['BloodPressure'].describe()['25%'], color = 'red', label = 'Q1')\r\n",
        "plt.axvline(data['BloodPressure'].describe()['50%'], color = 'yellow', label = 'Q2')\r\n",
        "plt.axvline(data['BloodPressure'].describe()['75%'], color = 'blue', label = 'Q3')\r\n",
        "plt.annotate('Outlier', (data['BloodPressure'].describe()['max'],0.1), xytext = (data['BloodPressure'].describe()['max'],0.3),\r\n",
        "             arrowprops = dict(facecolor = 'blue'), fontsize = 13 )\r\n",
        "IQR = data['BloodPressure'].describe()['75%'] - data['BloodPressure'].describe()['25%']\r\n",
        "plt.annotate('Batas Atas', (data['BloodPressure'].describe()['75%'] + 1.5*IQR, 0.2), \r\n",
        "             xytext = (data['BloodPressure'].describe()['75%'] + 1.5*IQR, 0.4),\r\n",
        "             arrowprops = dict(facecolor = 'blue'), fontsize = 13 )\r\n",
        "plt.annotate('Batas Bawah', (data['BloodPressure'].describe()['min'], 0.2), \r\n",
        "             xytext = (data['BloodPressure'].describe()['min'], 0.4),\r\n",
        "             arrowprops = dict(facecolor = 'blue'), fontsize = 13 )\r\n",
        "plt.legend()"
      ],
      "execution_count": null,
      "outputs": [
        {
          "output_type": "stream",
          "text": [
            "/usr/local/lib/python3.6/dist-packages/seaborn/_decorators.py:43: FutureWarning: Pass the following variable as a keyword arg: x. From version 0.12, the only valid positional argument will be `data`, and passing other arguments without an explicit keyword will result in an error or misinterpretation.\n",
            "  FutureWarning\n"
          ],
          "name": "stderr"
        },
        {
          "output_type": "execute_result",
          "data": {
            "text/plain": [
              "<matplotlib.legend.Legend at 0x7f85bbcaa470>"
            ]
          },
          "metadata": {
            "tags": []
          },
          "execution_count": 28
        },
        {
          "output_type": "display_data",
          "data": {
            "image/png": "[encoded data removed]",
            "text/plain": [
              "<Figure size 720x360 with 1 Axes>"
            ]
          },
          "metadata": {
            "tags": [],
            "needs_background": "light"
          }
        }
      ]
    },
    {
      "cell_type": "markdown",
      "metadata": {
        "id": "j6HckeoPe01B"
      },
      "source": [
        "Menampilkan Data Outlier"
      ]
    },
    {
      "cell_type": "code",
      "metadata": {
        "id": "Ei0sW4NEe01C"
      },
      "source": [
        "def detect_outliers(df, x):\r\n",
        "    Q1 = df[x].describe()['25%']\r\n",
        "    Q3 = df[x].describe()['75%']\r\n",
        "    IQR = Q3-Q1\r\n",
        "    return df[(df[x] < Q1-1.5*IQR) | (df[x] > Q3+1.5*IQR)]"
      ],
      "execution_count": null,
      "outputs": []
    },
    {
      "cell_type": "code",
      "metadata": {
        "colab": {
          "base_uri": "https://localhost:8080/",
          "height": 1000
        },
        "id": "OVMhMdWXe01D",
        "outputId": "f068d1d2-89ff-4ec3-cc03-41e5ce2435f8"
      },
      "source": [
        "detect_outliers(data,'BloodPressure')"
      ],
      "execution_count": null,
      "outputs": [
        {
          "output_type": "execute_result",
          "data": {
            "text/html": [
              "<div>\n",
              "<style scoped>\n",
              "    .dataframe tbody tr th:only-of-type {\n",
              "        vertical-align: middle;\n",
              "    }\n",
              "\n",
              "    .dataframe tbody tr th {\n",
              "        vertical-align: top;\n",
              "    }\n",
              "\n",
              "    .dataframe thead th {\n",
              "        text-align: right;\n",
              "    }\n",
              "</style>\n",
              "<table border=\"1\" class=\"dataframe\">\n",
              "  <thead>\n",
              "    <tr style=\"text-align: right;\">\n",
              "      <th></th>\n",
              "      <th>Pregnancies</th>\n",
              "      <th>Glucose</th>\n",
              "      <th>BloodPressure</th>\n",
              "      <th>SkinThickness</th>\n",
              "      <th>Insulin</th>\n",
              "      <th>BMI</th>\n",
              "      <th>DiabetesPedigreeFunction</th>\n",
              "      <th>Age</th>\n",
              "      <th>Outcome</th>\n",
              "    </tr>\n",
              "  </thead>\n",
              "  <tbody>\n",
              "    <tr>\n",
              "      <th>7</th>\n",
              "      <td>10</td>\n",
              "      <td>115</td>\n",
              "      <td>0</td>\n",
              "      <td>0</td>\n",
              "      <td>0</td>\n",
              "      <td>35.3</td>\n",
              "      <td>0.134</td>\n",
              "      <td>29</td>\n",
              "      <td>0</td>\n",
              "    </tr>\n",
              "    <tr>\n",
              "      <th>15</th>\n",
              "      <td>7</td>\n",
              "      <td>100</td>\n",
              "      <td>0</td>\n",
              "      <td>0</td>\n",
              "      <td>0</td>\n",
              "      <td>30.0</td>\n",
              "      <td>0.484</td>\n",
              "      <td>32</td>\n",
              "      <td>1</td>\n",
              "    </tr>\n",
              "    <tr>\n",
              "      <th>18</th>\n",
              "      <td>1</td>\n",
              "      <td>103</td>\n",
              "      <td>30</td>\n",
              "      <td>38</td>\n",
              "      <td>83</td>\n",
              "      <td>43.3</td>\n",
              "      <td>0.183</td>\n",
              "      <td>33</td>\n",
              "      <td>0</td>\n",
              "    </tr>\n",
              "    <tr>\n",
              "      <th>43</th>\n",
              "      <td>9</td>\n",
              "      <td>171</td>\n",
              "      <td>110</td>\n",
              "      <td>24</td>\n",
              "      <td>240</td>\n",
              "      <td>45.4</td>\n",
              "      <td>0.721</td>\n",
              "      <td>54</td>\n",
              "      <td>1</td>\n",
              "    </tr>\n",
              "    <tr>\n",
              "      <th>49</th>\n",
              "      <td>7</td>\n",
              "      <td>105</td>\n",
              "      <td>0</td>\n",
              "      <td>0</td>\n",
              "      <td>0</td>\n",
              "      <td>0.0</td>\n",
              "      <td>0.305</td>\n",
              "      <td>24</td>\n",
              "      <td>0</td>\n",
              "    </tr>\n",
              "    <tr>\n",
              "      <th>60</th>\n",
              "      <td>2</td>\n",
              "      <td>84</td>\n",
              "      <td>0</td>\n",
              "      <td>0</td>\n",
              "      <td>0</td>\n",
              "      <td>0.0</td>\n",
              "      <td>0.304</td>\n",
              "      <td>21</td>\n",
              "      <td>0</td>\n",
              "    </tr>\n",
              "    <tr>\n",
              "      <th>78</th>\n",
              "      <td>0</td>\n",
              "      <td>131</td>\n",
              "      <td>0</td>\n",
              "      <td>0</td>\n",
              "      <td>0</td>\n",
              "      <td>43.2</td>\n",
              "      <td>0.270</td>\n",
              "      <td>26</td>\n",
              "      <td>1</td>\n",
              "    </tr>\n",
              "    <tr>\n",
              "      <th>81</th>\n",
              "      <td>2</td>\n",
              "      <td>74</td>\n",
              "      <td>0</td>\n",
              "      <td>0</td>\n",
              "      <td>0</td>\n",
              "      <td>0.0</td>\n",
              "      <td>0.102</td>\n",
              "      <td>22</td>\n",
              "      <td>0</td>\n",
              "    </tr>\n",
              "    <tr>\n",
              "      <th>84</th>\n",
              "      <td>5</td>\n",
              "      <td>137</td>\n",
              "      <td>108</td>\n",
              "      <td>0</td>\n",
              "      <td>0</td>\n",
              "      <td>48.8</td>\n",
              "      <td>0.227</td>\n",
              "      <td>37</td>\n",
              "      <td>1</td>\n",
              "    </tr>\n",
              "    <tr>\n",
              "      <th>106</th>\n",
              "      <td>1</td>\n",
              "      <td>96</td>\n",
              "      <td>122</td>\n",
              "      <td>0</td>\n",
              "      <td>0</td>\n",
              "      <td>22.4</td>\n",
              "      <td>0.207</td>\n",
              "      <td>27</td>\n",
              "      <td>0</td>\n",
              "    </tr>\n",
              "    <tr>\n",
              "      <th>125</th>\n",
              "      <td>1</td>\n",
              "      <td>88</td>\n",
              "      <td>30</td>\n",
              "      <td>42</td>\n",
              "      <td>99</td>\n",
              "      <td>55.0</td>\n",
              "      <td>0.496</td>\n",
              "      <td>26</td>\n",
              "      <td>1</td>\n",
              "    </tr>\n",
              "    <tr>\n",
              "      <th>172</th>\n",
              "      <td>2</td>\n",
              "      <td>87</td>\n",
              "      <td>0</td>\n",
              "      <td>23</td>\n",
              "      <td>0</td>\n",
              "      <td>28.9</td>\n",
              "      <td>0.773</td>\n",
              "      <td>25</td>\n",
              "      <td>0</td>\n",
              "    </tr>\n",
              "    <tr>\n",
              "      <th>177</th>\n",
              "      <td>0</td>\n",
              "      <td>129</td>\n",
              "      <td>110</td>\n",
              "      <td>46</td>\n",
              "      <td>130</td>\n",
              "      <td>67.1</td>\n",
              "      <td>0.319</td>\n",
              "      <td>26</td>\n",
              "      <td>1</td>\n",
              "    </tr>\n",
              "    <tr>\n",
              "      <th>193</th>\n",
              "      <td>11</td>\n",
              "      <td>135</td>\n",
              "      <td>0</td>\n",
              "      <td>0</td>\n",
              "      <td>0</td>\n",
              "      <td>52.3</td>\n",
              "      <td>0.578</td>\n",
              "      <td>40</td>\n",
              "      <td>1</td>\n",
              "    </tr>\n",
              "    <tr>\n",
              "      <th>222</th>\n",
              "      <td>7</td>\n",
              "      <td>119</td>\n",
              "      <td>0</td>\n",
              "      <td>0</td>\n",
              "      <td>0</td>\n",
              "      <td>25.2</td>\n",
              "      <td>0.209</td>\n",
              "      <td>37</td>\n",
              "      <td>0</td>\n",
              "    </tr>\n",
              "    <tr>\n",
              "      <th>261</th>\n",
              "      <td>3</td>\n",
              "      <td>141</td>\n",
              "      <td>0</td>\n",
              "      <td>0</td>\n",
              "      <td>0</td>\n",
              "      <td>30.0</td>\n",
              "      <td>0.761</td>\n",
              "      <td>27</td>\n",
              "      <td>1</td>\n",
              "    </tr>\n",
              "    <tr>\n",
              "      <th>266</th>\n",
              "      <td>0</td>\n",
              "      <td>138</td>\n",
              "      <td>0</td>\n",
              "      <td>0</td>\n",
              "      <td>0</td>\n",
              "      <td>36.3</td>\n",
              "      <td>0.933</td>\n",
              "      <td>25</td>\n",
              "      <td>1</td>\n",
              "    </tr>\n",
              "    <tr>\n",
              "      <th>269</th>\n",
              "      <td>2</td>\n",
              "      <td>146</td>\n",
              "      <td>0</td>\n",
              "      <td>0</td>\n",
              "      <td>0</td>\n",
              "      <td>27.5</td>\n",
              "      <td>0.240</td>\n",
              "      <td>28</td>\n",
              "      <td>1</td>\n",
              "    </tr>\n",
              "    <tr>\n",
              "      <th>300</th>\n",
              "      <td>0</td>\n",
              "      <td>167</td>\n",
              "      <td>0</td>\n",
              "      <td>0</td>\n",
              "      <td>0</td>\n",
              "      <td>32.3</td>\n",
              "      <td>0.839</td>\n",
              "      <td>30</td>\n",
              "      <td>1</td>\n",
              "    </tr>\n",
              "    <tr>\n",
              "      <th>332</th>\n",
              "      <td>1</td>\n",
              "      <td>180</td>\n",
              "      <td>0</td>\n",
              "      <td>0</td>\n",
              "      <td>0</td>\n",
              "      <td>43.3</td>\n",
              "      <td>0.282</td>\n",
              "      <td>41</td>\n",
              "      <td>1</td>\n",
              "    </tr>\n",
              "    <tr>\n",
              "      <th>336</th>\n",
              "      <td>0</td>\n",
              "      <td>117</td>\n",
              "      <td>0</td>\n",
              "      <td>0</td>\n",
              "      <td>0</td>\n",
              "      <td>33.8</td>\n",
              "      <td>0.932</td>\n",
              "      <td>44</td>\n",
              "      <td>0</td>\n",
              "    </tr>\n",
              "    <tr>\n",
              "      <th>347</th>\n",
              "      <td>3</td>\n",
              "      <td>116</td>\n",
              "      <td>0</td>\n",
              "      <td>0</td>\n",
              "      <td>0</td>\n",
              "      <td>23.5</td>\n",
              "      <td>0.187</td>\n",
              "      <td>23</td>\n",
              "      <td>0</td>\n",
              "    </tr>\n",
              "    <tr>\n",
              "      <th>357</th>\n",
              "      <td>13</td>\n",
              "      <td>129</td>\n",
              "      <td>0</td>\n",
              "      <td>30</td>\n",
              "      <td>0</td>\n",
              "      <td>39.9</td>\n",
              "      <td>0.569</td>\n",
              "      <td>44</td>\n",
              "      <td>1</td>\n",
              "    </tr>\n",
              "    <tr>\n",
              "      <th>362</th>\n",
              "      <td>5</td>\n",
              "      <td>103</td>\n",
              "      <td>108</td>\n",
              "      <td>37</td>\n",
              "      <td>0</td>\n",
              "      <td>39.2</td>\n",
              "      <td>0.305</td>\n",
              "      <td>65</td>\n",
              "      <td>0</td>\n",
              "    </tr>\n",
              "    <tr>\n",
              "      <th>426</th>\n",
              "      <td>0</td>\n",
              "      <td>94</td>\n",
              "      <td>0</td>\n",
              "      <td>0</td>\n",
              "      <td>0</td>\n",
              "      <td>0.0</td>\n",
              "      <td>0.256</td>\n",
              "      <td>25</td>\n",
              "      <td>0</td>\n",
              "    </tr>\n",
              "    <tr>\n",
              "      <th>430</th>\n",
              "      <td>2</td>\n",
              "      <td>99</td>\n",
              "      <td>0</td>\n",
              "      <td>0</td>\n",
              "      <td>0</td>\n",
              "      <td>22.2</td>\n",
              "      <td>0.108</td>\n",
              "      <td>23</td>\n",
              "      <td>0</td>\n",
              "    </tr>\n",
              "    <tr>\n",
              "      <th>435</th>\n",
              "      <td>0</td>\n",
              "      <td>141</td>\n",
              "      <td>0</td>\n",
              "      <td>0</td>\n",
              "      <td>0</td>\n",
              "      <td>42.4</td>\n",
              "      <td>0.205</td>\n",
              "      <td>29</td>\n",
              "      <td>1</td>\n",
              "    </tr>\n",
              "    <tr>\n",
              "      <th>453</th>\n",
              "      <td>2</td>\n",
              "      <td>119</td>\n",
              "      <td>0</td>\n",
              "      <td>0</td>\n",
              "      <td>0</td>\n",
              "      <td>19.6</td>\n",
              "      <td>0.832</td>\n",
              "      <td>72</td>\n",
              "      <td>0</td>\n",
              "    </tr>\n",
              "    <tr>\n",
              "      <th>468</th>\n",
              "      <td>8</td>\n",
              "      <td>120</td>\n",
              "      <td>0</td>\n",
              "      <td>0</td>\n",
              "      <td>0</td>\n",
              "      <td>30.0</td>\n",
              "      <td>0.183</td>\n",
              "      <td>38</td>\n",
              "      <td>1</td>\n",
              "    </tr>\n",
              "    <tr>\n",
              "      <th>484</th>\n",
              "      <td>0</td>\n",
              "      <td>145</td>\n",
              "      <td>0</td>\n",
              "      <td>0</td>\n",
              "      <td>0</td>\n",
              "      <td>44.2</td>\n",
              "      <td>0.630</td>\n",
              "      <td>31</td>\n",
              "      <td>1</td>\n",
              "    </tr>\n",
              "    <tr>\n",
              "      <th>494</th>\n",
              "      <td>3</td>\n",
              "      <td>80</td>\n",
              "      <td>0</td>\n",
              "      <td>0</td>\n",
              "      <td>0</td>\n",
              "      <td>0.0</td>\n",
              "      <td>0.174</td>\n",
              "      <td>22</td>\n",
              "      <td>0</td>\n",
              "    </tr>\n",
              "    <tr>\n",
              "      <th>522</th>\n",
              "      <td>6</td>\n",
              "      <td>114</td>\n",
              "      <td>0</td>\n",
              "      <td>0</td>\n",
              "      <td>0</td>\n",
              "      <td>0.0</td>\n",
              "      <td>0.189</td>\n",
              "      <td>26</td>\n",
              "      <td>0</td>\n",
              "    </tr>\n",
              "    <tr>\n",
              "      <th>533</th>\n",
              "      <td>6</td>\n",
              "      <td>91</td>\n",
              "      <td>0</td>\n",
              "      <td>0</td>\n",
              "      <td>0</td>\n",
              "      <td>29.8</td>\n",
              "      <td>0.501</td>\n",
              "      <td>31</td>\n",
              "      <td>0</td>\n",
              "    </tr>\n",
              "    <tr>\n",
              "      <th>535</th>\n",
              "      <td>4</td>\n",
              "      <td>132</td>\n",
              "      <td>0</td>\n",
              "      <td>0</td>\n",
              "      <td>0</td>\n",
              "      <td>32.9</td>\n",
              "      <td>0.302</td>\n",
              "      <td>23</td>\n",
              "      <td>1</td>\n",
              "    </tr>\n",
              "    <tr>\n",
              "      <th>549</th>\n",
              "      <td>4</td>\n",
              "      <td>189</td>\n",
              "      <td>110</td>\n",
              "      <td>31</td>\n",
              "      <td>0</td>\n",
              "      <td>28.5</td>\n",
              "      <td>0.680</td>\n",
              "      <td>37</td>\n",
              "      <td>0</td>\n",
              "    </tr>\n",
              "    <tr>\n",
              "      <th>589</th>\n",
              "      <td>0</td>\n",
              "      <td>73</td>\n",
              "      <td>0</td>\n",
              "      <td>0</td>\n",
              "      <td>0</td>\n",
              "      <td>21.1</td>\n",
              "      <td>0.342</td>\n",
              "      <td>25</td>\n",
              "      <td>0</td>\n",
              "    </tr>\n",
              "    <tr>\n",
              "      <th>597</th>\n",
              "      <td>1</td>\n",
              "      <td>89</td>\n",
              "      <td>24</td>\n",
              "      <td>19</td>\n",
              "      <td>25</td>\n",
              "      <td>27.8</td>\n",
              "      <td>0.559</td>\n",
              "      <td>21</td>\n",
              "      <td>0</td>\n",
              "    </tr>\n",
              "    <tr>\n",
              "      <th>601</th>\n",
              "      <td>6</td>\n",
              "      <td>96</td>\n",
              "      <td>0</td>\n",
              "      <td>0</td>\n",
              "      <td>0</td>\n",
              "      <td>23.7</td>\n",
              "      <td>0.190</td>\n",
              "      <td>28</td>\n",
              "      <td>0</td>\n",
              "    </tr>\n",
              "    <tr>\n",
              "      <th>604</th>\n",
              "      <td>4</td>\n",
              "      <td>183</td>\n",
              "      <td>0</td>\n",
              "      <td>0</td>\n",
              "      <td>0</td>\n",
              "      <td>28.4</td>\n",
              "      <td>0.212</td>\n",
              "      <td>36</td>\n",
              "      <td>1</td>\n",
              "    </tr>\n",
              "    <tr>\n",
              "      <th>619</th>\n",
              "      <td>0</td>\n",
              "      <td>119</td>\n",
              "      <td>0</td>\n",
              "      <td>0</td>\n",
              "      <td>0</td>\n",
              "      <td>32.4</td>\n",
              "      <td>0.141</td>\n",
              "      <td>24</td>\n",
              "      <td>1</td>\n",
              "    </tr>\n",
              "    <tr>\n",
              "      <th>643</th>\n",
              "      <td>4</td>\n",
              "      <td>90</td>\n",
              "      <td>0</td>\n",
              "      <td>0</td>\n",
              "      <td>0</td>\n",
              "      <td>28.0</td>\n",
              "      <td>0.610</td>\n",
              "      <td>31</td>\n",
              "      <td>0</td>\n",
              "    </tr>\n",
              "    <tr>\n",
              "      <th>691</th>\n",
              "      <td>13</td>\n",
              "      <td>158</td>\n",
              "      <td>114</td>\n",
              "      <td>0</td>\n",
              "      <td>0</td>\n",
              "      <td>42.3</td>\n",
              "      <td>0.257</td>\n",
              "      <td>44</td>\n",
              "      <td>1</td>\n",
              "    </tr>\n",
              "    <tr>\n",
              "      <th>697</th>\n",
              "      <td>0</td>\n",
              "      <td>99</td>\n",
              "      <td>0</td>\n",
              "      <td>0</td>\n",
              "      <td>0</td>\n",
              "      <td>25.0</td>\n",
              "      <td>0.253</td>\n",
              "      <td>22</td>\n",
              "      <td>0</td>\n",
              "    </tr>\n",
              "    <tr>\n",
              "      <th>703</th>\n",
              "      <td>2</td>\n",
              "      <td>129</td>\n",
              "      <td>0</td>\n",
              "      <td>0</td>\n",
              "      <td>0</td>\n",
              "      <td>38.5</td>\n",
              "      <td>0.304</td>\n",
              "      <td>41</td>\n",
              "      <td>0</td>\n",
              "    </tr>\n",
              "    <tr>\n",
              "      <th>706</th>\n",
              "      <td>10</td>\n",
              "      <td>115</td>\n",
              "      <td>0</td>\n",
              "      <td>0</td>\n",
              "      <td>0</td>\n",
              "      <td>0.0</td>\n",
              "      <td>0.261</td>\n",
              "      <td>30</td>\n",
              "      <td>1</td>\n",
              "    </tr>\n",
              "  </tbody>\n",
              "</table>\n",
              "</div>"
            ],
            "text/plain": [
              "     Pregnancies  Glucose  ...  Age  Outcome\n",
              "7             10      115  ...   29        0\n",
              "15             7      100  ...   32        1\n",
              "18             1      103  ...   33        0\n",
              "43             9      171  ...   54        1\n",
              "49             7      105  ...   24        0\n",
              "60             2       84  ...   21        0\n",
              "78             0      131  ...   26        1\n",
              "81             2       74  ...   22        0\n",
              "84             5      137  ...   37        1\n",
              "106            1       96  ...   27        0\n",
              "125            1       88  ...   26        1\n",
              "172            2       87  ...   25        0\n",
              "177            0      129  ...   26        1\n",
              "193           11      135  ...   40        1\n",
              "222            7      119  ...   37        0\n",
              "261            3      141  ...   27        1\n",
              "266            0      138  ...   25        1\n",
              "269            2      146  ...   28        1\n",
              "300            0      167  ...   30        1\n",
              "332            1      180  ...   41        1\n",
              "336            0      117  ...   44        0\n",
              "347            3      116  ...   23        0\n",
              "357           13      129  ...   44        1\n",
              "362            5      103  ...   65        0\n",
              "426            0       94  ...   25        0\n",
              "430            2       99  ...   23        0\n",
              "435            0      141  ...   29        1\n",
              "453            2      119  ...   72        0\n",
              "468            8      120  ...   38        1\n",
              "484            0      145  ...   31        1\n",
              "494            3       80  ...   22        0\n",
              "522            6      114  ...   26        0\n",
              "533            6       91  ...   31        0\n",
              "535            4      132  ...   23        1\n",
              "549            4      189  ...   37        0\n",
              "589            0       73  ...   25        0\n",
              "597            1       89  ...   21        0\n",
              "601            6       96  ...   28        0\n",
              "604            4      183  ...   36        1\n",
              "619            0      119  ...   24        1\n",
              "643            4       90  ...   31        0\n",
              "691           13      158  ...   44        1\n",
              "697            0       99  ...   22        0\n",
              "703            2      129  ...   41        0\n",
              "706           10      115  ...   30        1\n",
              "\n",
              "[45 rows x 9 columns]"
            ]
          },
          "metadata": {
            "tags": []
          },
          "execution_count": 30
        }
      ]
    },
    {
      "cell_type": "code",
      "metadata": {
        "colab": {
          "base_uri": "https://localhost:8080/"
        },
        "id": "OqLlP2rCe01E",
        "outputId": "4b8681ca-7682-4a9e-e498-2712026a0724"
      },
      "source": [
        "BloodPressure = detect_outliers(data,'BloodPressure')\r\n",
        "row_BloodPressure = BloodPressure.index.values.tolist()\r\n",
        "value_BloodPressure = BloodPressure['BloodPressure'].values.tolist()\r\n",
        "\r\n",
        "print(\"Outlier atribut BloodPressure terdapat pada baris ke :\",row_BloodPressure)\r\n",
        "print(\"Outlier atribut BloodPressure bernilai :\",value_BloodPressure)"
      ],
      "execution_count": null,
      "outputs": [
        {
          "output_type": "stream",
          "text": [
            "Outlier atribut BloodPressure terdapat pada baris ke : [7, 15, 18, 43, 49, 60, 78, 81, 84, 106, 125, 172, 177, 193, 222, 261, 266, 269, 300, 332, 336, 347, 357, 362, 426, 430, 435, 453, 468, 484, 494, 522, 533, 535, 549, 589, 597, 601, 604, 619, 643, 691, 697, 703, 706]\n",
            "Outlier atribut BloodPressure bernilai : [0, 0, 30, 110, 0, 0, 0, 0, 108, 122, 30, 0, 110, 0, 0, 0, 0, 0, 0, 0, 0, 0, 0, 108, 0, 0, 0, 0, 0, 0, 0, 0, 0, 0, 110, 0, 24, 0, 0, 0, 0, 114, 0, 0, 0]\n"
          ],
          "name": "stdout"
        }
      ]
    },
    {
      "cell_type": "markdown",
      "metadata": {
        "id": "Ts4rElE7e01F"
      },
      "source": [
        "Menghapus Data Outlier"
      ]
    },
    {
      "cell_type": "code",
      "metadata": {
        "colab": {
          "base_uri": "https://localhost:8080/",
          "height": 204
        },
        "id": "7ZE_TOzQe01G",
        "outputId": "0d27df6a-aa7b-405d-c8bb-1fc03a371977"
      },
      "source": [
        "Q1 = outlier_Insulin['BloodPressure'].describe()['25%']\r\n",
        "Q3 = outlier_Insulin['BloodPressure'].describe()['75%']\r\n",
        "IQR = Q3-Q1\r\n",
        "\r\n",
        "outlier_BloodPressure = outlier_Insulin[outlier_Insulin['BloodPressure'] <= Q3+1.5*IQR]\r\n",
        "outlier_BloodPressure = outlier_BloodPressure[outlier_BloodPressure['BloodPressure'] >= Q1-1.5*IQR]\r\n",
        "outlier_BloodPressure.head()"
      ],
      "execution_count": null,
      "outputs": [
        {
          "output_type": "execute_result",
          "data": {
            "text/html": [
              "<div>\n",
              "<style scoped>\n",
              "    .dataframe tbody tr th:only-of-type {\n",
              "        vertical-align: middle;\n",
              "    }\n",
              "\n",
              "    .dataframe tbody tr th {\n",
              "        vertical-align: top;\n",
              "    }\n",
              "\n",
              "    .dataframe thead th {\n",
              "        text-align: right;\n",
              "    }\n",
              "</style>\n",
              "<table border=\"1\" class=\"dataframe\">\n",
              "  <thead>\n",
              "    <tr style=\"text-align: right;\">\n",
              "      <th></th>\n",
              "      <th>Pregnancies</th>\n",
              "      <th>Glucose</th>\n",
              "      <th>BloodPressure</th>\n",
              "      <th>SkinThickness</th>\n",
              "      <th>Insulin</th>\n",
              "      <th>BMI</th>\n",
              "      <th>DiabetesPedigreeFunction</th>\n",
              "      <th>Age</th>\n",
              "      <th>Outcome</th>\n",
              "    </tr>\n",
              "  </thead>\n",
              "  <tbody>\n",
              "    <tr>\n",
              "      <th>0</th>\n",
              "      <td>6</td>\n",
              "      <td>148</td>\n",
              "      <td>72</td>\n",
              "      <td>35</td>\n",
              "      <td>0</td>\n",
              "      <td>33.6</td>\n",
              "      <td>0.627</td>\n",
              "      <td>50</td>\n",
              "      <td>1</td>\n",
              "    </tr>\n",
              "    <tr>\n",
              "      <th>1</th>\n",
              "      <td>1</td>\n",
              "      <td>85</td>\n",
              "      <td>66</td>\n",
              "      <td>29</td>\n",
              "      <td>0</td>\n",
              "      <td>26.6</td>\n",
              "      <td>0.351</td>\n",
              "      <td>31</td>\n",
              "      <td>0</td>\n",
              "    </tr>\n",
              "    <tr>\n",
              "      <th>2</th>\n",
              "      <td>8</td>\n",
              "      <td>183</td>\n",
              "      <td>64</td>\n",
              "      <td>0</td>\n",
              "      <td>0</td>\n",
              "      <td>23.3</td>\n",
              "      <td>0.672</td>\n",
              "      <td>32</td>\n",
              "      <td>1</td>\n",
              "    </tr>\n",
              "    <tr>\n",
              "      <th>3</th>\n",
              "      <td>1</td>\n",
              "      <td>89</td>\n",
              "      <td>66</td>\n",
              "      <td>23</td>\n",
              "      <td>94</td>\n",
              "      <td>28.1</td>\n",
              "      <td>0.167</td>\n",
              "      <td>21</td>\n",
              "      <td>0</td>\n",
              "    </tr>\n",
              "    <tr>\n",
              "      <th>4</th>\n",
              "      <td>0</td>\n",
              "      <td>137</td>\n",
              "      <td>40</td>\n",
              "      <td>35</td>\n",
              "      <td>168</td>\n",
              "      <td>43.1</td>\n",
              "      <td>2.288</td>\n",
              "      <td>33</td>\n",
              "      <td>1</td>\n",
              "    </tr>\n",
              "  </tbody>\n",
              "</table>\n",
              "</div>"
            ],
            "text/plain": [
              "   Pregnancies  Glucose  BloodPressure  ...  DiabetesPedigreeFunction  Age  Outcome\n",
              "0            6      148             72  ...                     0.627   50        1\n",
              "1            1       85             66  ...                     0.351   31        0\n",
              "2            8      183             64  ...                     0.672   32        1\n",
              "3            1       89             66  ...                     0.167   21        0\n",
              "4            0      137             40  ...                     2.288   33        1\n",
              "\n",
              "[5 rows x 9 columns]"
            ]
          },
          "metadata": {
            "tags": []
          },
          "execution_count": 32
        }
      ]
    },
    {
      "cell_type": "markdown",
      "metadata": {
        "id": "4pLXrmA-e01I"
      },
      "source": [
        "Cek Shape Data Hasil Tanpa Outlier BloodPressure"
      ]
    },
    {
      "cell_type": "code",
      "metadata": {
        "colab": {
          "base_uri": "https://localhost:8080/"
        },
        "id": "Vbi-Bnkoe01I",
        "outputId": "052b9564-dfbe-43ef-dcfe-863282221005"
      },
      "source": [
        "outlier_BloodPressure.shape"
      ],
      "execution_count": null,
      "outputs": [
        {
          "output_type": "execute_result",
          "data": {
            "text/plain": [
              "(684, 9)"
            ]
          },
          "metadata": {
            "tags": []
          },
          "execution_count": 33
        }
      ]
    },
    {
      "cell_type": "markdown",
      "metadata": {
        "id": "Alu0iQX7kG68"
      },
      "source": [
        "### Atribut Glucose"
      ]
    },
    {
      "cell_type": "markdown",
      "metadata": {
        "id": "v2TCgkmvkG7L"
      },
      "source": [
        "Visualisasi IQR dengan Bloxplot"
      ]
    },
    {
      "cell_type": "code",
      "metadata": {
        "colab": {
          "base_uri": "https://localhost:8080/",
          "height": 405
        },
        "id": "yutoU-zmkG7M",
        "outputId": "abb69eaf-f57d-46ad-dc5d-e29dfeac269f"
      },
      "source": [
        "import matplotlib.pyplot as plt\r\n",
        "import seaborn as sns\r\n",
        "\r\n",
        "plt.figure(figsize = (10, 5))\r\n",
        "sns.boxplot(data['Glucose'])\r\n",
        "plt.axvline(data['Glucose'].describe()['25%'], color = 'red', label = 'Q1')\r\n",
        "plt.axvline(data['Glucose'].describe()['50%'], color = 'yellow', label = 'Q2')\r\n",
        "plt.axvline(data['Glucose'].describe()['75%'], color = 'blue', label = 'Q3')\r\n",
        "plt.annotate('Outlier', (data['Glucose'].describe()['max'],0.1), xytext = (data['Glucose'].describe()['max'],0.3),\r\n",
        "             arrowprops = dict(facecolor = 'blue'), fontsize = 13 )\r\n",
        "IQR = data['Glucose'].describe()['75%'] - data['Glucose'].describe()['25%']\r\n",
        "plt.annotate('Batas Atas', (data['Glucose'].describe()['75%'] + 1.5*IQR, 0.2), \r\n",
        "             xytext = (data['Glucose'].describe()['75%'] + 1.5*IQR, 0.4),\r\n",
        "             arrowprops = dict(facecolor = 'blue'), fontsize = 13 )\r\n",
        "plt.annotate('Batas Bawah', (data['Glucose'].describe()['min'], 0.2), \r\n",
        "             xytext = (data['Glucose'].describe()['min'], 0.4),\r\n",
        "             arrowprops = dict(facecolor = 'blue'), fontsize = 13 )\r\n",
        "plt.legend()"
      ],
      "execution_count": null,
      "outputs": [
        {
          "output_type": "stream",
          "text": [
            "/usr/local/lib/python3.6/dist-packages/seaborn/_decorators.py:43: FutureWarning: Pass the following variable as a keyword arg: x. From version 0.12, the only valid positional argument will be `data`, and passing other arguments without an explicit keyword will result in an error or misinterpretation.\n",
            "  FutureWarning\n"
          ],
          "name": "stderr"
        },
        {
          "output_type": "execute_result",
          "data": {
            "text/plain": [
              "<matplotlib.legend.Legend at 0x7f85bbc37438>"
            ]
          },
          "metadata": {
            "tags": []
          },
          "execution_count": 34
        },
        {
          "output_type": "display_data",
          "data": {
            "image/png": "[encoded data removed]",
            "text/plain": [
              "<Figure size 720x360 with 1 Axes>"
            ]
          },
          "metadata": {
            "tags": [],
            "needs_background": "light"
          }
        }
      ]
    },
    {
      "cell_type": "markdown",
      "metadata": {
        "id": "Q_aYp8O9kG7Q"
      },
      "source": [
        "Menampilkan Data Outlier"
      ]
    },
    {
      "cell_type": "code",
      "metadata": {
        "id": "LzkjFKwrkG7Q"
      },
      "source": [
        "def detect_outliers(df, x):\r\n",
        "    Q1 = df[x].describe()['25%']\r\n",
        "    Q3 = df[x].describe()['75%']\r\n",
        "    IQR = Q3-Q1\r\n",
        "    return df[(df[x] < Q1-1.5*IQR) | (df[x] > Q3+1.5*IQR)]"
      ],
      "execution_count": null,
      "outputs": []
    },
    {
      "cell_type": "code",
      "metadata": {
        "colab": {
          "base_uri": "https://localhost:8080/",
          "height": 204
        },
        "id": "za0sc5kOkG7S",
        "outputId": "86a5e437-8105-4817-8b66-64dba6505b80"
      },
      "source": [
        "detect_outliers(data,'Glucose')"
      ],
      "execution_count": null,
      "outputs": [
        {
          "output_type": "execute_result",
          "data": {
            "text/html": [
              "<div>\n",
              "<style scoped>\n",
              "    .dataframe tbody tr th:only-of-type {\n",
              "        vertical-align: middle;\n",
              "    }\n",
              "\n",
              "    .dataframe tbody tr th {\n",
              "        vertical-align: top;\n",
              "    }\n",
              "\n",
              "    .dataframe thead th {\n",
              "        text-align: right;\n",
              "    }\n",
              "</style>\n",
              "<table border=\"1\" class=\"dataframe\">\n",
              "  <thead>\n",
              "    <tr style=\"text-align: right;\">\n",
              "      <th></th>\n",
              "      <th>Pregnancies</th>\n",
              "      <th>Glucose</th>\n",
              "      <th>BloodPressure</th>\n",
              "      <th>SkinThickness</th>\n",
              "      <th>Insulin</th>\n",
              "      <th>BMI</th>\n",
              "      <th>DiabetesPedigreeFunction</th>\n",
              "      <th>Age</th>\n",
              "      <th>Outcome</th>\n",
              "    </tr>\n",
              "  </thead>\n",
              "  <tbody>\n",
              "    <tr>\n",
              "      <th>75</th>\n",
              "      <td>1</td>\n",
              "      <td>0</td>\n",
              "      <td>48</td>\n",
              "      <td>20</td>\n",
              "      <td>0</td>\n",
              "      <td>24.7</td>\n",
              "      <td>0.140</td>\n",
              "      <td>22</td>\n",
              "      <td>0</td>\n",
              "    </tr>\n",
              "    <tr>\n",
              "      <th>182</th>\n",
              "      <td>1</td>\n",
              "      <td>0</td>\n",
              "      <td>74</td>\n",
              "      <td>20</td>\n",
              "      <td>23</td>\n",
              "      <td>27.7</td>\n",
              "      <td>0.299</td>\n",
              "      <td>21</td>\n",
              "      <td>0</td>\n",
              "    </tr>\n",
              "    <tr>\n",
              "      <th>342</th>\n",
              "      <td>1</td>\n",
              "      <td>0</td>\n",
              "      <td>68</td>\n",
              "      <td>35</td>\n",
              "      <td>0</td>\n",
              "      <td>32.0</td>\n",
              "      <td>0.389</td>\n",
              "      <td>22</td>\n",
              "      <td>0</td>\n",
              "    </tr>\n",
              "    <tr>\n",
              "      <th>349</th>\n",
              "      <td>5</td>\n",
              "      <td>0</td>\n",
              "      <td>80</td>\n",
              "      <td>32</td>\n",
              "      <td>0</td>\n",
              "      <td>41.0</td>\n",
              "      <td>0.346</td>\n",
              "      <td>37</td>\n",
              "      <td>1</td>\n",
              "    </tr>\n",
              "    <tr>\n",
              "      <th>502</th>\n",
              "      <td>6</td>\n",
              "      <td>0</td>\n",
              "      <td>68</td>\n",
              "      <td>41</td>\n",
              "      <td>0</td>\n",
              "      <td>39.0</td>\n",
              "      <td>0.727</td>\n",
              "      <td>41</td>\n",
              "      <td>1</td>\n",
              "    </tr>\n",
              "  </tbody>\n",
              "</table>\n",
              "</div>"
            ],
            "text/plain": [
              "     Pregnancies  Glucose  ...  Age  Outcome\n",
              "75             1        0  ...   22        0\n",
              "182            1        0  ...   21        0\n",
              "342            1        0  ...   22        0\n",
              "349            5        0  ...   37        1\n",
              "502            6        0  ...   41        1\n",
              "\n",
              "[5 rows x 9 columns]"
            ]
          },
          "metadata": {
            "tags": []
          },
          "execution_count": 36
        }
      ]
    },
    {
      "cell_type": "code",
      "metadata": {
        "colab": {
          "base_uri": "https://localhost:8080/"
        },
        "id": "YCONaCUJkG7T",
        "outputId": "2c21f9cb-6320-4380-91f9-fd693bf050fa"
      },
      "source": [
        "Glucose = detect_outliers(data,'Glucose')\r\n",
        "row_Glucose = Glucose.index.values.tolist()\r\n",
        "value_Glucose = Glucose['Glucose'].values.tolist()\r\n",
        "\r\n",
        "print(\"Outlier atribut Glucose terdapat pada baris ke :\",row_Glucose)\r\n",
        "print(\"Outlier atribut Glucose bernilai :\",value_Glucose)"
      ],
      "execution_count": null,
      "outputs": [
        {
          "output_type": "stream",
          "text": [
            "Outlier atribut Glucose terdapat pada baris ke : [75, 182, 342, 349, 502]\n",
            "Outlier atribut Glucose bernilai : [0, 0, 0, 0, 0]\n"
          ],
          "name": "stdout"
        }
      ]
    },
    {
      "cell_type": "markdown",
      "metadata": {
        "id": "LT_Au8VukG7U"
      },
      "source": [
        "Menghapus Data Outlier"
      ]
    },
    {
      "cell_type": "code",
      "metadata": {
        "colab": {
          "base_uri": "https://localhost:8080/",
          "height": 204
        },
        "id": "rr9lCXb3kG7U",
        "outputId": "1d928d64-36e0-4d08-8ffe-9c8f4c474275"
      },
      "source": [
        "Q1 = outlier_BloodPressure['Glucose'].describe()['25%']\r\n",
        "Q3 = outlier_BloodPressure['Glucose'].describe()['75%']\r\n",
        "IQR = Q3-Q1\r\n",
        "\r\n",
        "outlier_Glucose = outlier_BloodPressure[outlier_BloodPressure['Glucose'] >= Q1-1.5*IQR]\r\n",
        "outlier_Glucose.head()"
      ],
      "execution_count": null,
      "outputs": [
        {
          "output_type": "execute_result",
          "data": {
            "text/html": [
              "<div>\n",
              "<style scoped>\n",
              "    .dataframe tbody tr th:only-of-type {\n",
              "        vertical-align: middle;\n",
              "    }\n",
              "\n",
              "    .dataframe tbody tr th {\n",
              "        vertical-align: top;\n",
              "    }\n",
              "\n",
              "    .dataframe thead th {\n",
              "        text-align: right;\n",
              "    }\n",
              "</style>\n",
              "<table border=\"1\" class=\"dataframe\">\n",
              "  <thead>\n",
              "    <tr style=\"text-align: right;\">\n",
              "      <th></th>\n",
              "      <th>Pregnancies</th>\n",
              "      <th>Glucose</th>\n",
              "      <th>BloodPressure</th>\n",
              "      <th>SkinThickness</th>\n",
              "      <th>Insulin</th>\n",
              "      <th>BMI</th>\n",
              "      <th>DiabetesPedigreeFunction</th>\n",
              "      <th>Age</th>\n",
              "      <th>Outcome</th>\n",
              "    </tr>\n",
              "  </thead>\n",
              "  <tbody>\n",
              "    <tr>\n",
              "      <th>0</th>\n",
              "      <td>6</td>\n",
              "      <td>148</td>\n",
              "      <td>72</td>\n",
              "      <td>35</td>\n",
              "      <td>0</td>\n",
              "      <td>33.6</td>\n",
              "      <td>0.627</td>\n",
              "      <td>50</td>\n",
              "      <td>1</td>\n",
              "    </tr>\n",
              "    <tr>\n",
              "      <th>1</th>\n",
              "      <td>1</td>\n",
              "      <td>85</td>\n",
              "      <td>66</td>\n",
              "      <td>29</td>\n",
              "      <td>0</td>\n",
              "      <td>26.6</td>\n",
              "      <td>0.351</td>\n",
              "      <td>31</td>\n",
              "      <td>0</td>\n",
              "    </tr>\n",
              "    <tr>\n",
              "      <th>2</th>\n",
              "      <td>8</td>\n",
              "      <td>183</td>\n",
              "      <td>64</td>\n",
              "      <td>0</td>\n",
              "      <td>0</td>\n",
              "      <td>23.3</td>\n",
              "      <td>0.672</td>\n",
              "      <td>32</td>\n",
              "      <td>1</td>\n",
              "    </tr>\n",
              "    <tr>\n",
              "      <th>3</th>\n",
              "      <td>1</td>\n",
              "      <td>89</td>\n",
              "      <td>66</td>\n",
              "      <td>23</td>\n",
              "      <td>94</td>\n",
              "      <td>28.1</td>\n",
              "      <td>0.167</td>\n",
              "      <td>21</td>\n",
              "      <td>0</td>\n",
              "    </tr>\n",
              "    <tr>\n",
              "      <th>4</th>\n",
              "      <td>0</td>\n",
              "      <td>137</td>\n",
              "      <td>40</td>\n",
              "      <td>35</td>\n",
              "      <td>168</td>\n",
              "      <td>43.1</td>\n",
              "      <td>2.288</td>\n",
              "      <td>33</td>\n",
              "      <td>1</td>\n",
              "    </tr>\n",
              "  </tbody>\n",
              "</table>\n",
              "</div>"
            ],
            "text/plain": [
              "   Pregnancies  Glucose  BloodPressure  ...  DiabetesPedigreeFunction  Age  Outcome\n",
              "0            6      148             72  ...                     0.627   50        1\n",
              "1            1       85             66  ...                     0.351   31        0\n",
              "2            8      183             64  ...                     0.672   32        1\n",
              "3            1       89             66  ...                     0.167   21        0\n",
              "4            0      137             40  ...                     2.288   33        1\n",
              "\n",
              "[5 rows x 9 columns]"
            ]
          },
          "metadata": {
            "tags": []
          },
          "execution_count": 38
        }
      ]
    },
    {
      "cell_type": "markdown",
      "metadata": {
        "id": "wIpSte8ZkG7W"
      },
      "source": [
        "Cek Shape Data Hasil Tanpa Outlier Glucose"
      ]
    },
    {
      "cell_type": "code",
      "metadata": {
        "colab": {
          "base_uri": "https://localhost:8080/"
        },
        "id": "b4h4hjSikG7W",
        "outputId": "09ab744d-1f66-4bc0-efb2-38c7dfb2affa"
      },
      "source": [
        "outlier_Glucose.shape"
      ],
      "execution_count": null,
      "outputs": [
        {
          "output_type": "execute_result",
          "data": {
            "text/plain": [
              "(679, 9)"
            ]
          },
          "metadata": {
            "tags": []
          },
          "execution_count": 39
        }
      ]
    },
    {
      "cell_type": "markdown",
      "metadata": {
        "id": "RaaR7r7YlD-D"
      },
      "source": [
        "### Atribut BMI"
      ]
    },
    {
      "cell_type": "markdown",
      "metadata": {
        "id": "BFLLB-_klD-g"
      },
      "source": [
        "Visualisasi IQR dengan Bloxplot"
      ]
    },
    {
      "cell_type": "code",
      "metadata": {
        "colab": {
          "base_uri": "https://localhost:8080/",
          "height": 405
        },
        "id": "_p07YCALlD-h",
        "outputId": "efbfe651-fdb7-408a-9459-2824ce19c7a9"
      },
      "source": [
        "import matplotlib.pyplot as plt\r\n",
        "import seaborn as sns\r\n",
        "\r\n",
        "plt.figure(figsize = (10, 5))\r\n",
        "sns.boxplot(data['BMI'])\r\n",
        "plt.axvline(data['BMI'].describe()['25%'], color = 'red', label = 'Q1')\r\n",
        "plt.axvline(data['BMI'].describe()['50%'], color = 'yellow', label = 'Q2')\r\n",
        "plt.axvline(data['BMI'].describe()['75%'], color = 'blue', label = 'Q3')\r\n",
        "plt.annotate('Outlier', (data['BMI'].describe()['max'],0.1), xytext = (data['BMI'].describe()['max'],0.3),\r\n",
        "             arrowprops = dict(facecolor = 'blue'), fontsize = 13 )\r\n",
        "IQR = data['BMI'].describe()['75%'] - data['BMI'].describe()['25%']\r\n",
        "plt.annotate('Batas Atas', (data['BMI'].describe()['75%'] + 1.5*IQR, 0.2), \r\n",
        "             xytext = (data['BMI'].describe()['75%'] + 1.5*IQR, 0.4),\r\n",
        "             arrowprops = dict(facecolor = 'blue'), fontsize = 13 )\r\n",
        "plt.annotate('Batas Bawah', (data['BMI'].describe()['min'], 0.2), \r\n",
        "             xytext = (data['BMI'].describe()['min'], 0.4),\r\n",
        "             arrowprops = dict(facecolor = 'blue'), fontsize = 13 )\r\n",
        "plt.legend()"
      ],
      "execution_count": null,
      "outputs": [
        {
          "output_type": "stream",
          "text": [
            "/usr/local/lib/python3.6/dist-packages/seaborn/_decorators.py:43: FutureWarning: Pass the following variable as a keyword arg: x. From version 0.12, the only valid positional argument will be `data`, and passing other arguments without an explicit keyword will result in an error or misinterpretation.\n",
            "  FutureWarning\n"
          ],
          "name": "stderr"
        },
        {
          "output_type": "execute_result",
          "data": {
            "text/plain": [
              "<matplotlib.legend.Legend at 0x7f85bbb45e10>"
            ]
          },
          "metadata": {
            "tags": []
          },
          "execution_count": 40
        },
        {
          "output_type": "display_data",
          "data": {
            "image/png": "[encoded data removed]",
            "text/plain": [
              "<Figure size 720x360 with 1 Axes>"
            ]
          },
          "metadata": {
            "tags": [],
            "needs_background": "light"
          }
        }
      ]
    },
    {
      "cell_type": "markdown",
      "metadata": {
        "id": "jxnbcFRQlD-j"
      },
      "source": [
        "Menampilkan Data Outlier"
      ]
    },
    {
      "cell_type": "code",
      "metadata": {
        "id": "MV7lowlVlD-j"
      },
      "source": [
        "def detect_outliers(df, x):\r\n",
        "    Q1 = df[x].describe()['25%']\r\n",
        "    Q3 = df[x].describe()['75%']\r\n",
        "    IQR = Q3-Q1\r\n",
        "    return df[(df[x] < Q1-1.5*IQR) | (df[x] > Q3+1.5*IQR)]"
      ],
      "execution_count": null,
      "outputs": []
    },
    {
      "cell_type": "code",
      "metadata": {
        "colab": {
          "base_uri": "https://localhost:8080/",
          "height": 638
        },
        "id": "Ov8mmwwmlD-k",
        "outputId": "8439d65b-2731-47b7-ed5c-f4b6471b47b0"
      },
      "source": [
        "detect_outliers(data,'BMI')"
      ],
      "execution_count": null,
      "outputs": [
        {
          "output_type": "execute_result",
          "data": {
            "text/html": [
              "<div>\n",
              "<style scoped>\n",
              "    .dataframe tbody tr th:only-of-type {\n",
              "        vertical-align: middle;\n",
              "    }\n",
              "\n",
              "    .dataframe tbody tr th {\n",
              "        vertical-align: top;\n",
              "    }\n",
              "\n",
              "    .dataframe thead th {\n",
              "        text-align: right;\n",
              "    }\n",
              "</style>\n",
              "<table border=\"1\" class=\"dataframe\">\n",
              "  <thead>\n",
              "    <tr style=\"text-align: right;\">\n",
              "      <th></th>\n",
              "      <th>Pregnancies</th>\n",
              "      <th>Glucose</th>\n",
              "      <th>BloodPressure</th>\n",
              "      <th>SkinThickness</th>\n",
              "      <th>Insulin</th>\n",
              "      <th>BMI</th>\n",
              "      <th>DiabetesPedigreeFunction</th>\n",
              "      <th>Age</th>\n",
              "      <th>Outcome</th>\n",
              "    </tr>\n",
              "  </thead>\n",
              "  <tbody>\n",
              "    <tr>\n",
              "      <th>9</th>\n",
              "      <td>8</td>\n",
              "      <td>125</td>\n",
              "      <td>96</td>\n",
              "      <td>0</td>\n",
              "      <td>0</td>\n",
              "      <td>0.0</td>\n",
              "      <td>0.232</td>\n",
              "      <td>54</td>\n",
              "      <td>1</td>\n",
              "    </tr>\n",
              "    <tr>\n",
              "      <th>49</th>\n",
              "      <td>7</td>\n",
              "      <td>105</td>\n",
              "      <td>0</td>\n",
              "      <td>0</td>\n",
              "      <td>0</td>\n",
              "      <td>0.0</td>\n",
              "      <td>0.305</td>\n",
              "      <td>24</td>\n",
              "      <td>0</td>\n",
              "    </tr>\n",
              "    <tr>\n",
              "      <th>60</th>\n",
              "      <td>2</td>\n",
              "      <td>84</td>\n",
              "      <td>0</td>\n",
              "      <td>0</td>\n",
              "      <td>0</td>\n",
              "      <td>0.0</td>\n",
              "      <td>0.304</td>\n",
              "      <td>21</td>\n",
              "      <td>0</td>\n",
              "    </tr>\n",
              "    <tr>\n",
              "      <th>81</th>\n",
              "      <td>2</td>\n",
              "      <td>74</td>\n",
              "      <td>0</td>\n",
              "      <td>0</td>\n",
              "      <td>0</td>\n",
              "      <td>0.0</td>\n",
              "      <td>0.102</td>\n",
              "      <td>22</td>\n",
              "      <td>0</td>\n",
              "    </tr>\n",
              "    <tr>\n",
              "      <th>120</th>\n",
              "      <td>0</td>\n",
              "      <td>162</td>\n",
              "      <td>76</td>\n",
              "      <td>56</td>\n",
              "      <td>100</td>\n",
              "      <td>53.2</td>\n",
              "      <td>0.759</td>\n",
              "      <td>25</td>\n",
              "      <td>1</td>\n",
              "    </tr>\n",
              "    <tr>\n",
              "      <th>125</th>\n",
              "      <td>1</td>\n",
              "      <td>88</td>\n",
              "      <td>30</td>\n",
              "      <td>42</td>\n",
              "      <td>99</td>\n",
              "      <td>55.0</td>\n",
              "      <td>0.496</td>\n",
              "      <td>26</td>\n",
              "      <td>1</td>\n",
              "    </tr>\n",
              "    <tr>\n",
              "      <th>145</th>\n",
              "      <td>0</td>\n",
              "      <td>102</td>\n",
              "      <td>75</td>\n",
              "      <td>23</td>\n",
              "      <td>0</td>\n",
              "      <td>0.0</td>\n",
              "      <td>0.572</td>\n",
              "      <td>21</td>\n",
              "      <td>0</td>\n",
              "    </tr>\n",
              "    <tr>\n",
              "      <th>177</th>\n",
              "      <td>0</td>\n",
              "      <td>129</td>\n",
              "      <td>110</td>\n",
              "      <td>46</td>\n",
              "      <td>130</td>\n",
              "      <td>67.1</td>\n",
              "      <td>0.319</td>\n",
              "      <td>26</td>\n",
              "      <td>1</td>\n",
              "    </tr>\n",
              "    <tr>\n",
              "      <th>193</th>\n",
              "      <td>11</td>\n",
              "      <td>135</td>\n",
              "      <td>0</td>\n",
              "      <td>0</td>\n",
              "      <td>0</td>\n",
              "      <td>52.3</td>\n",
              "      <td>0.578</td>\n",
              "      <td>40</td>\n",
              "      <td>1</td>\n",
              "    </tr>\n",
              "    <tr>\n",
              "      <th>247</th>\n",
              "      <td>0</td>\n",
              "      <td>165</td>\n",
              "      <td>90</td>\n",
              "      <td>33</td>\n",
              "      <td>680</td>\n",
              "      <td>52.3</td>\n",
              "      <td>0.427</td>\n",
              "      <td>23</td>\n",
              "      <td>0</td>\n",
              "    </tr>\n",
              "    <tr>\n",
              "      <th>303</th>\n",
              "      <td>5</td>\n",
              "      <td>115</td>\n",
              "      <td>98</td>\n",
              "      <td>0</td>\n",
              "      <td>0</td>\n",
              "      <td>52.9</td>\n",
              "      <td>0.209</td>\n",
              "      <td>28</td>\n",
              "      <td>1</td>\n",
              "    </tr>\n",
              "    <tr>\n",
              "      <th>371</th>\n",
              "      <td>0</td>\n",
              "      <td>118</td>\n",
              "      <td>64</td>\n",
              "      <td>23</td>\n",
              "      <td>89</td>\n",
              "      <td>0.0</td>\n",
              "      <td>1.731</td>\n",
              "      <td>21</td>\n",
              "      <td>0</td>\n",
              "    </tr>\n",
              "    <tr>\n",
              "      <th>426</th>\n",
              "      <td>0</td>\n",
              "      <td>94</td>\n",
              "      <td>0</td>\n",
              "      <td>0</td>\n",
              "      <td>0</td>\n",
              "      <td>0.0</td>\n",
              "      <td>0.256</td>\n",
              "      <td>25</td>\n",
              "      <td>0</td>\n",
              "    </tr>\n",
              "    <tr>\n",
              "      <th>445</th>\n",
              "      <td>0</td>\n",
              "      <td>180</td>\n",
              "      <td>78</td>\n",
              "      <td>63</td>\n",
              "      <td>14</td>\n",
              "      <td>59.4</td>\n",
              "      <td>2.420</td>\n",
              "      <td>25</td>\n",
              "      <td>1</td>\n",
              "    </tr>\n",
              "    <tr>\n",
              "      <th>494</th>\n",
              "      <td>3</td>\n",
              "      <td>80</td>\n",
              "      <td>0</td>\n",
              "      <td>0</td>\n",
              "      <td>0</td>\n",
              "      <td>0.0</td>\n",
              "      <td>0.174</td>\n",
              "      <td>22</td>\n",
              "      <td>0</td>\n",
              "    </tr>\n",
              "    <tr>\n",
              "      <th>522</th>\n",
              "      <td>6</td>\n",
              "      <td>114</td>\n",
              "      <td>0</td>\n",
              "      <td>0</td>\n",
              "      <td>0</td>\n",
              "      <td>0.0</td>\n",
              "      <td>0.189</td>\n",
              "      <td>26</td>\n",
              "      <td>0</td>\n",
              "    </tr>\n",
              "    <tr>\n",
              "      <th>673</th>\n",
              "      <td>3</td>\n",
              "      <td>123</td>\n",
              "      <td>100</td>\n",
              "      <td>35</td>\n",
              "      <td>240</td>\n",
              "      <td>57.3</td>\n",
              "      <td>0.880</td>\n",
              "      <td>22</td>\n",
              "      <td>0</td>\n",
              "    </tr>\n",
              "    <tr>\n",
              "      <th>684</th>\n",
              "      <td>5</td>\n",
              "      <td>136</td>\n",
              "      <td>82</td>\n",
              "      <td>0</td>\n",
              "      <td>0</td>\n",
              "      <td>0.0</td>\n",
              "      <td>0.640</td>\n",
              "      <td>69</td>\n",
              "      <td>0</td>\n",
              "    </tr>\n",
              "    <tr>\n",
              "      <th>706</th>\n",
              "      <td>10</td>\n",
              "      <td>115</td>\n",
              "      <td>0</td>\n",
              "      <td>0</td>\n",
              "      <td>0</td>\n",
              "      <td>0.0</td>\n",
              "      <td>0.261</td>\n",
              "      <td>30</td>\n",
              "      <td>1</td>\n",
              "    </tr>\n",
              "  </tbody>\n",
              "</table>\n",
              "</div>"
            ],
            "text/plain": [
              "     Pregnancies  Glucose  ...  Age  Outcome\n",
              "9              8      125  ...   54        1\n",
              "49             7      105  ...   24        0\n",
              "60             2       84  ...   21        0\n",
              "81             2       74  ...   22        0\n",
              "120            0      162  ...   25        1\n",
              "125            1       88  ...   26        1\n",
              "145            0      102  ...   21        0\n",
              "177            0      129  ...   26        1\n",
              "193           11      135  ...   40        1\n",
              "247            0      165  ...   23        0\n",
              "303            5      115  ...   28        1\n",
              "371            0      118  ...   21        0\n",
              "426            0       94  ...   25        0\n",
              "445            0      180  ...   25        1\n",
              "494            3       80  ...   22        0\n",
              "522            6      114  ...   26        0\n",
              "673            3      123  ...   22        0\n",
              "684            5      136  ...   69        0\n",
              "706           10      115  ...   30        1\n",
              "\n",
              "[19 rows x 9 columns]"
            ]
          },
          "metadata": {
            "tags": []
          },
          "execution_count": 42
        }
      ]
    },
    {
      "cell_type": "code",
      "metadata": {
        "colab": {
          "base_uri": "https://localhost:8080/"
        },
        "id": "rx1w8bvglD-k",
        "outputId": "a2cbd7b3-0005-4176-8d06-c759f5e718a8"
      },
      "source": [
        "BMI = detect_outliers(data,'BMI')\r\n",
        "row_BMI = BMI.index.values.tolist()\r\n",
        "value_BMI = BMI['BMI'].values.tolist()\r\n",
        "\r\n",
        "print(\"Outlier atribut BMI terdapat pada baris ke :\",row_BMI)\r\n",
        "print(\"Outlier atribut BMI bernilai :\",value_BMI)"
      ],
      "execution_count": null,
      "outputs": [
        {
          "output_type": "stream",
          "text": [
            "Outlier atribut BMI terdapat pada baris ke : [9, 49, 60, 81, 120, 125, 145, 177, 193, 247, 303, 371, 426, 445, 494, 522, 673, 684, 706]\n",
            "Outlier atribut BMI bernilai : [0.0, 0.0, 0.0, 0.0, 53.2, 55.0, 0.0, 67.1, 52.3, 52.3, 52.9, 0.0, 0.0, 59.4, 0.0, 0.0, 57.3, 0.0, 0.0]\n"
          ],
          "name": "stdout"
        }
      ]
    },
    {
      "cell_type": "markdown",
      "metadata": {
        "id": "dPqot0_KlD-l"
      },
      "source": [
        "Menghapus Data Outlier"
      ]
    },
    {
      "cell_type": "code",
      "metadata": {
        "colab": {
          "base_uri": "https://localhost:8080/",
          "height": 204
        },
        "id": "BDv2OuPKlD-l",
        "outputId": "8db1a832-8f6d-453e-8a42-3fd1072c25c1"
      },
      "source": [
        "Q1 = outlier_Glucose['BMI'].describe()['25%']\r\n",
        "Q3 = outlier_Glucose['BMI'].describe()['75%']\r\n",
        "IQR = Q3-Q1\r\n",
        "\r\n",
        "outlier_BMI = outlier_Glucose[outlier_Glucose['BMI'] <= Q3+1.5*IQR]\r\n",
        "outlier_BMI = outlier_BMI[outlier_BMI['BMI'] >= Q1-1.5*IQR]\r\n",
        "\r\n",
        "outlier_BMI.head()"
      ],
      "execution_count": null,
      "outputs": [
        {
          "output_type": "execute_result",
          "data": {
            "text/html": [
              "<div>\n",
              "<style scoped>\n",
              "    .dataframe tbody tr th:only-of-type {\n",
              "        vertical-align: middle;\n",
              "    }\n",
              "\n",
              "    .dataframe tbody tr th {\n",
              "        vertical-align: top;\n",
              "    }\n",
              "\n",
              "    .dataframe thead th {\n",
              "        text-align: right;\n",
              "    }\n",
              "</style>\n",
              "<table border=\"1\" class=\"dataframe\">\n",
              "  <thead>\n",
              "    <tr style=\"text-align: right;\">\n",
              "      <th></th>\n",
              "      <th>Pregnancies</th>\n",
              "      <th>Glucose</th>\n",
              "      <th>BloodPressure</th>\n",
              "      <th>SkinThickness</th>\n",
              "      <th>Insulin</th>\n",
              "      <th>BMI</th>\n",
              "      <th>DiabetesPedigreeFunction</th>\n",
              "      <th>Age</th>\n",
              "      <th>Outcome</th>\n",
              "    </tr>\n",
              "  </thead>\n",
              "  <tbody>\n",
              "    <tr>\n",
              "      <th>0</th>\n",
              "      <td>6</td>\n",
              "      <td>148</td>\n",
              "      <td>72</td>\n",
              "      <td>35</td>\n",
              "      <td>0</td>\n",
              "      <td>33.6</td>\n",
              "      <td>0.627</td>\n",
              "      <td>50</td>\n",
              "      <td>1</td>\n",
              "    </tr>\n",
              "    <tr>\n",
              "      <th>1</th>\n",
              "      <td>1</td>\n",
              "      <td>85</td>\n",
              "      <td>66</td>\n",
              "      <td>29</td>\n",
              "      <td>0</td>\n",
              "      <td>26.6</td>\n",
              "      <td>0.351</td>\n",
              "      <td>31</td>\n",
              "      <td>0</td>\n",
              "    </tr>\n",
              "    <tr>\n",
              "      <th>2</th>\n",
              "      <td>8</td>\n",
              "      <td>183</td>\n",
              "      <td>64</td>\n",
              "      <td>0</td>\n",
              "      <td>0</td>\n",
              "      <td>23.3</td>\n",
              "      <td>0.672</td>\n",
              "      <td>32</td>\n",
              "      <td>1</td>\n",
              "    </tr>\n",
              "    <tr>\n",
              "      <th>3</th>\n",
              "      <td>1</td>\n",
              "      <td>89</td>\n",
              "      <td>66</td>\n",
              "      <td>23</td>\n",
              "      <td>94</td>\n",
              "      <td>28.1</td>\n",
              "      <td>0.167</td>\n",
              "      <td>21</td>\n",
              "      <td>0</td>\n",
              "    </tr>\n",
              "    <tr>\n",
              "      <th>4</th>\n",
              "      <td>0</td>\n",
              "      <td>137</td>\n",
              "      <td>40</td>\n",
              "      <td>35</td>\n",
              "      <td>168</td>\n",
              "      <td>43.1</td>\n",
              "      <td>2.288</td>\n",
              "      <td>33</td>\n",
              "      <td>1</td>\n",
              "    </tr>\n",
              "  </tbody>\n",
              "</table>\n",
              "</div>"
            ],
            "text/plain": [
              "   Pregnancies  Glucose  BloodPressure  ...  DiabetesPedigreeFunction  Age  Outcome\n",
              "0            6      148             72  ...                     0.627   50        1\n",
              "1            1       85             66  ...                     0.351   31        0\n",
              "2            8      183             64  ...                     0.672   32        1\n",
              "3            1       89             66  ...                     0.167   21        0\n",
              "4            0      137             40  ...                     2.288   33        1\n",
              "\n",
              "[5 rows x 9 columns]"
            ]
          },
          "metadata": {
            "tags": []
          },
          "execution_count": 44
        }
      ]
    },
    {
      "cell_type": "markdown",
      "metadata": {
        "id": "JlONwSONlD-m"
      },
      "source": [
        "Cek Shape Data Hasil Tanpa Outlier BMI"
      ]
    },
    {
      "cell_type": "code",
      "metadata": {
        "colab": {
          "base_uri": "https://localhost:8080/"
        },
        "id": "O3sshjDDlD-m",
        "outputId": "6eeef34e-841b-4ceb-887d-bcb32709b953"
      },
      "source": [
        "outlier_BMI.shape"
      ],
      "execution_count": null,
      "outputs": [
        {
          "output_type": "execute_result",
          "data": {
            "text/plain": [
              "(668, 9)"
            ]
          },
          "metadata": {
            "tags": []
          },
          "execution_count": 45
        }
      ]
    },
    {
      "cell_type": "markdown",
      "metadata": {
        "id": "C2RPPlU1mHB5"
      },
      "source": [
        "### Atribut DiabetesPedigreeFunction"
      ]
    },
    {
      "cell_type": "markdown",
      "metadata": {
        "id": "v2CeY3HbmHCV"
      },
      "source": [
        "Visualisasi IQR dengan Bloxplot"
      ]
    },
    {
      "cell_type": "code",
      "metadata": {
        "colab": {
          "base_uri": "https://localhost:8080/"
        },
        "id": "O_UtREbEmHCX",
        "outputId": "a7f18919-08be-4981-a62a-6b9026e22054"
      },
      "source": [
        "import matplotlib.pyplot as plt\r\n",
        "import seaborn as sns\r\n",
        "\r\n",
        "plt.figure(figsize = (10, 5))\r\n",
        "sns.boxplot(data['DiabetesPedigreeFunction'])\r\n",
        "plt.axvline(data['DiabetesPedigreeFunction'].describe()['25%'], color = 'red', label = 'Q1')\r\n",
        "plt.axvline(data['DiabetesPedigreeFunction'].describe()['50%'], color = 'yellow', label = 'Q2')\r\n",
        "plt.axvline(data['DiabetesPedigreeFunction'].describe()['75%'], color = 'blue', label = 'Q3')\r\n",
        "plt.annotate('Outlier', (data['DiabetesPedigreeFunction'].describe()['max'],0.1), xytext = (data['DiabetesPedigreeFunction'].describe()['max'],0.3),\r\n",
        "             arrowprops = dict(facecolor = 'blue'), fontsize = 13 )\r\n",
        "IQR = data['DiabetesPedigreeFunction'].describe()['75%'] - data['DiabetesPedigreeFunction'].describe()['25%']\r\n",
        "plt.annotate('Batas Atas', (data['DiabetesPedigreeFunction'].describe()['75%'] + 1.5*IQR, 0.2), \r\n",
        "             xytext = (data['DiabetesPedigreeFunction'].describe()['75%'] + 1.5*IQR, 0.4),\r\n",
        "             arrowprops = dict(facecolor = 'blue'), fontsize = 13 )\r\n",
        "plt.annotate('Batas Bawah', (data['DiabetesPedigreeFunction'].describe()['min'], 0.2), \r\n",
        "             xytext = (data['DiabetesPedigreeFunction'].describe()['min'], 0.4),\r\n",
        "             arrowprops = dict(facecolor = 'blue'), fontsize = 13 )\r\n",
        "plt.legend()"
      ],
      "execution_count": null,
      "outputs": [
        {
          "output_type": "stream",
          "text": [
            "/usr/local/lib/python3.6/dist-packages/seaborn/_decorators.py:43: FutureWarning: Pass the following variable as a keyword arg: x. From version 0.12, the only valid positional argument will be `data`, and passing other arguments without an explicit keyword will result in an error or misinterpretation.\n",
            "  FutureWarning\n"
          ],
          "name": "stderr"
        },
        {
          "output_type": "execute_result",
          "data": {
            "text/plain": [
              "<matplotlib.legend.Legend at 0x7f85bbad6f28>"
            ]
          },
          "metadata": {
            "tags": []
          },
          "execution_count": 46
        },
        {
          "output_type": "display_data",
          "data": {
            "image/png": "[encoded data removed]",
            "text/plain": [
              "<Figure size 720x360 with 1 Axes>"
            ]
          },
          "metadata": {
            "tags": [],
            "needs_background": "light"
          }
        }
      ]
    },
    {
      "cell_type": "markdown",
      "metadata": {
        "id": "2xgJRyR_mHCZ"
      },
      "source": [
        "Menampilkan Data Outlier"
      ]
    },
    {
      "cell_type": "code",
      "metadata": {
        "id": "IrgaIHuPmHCa"
      },
      "source": [
        "def detect_outliers(df, x):\r\n",
        "    Q1 = df[x].describe()['25%']\r\n",
        "    Q3 = df[x].describe()['75%']\r\n",
        "    IQR = Q3-Q1\r\n",
        "    return df[(df[x] < Q1-1.5*IQR) | (df[x] > Q3+1.5*IQR)]"
      ],
      "execution_count": null,
      "outputs": []
    },
    {
      "cell_type": "code",
      "metadata": {
        "colab": {
          "base_uri": "https://localhost:8080/"
        },
        "id": "JrMvYQi4mHCa",
        "outputId": "7df46398-dae5-4c12-91ad-b9873bf61ca4"
      },
      "source": [
        "detect_outliers(data,'DiabetesPedigreeFunction')"
      ],
      "execution_count": null,
      "outputs": [
        {
          "output_type": "execute_result",
          "data": {
            "text/html": [
              "<div>\n",
              "<style scoped>\n",
              "    .dataframe tbody tr th:only-of-type {\n",
              "        vertical-align: middle;\n",
              "    }\n",
              "\n",
              "    .dataframe tbody tr th {\n",
              "        vertical-align: top;\n",
              "    }\n",
              "\n",
              "    .dataframe thead th {\n",
              "        text-align: right;\n",
              "    }\n",
              "</style>\n",
              "<table border=\"1\" class=\"dataframe\">\n",
              "  <thead>\n",
              "    <tr style=\"text-align: right;\">\n",
              "      <th></th>\n",
              "      <th>Pregnancies</th>\n",
              "      <th>Glucose</th>\n",
              "      <th>BloodPressure</th>\n",
              "      <th>SkinThickness</th>\n",
              "      <th>Insulin</th>\n",
              "      <th>BMI</th>\n",
              "      <th>DiabetesPedigreeFunction</th>\n",
              "      <th>Age</th>\n",
              "      <th>Outcome</th>\n",
              "    </tr>\n",
              "  </thead>\n",
              "  <tbody>\n",
              "    <tr>\n",
              "      <th>4</th>\n",
              "      <td>0</td>\n",
              "      <td>137</td>\n",
              "      <td>40</td>\n",
              "      <td>35</td>\n",
              "      <td>168</td>\n",
              "      <td>43.1</td>\n",
              "      <td>2.288</td>\n",
              "      <td>33</td>\n",
              "      <td>1</td>\n",
              "    </tr>\n",
              "    <tr>\n",
              "      <th>12</th>\n",
              "      <td>10</td>\n",
              "      <td>139</td>\n",
              "      <td>80</td>\n",
              "      <td>0</td>\n",
              "      <td>0</td>\n",
              "      <td>27.1</td>\n",
              "      <td>1.441</td>\n",
              "      <td>57</td>\n",
              "      <td>0</td>\n",
              "    </tr>\n",
              "    <tr>\n",
              "      <th>39</th>\n",
              "      <td>4</td>\n",
              "      <td>111</td>\n",
              "      <td>72</td>\n",
              "      <td>47</td>\n",
              "      <td>207</td>\n",
              "      <td>37.1</td>\n",
              "      <td>1.390</td>\n",
              "      <td>56</td>\n",
              "      <td>1</td>\n",
              "    </tr>\n",
              "    <tr>\n",
              "      <th>45</th>\n",
              "      <td>0</td>\n",
              "      <td>180</td>\n",
              "      <td>66</td>\n",
              "      <td>39</td>\n",
              "      <td>0</td>\n",
              "      <td>42.0</td>\n",
              "      <td>1.893</td>\n",
              "      <td>25</td>\n",
              "      <td>1</td>\n",
              "    </tr>\n",
              "    <tr>\n",
              "      <th>58</th>\n",
              "      <td>0</td>\n",
              "      <td>146</td>\n",
              "      <td>82</td>\n",
              "      <td>0</td>\n",
              "      <td>0</td>\n",
              "      <td>40.5</td>\n",
              "      <td>1.781</td>\n",
              "      <td>44</td>\n",
              "      <td>0</td>\n",
              "    </tr>\n",
              "    <tr>\n",
              "      <th>100</th>\n",
              "      <td>1</td>\n",
              "      <td>163</td>\n",
              "      <td>72</td>\n",
              "      <td>0</td>\n",
              "      <td>0</td>\n",
              "      <td>39.0</td>\n",
              "      <td>1.222</td>\n",
              "      <td>33</td>\n",
              "      <td>1</td>\n",
              "    </tr>\n",
              "    <tr>\n",
              "      <th>147</th>\n",
              "      <td>2</td>\n",
              "      <td>106</td>\n",
              "      <td>64</td>\n",
              "      <td>35</td>\n",
              "      <td>119</td>\n",
              "      <td>30.5</td>\n",
              "      <td>1.400</td>\n",
              "      <td>34</td>\n",
              "      <td>0</td>\n",
              "    </tr>\n",
              "    <tr>\n",
              "      <th>187</th>\n",
              "      <td>1</td>\n",
              "      <td>128</td>\n",
              "      <td>98</td>\n",
              "      <td>41</td>\n",
              "      <td>58</td>\n",
              "      <td>32.0</td>\n",
              "      <td>1.321</td>\n",
              "      <td>33</td>\n",
              "      <td>1</td>\n",
              "    </tr>\n",
              "    <tr>\n",
              "      <th>218</th>\n",
              "      <td>5</td>\n",
              "      <td>85</td>\n",
              "      <td>74</td>\n",
              "      <td>22</td>\n",
              "      <td>0</td>\n",
              "      <td>29.0</td>\n",
              "      <td>1.224</td>\n",
              "      <td>32</td>\n",
              "      <td>1</td>\n",
              "    </tr>\n",
              "    <tr>\n",
              "      <th>228</th>\n",
              "      <td>4</td>\n",
              "      <td>197</td>\n",
              "      <td>70</td>\n",
              "      <td>39</td>\n",
              "      <td>744</td>\n",
              "      <td>36.7</td>\n",
              "      <td>2.329</td>\n",
              "      <td>31</td>\n",
              "      <td>0</td>\n",
              "    </tr>\n",
              "    <tr>\n",
              "      <th>243</th>\n",
              "      <td>6</td>\n",
              "      <td>119</td>\n",
              "      <td>50</td>\n",
              "      <td>22</td>\n",
              "      <td>176</td>\n",
              "      <td>27.1</td>\n",
              "      <td>1.318</td>\n",
              "      <td>33</td>\n",
              "      <td>1</td>\n",
              "    </tr>\n",
              "    <tr>\n",
              "      <th>245</th>\n",
              "      <td>9</td>\n",
              "      <td>184</td>\n",
              "      <td>85</td>\n",
              "      <td>15</td>\n",
              "      <td>0</td>\n",
              "      <td>30.0</td>\n",
              "      <td>1.213</td>\n",
              "      <td>49</td>\n",
              "      <td>1</td>\n",
              "    </tr>\n",
              "    <tr>\n",
              "      <th>259</th>\n",
              "      <td>11</td>\n",
              "      <td>155</td>\n",
              "      <td>76</td>\n",
              "      <td>28</td>\n",
              "      <td>150</td>\n",
              "      <td>33.3</td>\n",
              "      <td>1.353</td>\n",
              "      <td>51</td>\n",
              "      <td>1</td>\n",
              "    </tr>\n",
              "    <tr>\n",
              "      <th>292</th>\n",
              "      <td>2</td>\n",
              "      <td>128</td>\n",
              "      <td>78</td>\n",
              "      <td>37</td>\n",
              "      <td>182</td>\n",
              "      <td>43.3</td>\n",
              "      <td>1.224</td>\n",
              "      <td>31</td>\n",
              "      <td>1</td>\n",
              "    </tr>\n",
              "    <tr>\n",
              "      <th>308</th>\n",
              "      <td>0</td>\n",
              "      <td>128</td>\n",
              "      <td>68</td>\n",
              "      <td>19</td>\n",
              "      <td>180</td>\n",
              "      <td>30.5</td>\n",
              "      <td>1.391</td>\n",
              "      <td>25</td>\n",
              "      <td>1</td>\n",
              "    </tr>\n",
              "    <tr>\n",
              "      <th>330</th>\n",
              "      <td>8</td>\n",
              "      <td>118</td>\n",
              "      <td>72</td>\n",
              "      <td>19</td>\n",
              "      <td>0</td>\n",
              "      <td>23.1</td>\n",
              "      <td>1.476</td>\n",
              "      <td>46</td>\n",
              "      <td>0</td>\n",
              "    </tr>\n",
              "    <tr>\n",
              "      <th>370</th>\n",
              "      <td>3</td>\n",
              "      <td>173</td>\n",
              "      <td>82</td>\n",
              "      <td>48</td>\n",
              "      <td>465</td>\n",
              "      <td>38.4</td>\n",
              "      <td>2.137</td>\n",
              "      <td>25</td>\n",
              "      <td>1</td>\n",
              "    </tr>\n",
              "    <tr>\n",
              "      <th>371</th>\n",
              "      <td>0</td>\n",
              "      <td>118</td>\n",
              "      <td>64</td>\n",
              "      <td>23</td>\n",
              "      <td>89</td>\n",
              "      <td>0.0</td>\n",
              "      <td>1.731</td>\n",
              "      <td>21</td>\n",
              "      <td>0</td>\n",
              "    </tr>\n",
              "    <tr>\n",
              "      <th>383</th>\n",
              "      <td>1</td>\n",
              "      <td>90</td>\n",
              "      <td>62</td>\n",
              "      <td>18</td>\n",
              "      <td>59</td>\n",
              "      <td>25.1</td>\n",
              "      <td>1.268</td>\n",
              "      <td>25</td>\n",
              "      <td>0</td>\n",
              "    </tr>\n",
              "    <tr>\n",
              "      <th>395</th>\n",
              "      <td>2</td>\n",
              "      <td>127</td>\n",
              "      <td>58</td>\n",
              "      <td>24</td>\n",
              "      <td>275</td>\n",
              "      <td>27.7</td>\n",
              "      <td>1.600</td>\n",
              "      <td>25</td>\n",
              "      <td>0</td>\n",
              "    </tr>\n",
              "    <tr>\n",
              "      <th>445</th>\n",
              "      <td>0</td>\n",
              "      <td>180</td>\n",
              "      <td>78</td>\n",
              "      <td>63</td>\n",
              "      <td>14</td>\n",
              "      <td>59.4</td>\n",
              "      <td>2.420</td>\n",
              "      <td>25</td>\n",
              "      <td>1</td>\n",
              "    </tr>\n",
              "    <tr>\n",
              "      <th>534</th>\n",
              "      <td>1</td>\n",
              "      <td>77</td>\n",
              "      <td>56</td>\n",
              "      <td>30</td>\n",
              "      <td>56</td>\n",
              "      <td>33.3</td>\n",
              "      <td>1.251</td>\n",
              "      <td>24</td>\n",
              "      <td>0</td>\n",
              "    </tr>\n",
              "    <tr>\n",
              "      <th>593</th>\n",
              "      <td>2</td>\n",
              "      <td>82</td>\n",
              "      <td>52</td>\n",
              "      <td>22</td>\n",
              "      <td>115</td>\n",
              "      <td>28.5</td>\n",
              "      <td>1.699</td>\n",
              "      <td>25</td>\n",
              "      <td>0</td>\n",
              "    </tr>\n",
              "    <tr>\n",
              "      <th>606</th>\n",
              "      <td>1</td>\n",
              "      <td>181</td>\n",
              "      <td>78</td>\n",
              "      <td>42</td>\n",
              "      <td>293</td>\n",
              "      <td>40.0</td>\n",
              "      <td>1.258</td>\n",
              "      <td>22</td>\n",
              "      <td>1</td>\n",
              "    </tr>\n",
              "    <tr>\n",
              "      <th>618</th>\n",
              "      <td>9</td>\n",
              "      <td>112</td>\n",
              "      <td>82</td>\n",
              "      <td>24</td>\n",
              "      <td>0</td>\n",
              "      <td>28.2</td>\n",
              "      <td>1.282</td>\n",
              "      <td>50</td>\n",
              "      <td>1</td>\n",
              "    </tr>\n",
              "    <tr>\n",
              "      <th>621</th>\n",
              "      <td>2</td>\n",
              "      <td>92</td>\n",
              "      <td>76</td>\n",
              "      <td>20</td>\n",
              "      <td>0</td>\n",
              "      <td>24.2</td>\n",
              "      <td>1.698</td>\n",
              "      <td>28</td>\n",
              "      <td>0</td>\n",
              "    </tr>\n",
              "    <tr>\n",
              "      <th>622</th>\n",
              "      <td>6</td>\n",
              "      <td>183</td>\n",
              "      <td>94</td>\n",
              "      <td>0</td>\n",
              "      <td>0</td>\n",
              "      <td>40.8</td>\n",
              "      <td>1.461</td>\n",
              "      <td>45</td>\n",
              "      <td>0</td>\n",
              "    </tr>\n",
              "    <tr>\n",
              "      <th>659</th>\n",
              "      <td>3</td>\n",
              "      <td>80</td>\n",
              "      <td>82</td>\n",
              "      <td>31</td>\n",
              "      <td>70</td>\n",
              "      <td>34.2</td>\n",
              "      <td>1.292</td>\n",
              "      <td>27</td>\n",
              "      <td>1</td>\n",
              "    </tr>\n",
              "    <tr>\n",
              "      <th>661</th>\n",
              "      <td>1</td>\n",
              "      <td>199</td>\n",
              "      <td>76</td>\n",
              "      <td>43</td>\n",
              "      <td>0</td>\n",
              "      <td>42.9</td>\n",
              "      <td>1.394</td>\n",
              "      <td>22</td>\n",
              "      <td>1</td>\n",
              "    </tr>\n",
              "  </tbody>\n",
              "</table>\n",
              "</div>"
            ],
            "text/plain": [
              "     Pregnancies  Glucose  ...  Age  Outcome\n",
              "4              0      137  ...   33        1\n",
              "12            10      139  ...   57        0\n",
              "39             4      111  ...   56        1\n",
              "45             0      180  ...   25        1\n",
              "58             0      146  ...   44        0\n",
              "100            1      163  ...   33        1\n",
              "147            2      106  ...   34        0\n",
              "187            1      128  ...   33        1\n",
              "218            5       85  ...   32        1\n",
              "228            4      197  ...   31        0\n",
              "243            6      119  ...   33        1\n",
              "245            9      184  ...   49        1\n",
              "259           11      155  ...   51        1\n",
              "292            2      128  ...   31        1\n",
              "308            0      128  ...   25        1\n",
              "330            8      118  ...   46        0\n",
              "370            3      173  ...   25        1\n",
              "371            0      118  ...   21        0\n",
              "383            1       90  ...   25        0\n",
              "395            2      127  ...   25        0\n",
              "445            0      180  ...   25        1\n",
              "534            1       77  ...   24        0\n",
              "593            2       82  ...   25        0\n",
              "606            1      181  ...   22        1\n",
              "618            9      112  ...   50        1\n",
              "621            2       92  ...   28        0\n",
              "622            6      183  ...   45        0\n",
              "659            3       80  ...   27        1\n",
              "661            1      199  ...   22        1\n",
              "\n",
              "[29 rows x 9 columns]"
            ]
          },
          "metadata": {
            "tags": []
          },
          "execution_count": 48
        }
      ]
    },
    {
      "cell_type": "code",
      "metadata": {
        "colab": {
          "base_uri": "https://localhost:8080/"
        },
        "id": "HmO6_FH4mHCb",
        "outputId": "0b4fd637-1a07-47ab-bf1a-4c57e2266422"
      },
      "source": [
        "DiabetesPedigreeFunction = detect_outliers(data,'DiabetesPedigreeFunction')\r\n",
        "row_DiabetesPedigreeFunction = DiabetesPedigreeFunction.index.values.tolist()\r\n",
        "value_DiabetesPedigreeFunction = DiabetesPedigreeFunction['DiabetesPedigreeFunction'].values.tolist()\r\n",
        "\r\n",
        "print(\"Outlier atribut DiabetesPedigreeFunction terdapat pada baris ke :\",row_DiabetesPedigreeFunction)\r\n",
        "print(\"Outlier atribut DiabetesPedigreeFunction bernilai :\",value_DiabetesPedigreeFunction)"
      ],
      "execution_count": null,
      "outputs": [
        {
          "output_type": "stream",
          "text": [
            "Outlier atribut DiabetesPedigreeFunction terdapat pada baris ke : [4, 12, 39, 45, 58, 100, 147, 187, 218, 228, 243, 245, 259, 292, 308, 330, 370, 371, 383, 395, 445, 534, 593, 606, 618, 621, 622, 659, 661]\n",
            "Outlier atribut DiabetesPedigreeFunction bernilai : [2.2880000000000003, 1.4409999999999998, 1.39, 1.893, 1.781, 1.222, 1.4, 1.321, 1.224, 2.329, 1.318, 1.213, 1.3530000000000002, 1.224, 1.391, 1.476, 2.137, 1.7309999999999999, 1.268, 1.6, 2.42, 1.251, 1.699, 1.258, 1.2819999999999998, 1.6980000000000002, 1.4609999999999999, 1.2919999999999998, 1.3940000000000001]\n"
          ],
          "name": "stdout"
        }
      ]
    },
    {
      "cell_type": "markdown",
      "metadata": {
        "id": "w6ytgScGmHCc"
      },
      "source": [
        "Menghapus Data Outlier"
      ]
    },
    {
      "cell_type": "code",
      "metadata": {
        "colab": {
          "base_uri": "https://localhost:8080/"
        },
        "id": "mR2XXvH0mHCc",
        "outputId": "0d6fa046-cbb7-4e92-a6ae-ae457bf93b30"
      },
      "source": [
        "Q1 = outlier_BMI['DiabetesPedigreeFunction'].describe()['25%']\r\n",
        "Q3 = outlier_BMI['DiabetesPedigreeFunction'].describe()['75%']\r\n",
        "IQR = Q3-Q1\r\n",
        "\r\n",
        "outlier_DiabetesPedigreeFunction = outlier_BMI[outlier_BMI['DiabetesPedigreeFunction'] <= Q3+1.5*IQR]\r\n",
        "\r\n",
        "outlier_DiabetesPedigreeFunction.head()"
      ],
      "execution_count": null,
      "outputs": [
        {
          "output_type": "execute_result",
          "data": {
            "text/html": [
              "<div>\n",
              "<style scoped>\n",
              "    .dataframe tbody tr th:only-of-type {\n",
              "        vertical-align: middle;\n",
              "    }\n",
              "\n",
              "    .dataframe tbody tr th {\n",
              "        vertical-align: top;\n",
              "    }\n",
              "\n",
              "    .dataframe thead th {\n",
              "        text-align: right;\n",
              "    }\n",
              "</style>\n",
              "<table border=\"1\" class=\"dataframe\">\n",
              "  <thead>\n",
              "    <tr style=\"text-align: right;\">\n",
              "      <th></th>\n",
              "      <th>Pregnancies</th>\n",
              "      <th>Glucose</th>\n",
              "      <th>BloodPressure</th>\n",
              "      <th>SkinThickness</th>\n",
              "      <th>Insulin</th>\n",
              "      <th>BMI</th>\n",
              "      <th>DiabetesPedigreeFunction</th>\n",
              "      <th>Age</th>\n",
              "      <th>Outcome</th>\n",
              "    </tr>\n",
              "  </thead>\n",
              "  <tbody>\n",
              "    <tr>\n",
              "      <th>0</th>\n",
              "      <td>6</td>\n",
              "      <td>148</td>\n",
              "      <td>72</td>\n",
              "      <td>35</td>\n",
              "      <td>0</td>\n",
              "      <td>33.6</td>\n",
              "      <td>0.627</td>\n",
              "      <td>50</td>\n",
              "      <td>1</td>\n",
              "    </tr>\n",
              "    <tr>\n",
              "      <th>1</th>\n",
              "      <td>1</td>\n",
              "      <td>85</td>\n",
              "      <td>66</td>\n",
              "      <td>29</td>\n",
              "      <td>0</td>\n",
              "      <td>26.6</td>\n",
              "      <td>0.351</td>\n",
              "      <td>31</td>\n",
              "      <td>0</td>\n",
              "    </tr>\n",
              "    <tr>\n",
              "      <th>2</th>\n",
              "      <td>8</td>\n",
              "      <td>183</td>\n",
              "      <td>64</td>\n",
              "      <td>0</td>\n",
              "      <td>0</td>\n",
              "      <td>23.3</td>\n",
              "      <td>0.672</td>\n",
              "      <td>32</td>\n",
              "      <td>1</td>\n",
              "    </tr>\n",
              "    <tr>\n",
              "      <th>3</th>\n",
              "      <td>1</td>\n",
              "      <td>89</td>\n",
              "      <td>66</td>\n",
              "      <td>23</td>\n",
              "      <td>94</td>\n",
              "      <td>28.1</td>\n",
              "      <td>0.167</td>\n",
              "      <td>21</td>\n",
              "      <td>0</td>\n",
              "    </tr>\n",
              "    <tr>\n",
              "      <th>5</th>\n",
              "      <td>5</td>\n",
              "      <td>116</td>\n",
              "      <td>74</td>\n",
              "      <td>0</td>\n",
              "      <td>0</td>\n",
              "      <td>25.6</td>\n",
              "      <td>0.201</td>\n",
              "      <td>30</td>\n",
              "      <td>0</td>\n",
              "    </tr>\n",
              "  </tbody>\n",
              "</table>\n",
              "</div>"
            ],
            "text/plain": [
              "   Pregnancies  Glucose  BloodPressure  ...  DiabetesPedigreeFunction  Age  Outcome\n",
              "0            6      148             72  ...                     0.627   50        1\n",
              "1            1       85             66  ...                     0.351   31        0\n",
              "2            8      183             64  ...                     0.672   32        1\n",
              "3            1       89             66  ...                     0.167   21        0\n",
              "5            5      116             74  ...                     0.201   30        0\n",
              "\n",
              "[5 rows x 9 columns]"
            ]
          },
          "metadata": {
            "tags": []
          },
          "execution_count": 50
        }
      ]
    },
    {
      "cell_type": "markdown",
      "metadata": {
        "id": "HgJrngkbmHCd"
      },
      "source": [
        "Cek Shape Data Hasil Tanpa Outlier DiabetesPedigreeFunction"
      ]
    },
    {
      "cell_type": "code",
      "metadata": {
        "colab": {
          "base_uri": "https://localhost:8080/"
        },
        "id": "uGvpRNjomHCd",
        "outputId": "3828355a-11a5-40b6-8915-7ad604ff56f6"
      },
      "source": [
        "outlier_DiabetesPedigreeFunction.shape"
      ],
      "execution_count": null,
      "outputs": [
        {
          "output_type": "execute_result",
          "data": {
            "text/plain": [
              "(639, 9)"
            ]
          },
          "metadata": {
            "tags": []
          },
          "execution_count": 51
        }
      ]
    },
    {
      "cell_type": "markdown",
      "metadata": {
        "id": "IiuggcfNnMDe"
      },
      "source": [
        "### Atribut Age"
      ]
    },
    {
      "cell_type": "markdown",
      "metadata": {
        "id": "m413hassnMD6"
      },
      "source": [
        "Visualisasi IQR dengan Bloxplot"
      ]
    },
    {
      "cell_type": "code",
      "metadata": {
        "colab": {
          "base_uri": "https://localhost:8080/",
          "height": 405
        },
        "id": "Am9Giar9nMD7",
        "outputId": "af6337cd-cf59-4d0b-aff9-fba1d9699b7f"
      },
      "source": [
        "import matplotlib.pyplot as plt\r\n",
        "import seaborn as sns\r\n",
        "\r\n",
        "plt.figure(figsize = (10, 5))\r\n",
        "sns.boxplot(data['Age'])\r\n",
        "plt.axvline(data['Age'].describe()['25%'], color = 'red', label = 'Q1')\r\n",
        "plt.axvline(data['Age'].describe()['50%'], color = 'yellow', label = 'Q2')\r\n",
        "plt.axvline(data['Age'].describe()['75%'], color = 'blue', label = 'Q3')\r\n",
        "plt.annotate('Outlier', (data['Age'].describe()['max'],0.1), xytext = (data['Age'].describe()['max'],0.3),\r\n",
        "             arrowprops = dict(facecolor = 'blue'), fontsize = 13 )\r\n",
        "IQR = data['Age'].describe()['75%'] - data['Age'].describe()['25%']\r\n",
        "plt.annotate('Batas Atas', (data['Age'].describe()['75%'] + 1.5*IQR, 0.2), \r\n",
        "             xytext = (data['Age'].describe()['75%'] + 1.5*IQR, 0.4),\r\n",
        "             arrowprops = dict(facecolor = 'blue'), fontsize = 13 )\r\n",
        "plt.annotate('Batas Bawah', (data['Age'].describe()['min'], 0.2), \r\n",
        "             xytext = (data['Age'].describe()['min'], 0.4),\r\n",
        "             arrowprops = dict(facecolor = 'blue'), fontsize = 13 )\r\n",
        "plt.legend()"
      ],
      "execution_count": null,
      "outputs": [
        {
          "output_type": "stream",
          "text": [
            "/usr/local/lib/python3.6/dist-packages/seaborn/_decorators.py:43: FutureWarning: Pass the following variable as a keyword arg: x. From version 0.12, the only valid positional argument will be `data`, and passing other arguments without an explicit keyword will result in an error or misinterpretation.\n",
            "  FutureWarning\n"
          ],
          "name": "stderr"
        },
        {
          "output_type": "execute_result",
          "data": {
            "text/plain": [
              "<matplotlib.legend.Legend at 0x7f85bba66860>"
            ]
          },
          "metadata": {
            "tags": []
          },
          "execution_count": 52
        },
        {
          "output_type": "display_data",
          "data": {
            "image/png": "[encoded data removed]",
            "text/plain": [
              "<Figure size 720x360 with 1 Axes>"
            ]
          },
          "metadata": {
            "tags": [],
            "needs_background": "light"
          }
        }
      ]
    },
    {
      "cell_type": "markdown",
      "metadata": {
        "id": "9pB4CX__nMD9"
      },
      "source": [
        "Menampilkan Data Outlier"
      ]
    },
    {
      "cell_type": "code",
      "metadata": {
        "id": "FAqqpKNMnMD-"
      },
      "source": [
        "def detect_outliers(df, x):\r\n",
        "    Q1 = df[x].describe()['25%']\r\n",
        "    Q3 = df[x].describe()['75%']\r\n",
        "    IQR = Q3-Q1\r\n",
        "    return df[(df[x] < Q1-1.5*IQR) | (df[x] > Q3+1.5*IQR)]"
      ],
      "execution_count": null,
      "outputs": []
    },
    {
      "cell_type": "code",
      "metadata": {
        "colab": {
          "base_uri": "https://localhost:8080/",
          "height": 328
        },
        "id": "PCm5z54KnMD-",
        "outputId": "2c0fe686-2fae-4e8b-c667-df28c243ffd3"
      },
      "source": [
        "detect_outliers(data,'Age')"
      ],
      "execution_count": null,
      "outputs": [
        {
          "output_type": "execute_result",
          "data": {
            "text/html": [
              "<div>\n",
              "<style scoped>\n",
              "    .dataframe tbody tr th:only-of-type {\n",
              "        vertical-align: middle;\n",
              "    }\n",
              "\n",
              "    .dataframe tbody tr th {\n",
              "        vertical-align: top;\n",
              "    }\n",
              "\n",
              "    .dataframe thead th {\n",
              "        text-align: right;\n",
              "    }\n",
              "</style>\n",
              "<table border=\"1\" class=\"dataframe\">\n",
              "  <thead>\n",
              "    <tr style=\"text-align: right;\">\n",
              "      <th></th>\n",
              "      <th>Pregnancies</th>\n",
              "      <th>Glucose</th>\n",
              "      <th>BloodPressure</th>\n",
              "      <th>SkinThickness</th>\n",
              "      <th>Insulin</th>\n",
              "      <th>BMI</th>\n",
              "      <th>DiabetesPedigreeFunction</th>\n",
              "      <th>Age</th>\n",
              "      <th>Outcome</th>\n",
              "    </tr>\n",
              "  </thead>\n",
              "  <tbody>\n",
              "    <tr>\n",
              "      <th>123</th>\n",
              "      <td>5</td>\n",
              "      <td>132</td>\n",
              "      <td>80</td>\n",
              "      <td>0</td>\n",
              "      <td>0</td>\n",
              "      <td>26.8</td>\n",
              "      <td>0.186</td>\n",
              "      <td>69</td>\n",
              "      <td>0</td>\n",
              "    </tr>\n",
              "    <tr>\n",
              "      <th>363</th>\n",
              "      <td>4</td>\n",
              "      <td>146</td>\n",
              "      <td>78</td>\n",
              "      <td>0</td>\n",
              "      <td>0</td>\n",
              "      <td>38.5</td>\n",
              "      <td>0.520</td>\n",
              "      <td>67</td>\n",
              "      <td>1</td>\n",
              "    </tr>\n",
              "    <tr>\n",
              "      <th>453</th>\n",
              "      <td>2</td>\n",
              "      <td>119</td>\n",
              "      <td>0</td>\n",
              "      <td>0</td>\n",
              "      <td>0</td>\n",
              "      <td>19.6</td>\n",
              "      <td>0.832</td>\n",
              "      <td>72</td>\n",
              "      <td>0</td>\n",
              "    </tr>\n",
              "    <tr>\n",
              "      <th>459</th>\n",
              "      <td>9</td>\n",
              "      <td>134</td>\n",
              "      <td>74</td>\n",
              "      <td>33</td>\n",
              "      <td>60</td>\n",
              "      <td>25.9</td>\n",
              "      <td>0.460</td>\n",
              "      <td>81</td>\n",
              "      <td>0</td>\n",
              "    </tr>\n",
              "    <tr>\n",
              "      <th>489</th>\n",
              "      <td>8</td>\n",
              "      <td>194</td>\n",
              "      <td>80</td>\n",
              "      <td>0</td>\n",
              "      <td>0</td>\n",
              "      <td>26.1</td>\n",
              "      <td>0.551</td>\n",
              "      <td>67</td>\n",
              "      <td>0</td>\n",
              "    </tr>\n",
              "    <tr>\n",
              "      <th>537</th>\n",
              "      <td>0</td>\n",
              "      <td>57</td>\n",
              "      <td>60</td>\n",
              "      <td>0</td>\n",
              "      <td>0</td>\n",
              "      <td>21.7</td>\n",
              "      <td>0.735</td>\n",
              "      <td>67</td>\n",
              "      <td>0</td>\n",
              "    </tr>\n",
              "    <tr>\n",
              "      <th>666</th>\n",
              "      <td>4</td>\n",
              "      <td>145</td>\n",
              "      <td>82</td>\n",
              "      <td>18</td>\n",
              "      <td>0</td>\n",
              "      <td>32.5</td>\n",
              "      <td>0.235</td>\n",
              "      <td>70</td>\n",
              "      <td>1</td>\n",
              "    </tr>\n",
              "    <tr>\n",
              "      <th>674</th>\n",
              "      <td>8</td>\n",
              "      <td>91</td>\n",
              "      <td>82</td>\n",
              "      <td>0</td>\n",
              "      <td>0</td>\n",
              "      <td>35.6</td>\n",
              "      <td>0.587</td>\n",
              "      <td>68</td>\n",
              "      <td>0</td>\n",
              "    </tr>\n",
              "    <tr>\n",
              "      <th>684</th>\n",
              "      <td>5</td>\n",
              "      <td>136</td>\n",
              "      <td>82</td>\n",
              "      <td>0</td>\n",
              "      <td>0</td>\n",
              "      <td>0.0</td>\n",
              "      <td>0.640</td>\n",
              "      <td>69</td>\n",
              "      <td>0</td>\n",
              "    </tr>\n",
              "  </tbody>\n",
              "</table>\n",
              "</div>"
            ],
            "text/plain": [
              "     Pregnancies  Glucose  ...  Age  Outcome\n",
              "123            5      132  ...   69        0\n",
              "363            4      146  ...   67        1\n",
              "453            2      119  ...   72        0\n",
              "459            9      134  ...   81        0\n",
              "489            8      194  ...   67        0\n",
              "537            0       57  ...   67        0\n",
              "666            4      145  ...   70        1\n",
              "674            8       91  ...   68        0\n",
              "684            5      136  ...   69        0\n",
              "\n",
              "[9 rows x 9 columns]"
            ]
          },
          "metadata": {
            "tags": []
          },
          "execution_count": 54
        }
      ]
    },
    {
      "cell_type": "code",
      "metadata": {
        "colab": {
          "base_uri": "https://localhost:8080/"
        },
        "id": "5rWFM1yHnMD_",
        "outputId": "68696867-276e-4ee8-8c68-122e6e81bce6"
      },
      "source": [
        "Age = detect_outliers(data,'Age')\r\n",
        "row_Age = Age.index.values.tolist()\r\n",
        "value_Age = Age['Age'].values.tolist()\r\n",
        "\r\n",
        "print(\"Outlier atribut Age terdapat pada baris ke :\",row_Age)\r\n",
        "print(\"Outlier atribut Age bernilai :\",value_Age)"
      ],
      "execution_count": null,
      "outputs": [
        {
          "output_type": "stream",
          "text": [
            "Outlier atribut Age terdapat pada baris ke : [123, 363, 453, 459, 489, 537, 666, 674, 684]\n",
            "Outlier atribut Age bernilai : [69, 67, 72, 81, 67, 67, 70, 68, 69]\n"
          ],
          "name": "stdout"
        }
      ]
    },
    {
      "cell_type": "markdown",
      "metadata": {
        "id": "5ZDtkqexnMD_"
      },
      "source": [
        "Menghapus Data Outlier"
      ]
    },
    {
      "cell_type": "code",
      "metadata": {
        "colab": {
          "base_uri": "https://localhost:8080/",
          "height": 204
        },
        "id": "hugOjsKsnMEA",
        "outputId": "11cd51a8-f2a9-4f47-f0a7-c9fc53874298"
      },
      "source": [
        "Q1 = outlier_DiabetesPedigreeFunction['Age'].describe()['25%']\r\n",
        "Q3 = outlier_DiabetesPedigreeFunction['Age'].describe()['75%']\r\n",
        "IQR = Q3-Q1\r\n",
        "\r\n",
        "outlier_Age = outlier_DiabetesPedigreeFunction[outlier_DiabetesPedigreeFunction['Age'] <= Q3+1.5*IQR]\r\n",
        "\r\n",
        "outlier_Age.head()"
      ],
      "execution_count": null,
      "outputs": [
        {
          "output_type": "execute_result",
          "data": {
            "text/html": [
              "<div>\n",
              "<style scoped>\n",
              "    .dataframe tbody tr th:only-of-type {\n",
              "        vertical-align: middle;\n",
              "    }\n",
              "\n",
              "    .dataframe tbody tr th {\n",
              "        vertical-align: top;\n",
              "    }\n",
              "\n",
              "    .dataframe thead th {\n",
              "        text-align: right;\n",
              "    }\n",
              "</style>\n",
              "<table border=\"1\" class=\"dataframe\">\n",
              "  <thead>\n",
              "    <tr style=\"text-align: right;\">\n",
              "      <th></th>\n",
              "      <th>Pregnancies</th>\n",
              "      <th>Glucose</th>\n",
              "      <th>BloodPressure</th>\n",
              "      <th>SkinThickness</th>\n",
              "      <th>Insulin</th>\n",
              "      <th>BMI</th>\n",
              "      <th>DiabetesPedigreeFunction</th>\n",
              "      <th>Age</th>\n",
              "      <th>Outcome</th>\n",
              "    </tr>\n",
              "  </thead>\n",
              "  <tbody>\n",
              "    <tr>\n",
              "      <th>0</th>\n",
              "      <td>6</td>\n",
              "      <td>148</td>\n",
              "      <td>72</td>\n",
              "      <td>35</td>\n",
              "      <td>0</td>\n",
              "      <td>33.6</td>\n",
              "      <td>0.627</td>\n",
              "      <td>50</td>\n",
              "      <td>1</td>\n",
              "    </tr>\n",
              "    <tr>\n",
              "      <th>1</th>\n",
              "      <td>1</td>\n",
              "      <td>85</td>\n",
              "      <td>66</td>\n",
              "      <td>29</td>\n",
              "      <td>0</td>\n",
              "      <td>26.6</td>\n",
              "      <td>0.351</td>\n",
              "      <td>31</td>\n",
              "      <td>0</td>\n",
              "    </tr>\n",
              "    <tr>\n",
              "      <th>2</th>\n",
              "      <td>8</td>\n",
              "      <td>183</td>\n",
              "      <td>64</td>\n",
              "      <td>0</td>\n",
              "      <td>0</td>\n",
              "      <td>23.3</td>\n",
              "      <td>0.672</td>\n",
              "      <td>32</td>\n",
              "      <td>1</td>\n",
              "    </tr>\n",
              "    <tr>\n",
              "      <th>3</th>\n",
              "      <td>1</td>\n",
              "      <td>89</td>\n",
              "      <td>66</td>\n",
              "      <td>23</td>\n",
              "      <td>94</td>\n",
              "      <td>28.1</td>\n",
              "      <td>0.167</td>\n",
              "      <td>21</td>\n",
              "      <td>0</td>\n",
              "    </tr>\n",
              "    <tr>\n",
              "      <th>5</th>\n",
              "      <td>5</td>\n",
              "      <td>116</td>\n",
              "      <td>74</td>\n",
              "      <td>0</td>\n",
              "      <td>0</td>\n",
              "      <td>25.6</td>\n",
              "      <td>0.201</td>\n",
              "      <td>30</td>\n",
              "      <td>0</td>\n",
              "    </tr>\n",
              "  </tbody>\n",
              "</table>\n",
              "</div>"
            ],
            "text/plain": [
              "   Pregnancies  Glucose  BloodPressure  ...  DiabetesPedigreeFunction  Age  Outcome\n",
              "0            6      148             72  ...                     0.627   50        1\n",
              "1            1       85             66  ...                     0.351   31        0\n",
              "2            8      183             64  ...                     0.672   32        1\n",
              "3            1       89             66  ...                     0.167   21        0\n",
              "5            5      116             74  ...                     0.201   30        0\n",
              "\n",
              "[5 rows x 9 columns]"
            ]
          },
          "metadata": {
            "tags": []
          },
          "execution_count": 56
        }
      ]
    },
    {
      "cell_type": "markdown",
      "metadata": {
        "id": "Uy8KvVgOnMEB"
      },
      "source": [
        "Cek Shape Data Hasil Tanpa Outlier DiabetesPedigreeFunction"
      ]
    },
    {
      "cell_type": "code",
      "metadata": {
        "colab": {
          "base_uri": "https://localhost:8080/"
        },
        "id": "aeG4T31RnMEB",
        "outputId": "a436b278-d0ae-481a-b70e-9286ab60e15d"
      },
      "source": [
        "outlier_Age.shape"
      ],
      "execution_count": null,
      "outputs": [
        {
          "output_type": "execute_result",
          "data": {
            "text/plain": [
              "(628, 9)"
            ]
          },
          "metadata": {
            "tags": []
          },
          "execution_count": 57
        }
      ]
    },
    {
      "cell_type": "markdown",
      "metadata": {
        "id": "cOUz6MBc_bLU"
      },
      "source": [
        "### Hasil Penghapusan Outlier"
      ]
    },
    {
      "cell_type": "code",
      "metadata": {
        "colab": {
          "base_uri": "https://localhost:8080/",
          "height": 204
        },
        "id": "1UpTo4Yh_k0V",
        "outputId": "3c2686ea-ef4e-4b10-9b8a-d47273f91914"
      },
      "source": [
        "data_outlier = outlier_Age\r\n",
        "\r\n",
        "data_outlier.head()"
      ],
      "execution_count": null,
      "outputs": [
        {
          "output_type": "execute_result",
          "data": {
            "text/html": [
              "<div>\n",
              "<style scoped>\n",
              "    .dataframe tbody tr th:only-of-type {\n",
              "        vertical-align: middle;\n",
              "    }\n",
              "\n",
              "    .dataframe tbody tr th {\n",
              "        vertical-align: top;\n",
              "    }\n",
              "\n",
              "    .dataframe thead th {\n",
              "        text-align: right;\n",
              "    }\n",
              "</style>\n",
              "<table border=\"1\" class=\"dataframe\">\n",
              "  <thead>\n",
              "    <tr style=\"text-align: right;\">\n",
              "      <th></th>\n",
              "      <th>Pregnancies</th>\n",
              "      <th>Glucose</th>\n",
              "      <th>BloodPressure</th>\n",
              "      <th>SkinThickness</th>\n",
              "      <th>Insulin</th>\n",
              "      <th>BMI</th>\n",
              "      <th>DiabetesPedigreeFunction</th>\n",
              "      <th>Age</th>\n",
              "      <th>Outcome</th>\n",
              "    </tr>\n",
              "  </thead>\n",
              "  <tbody>\n",
              "    <tr>\n",
              "      <th>0</th>\n",
              "      <td>6</td>\n",
              "      <td>148</td>\n",
              "      <td>72</td>\n",
              "      <td>35</td>\n",
              "      <td>0</td>\n",
              "      <td>33.6</td>\n",
              "      <td>0.627</td>\n",
              "      <td>50</td>\n",
              "      <td>1</td>\n",
              "    </tr>\n",
              "    <tr>\n",
              "      <th>1</th>\n",
              "      <td>1</td>\n",
              "      <td>85</td>\n",
              "      <td>66</td>\n",
              "      <td>29</td>\n",
              "      <td>0</td>\n",
              "      <td>26.6</td>\n",
              "      <td>0.351</td>\n",
              "      <td>31</td>\n",
              "      <td>0</td>\n",
              "    </tr>\n",
              "    <tr>\n",
              "      <th>2</th>\n",
              "      <td>8</td>\n",
              "      <td>183</td>\n",
              "      <td>64</td>\n",
              "      <td>0</td>\n",
              "      <td>0</td>\n",
              "      <td>23.3</td>\n",
              "      <td>0.672</td>\n",
              "      <td>32</td>\n",
              "      <td>1</td>\n",
              "    </tr>\n",
              "    <tr>\n",
              "      <th>3</th>\n",
              "      <td>1</td>\n",
              "      <td>89</td>\n",
              "      <td>66</td>\n",
              "      <td>23</td>\n",
              "      <td>94</td>\n",
              "      <td>28.1</td>\n",
              "      <td>0.167</td>\n",
              "      <td>21</td>\n",
              "      <td>0</td>\n",
              "    </tr>\n",
              "    <tr>\n",
              "      <th>5</th>\n",
              "      <td>5</td>\n",
              "      <td>116</td>\n",
              "      <td>74</td>\n",
              "      <td>0</td>\n",
              "      <td>0</td>\n",
              "      <td>25.6</td>\n",
              "      <td>0.201</td>\n",
              "      <td>30</td>\n",
              "      <td>0</td>\n",
              "    </tr>\n",
              "  </tbody>\n",
              "</table>\n",
              "</div>"
            ],
            "text/plain": [
              "   Pregnancies  Glucose  BloodPressure  ...  DiabetesPedigreeFunction  Age  Outcome\n",
              "0            6      148             72  ...                     0.627   50        1\n",
              "1            1       85             66  ...                     0.351   31        0\n",
              "2            8      183             64  ...                     0.672   32        1\n",
              "3            1       89             66  ...                     0.167   21        0\n",
              "5            5      116             74  ...                     0.201   30        0\n",
              "\n",
              "[5 rows x 9 columns]"
            ]
          },
          "metadata": {
            "tags": []
          },
          "execution_count": 58
        }
      ]
    },
    {
      "cell_type": "code",
      "metadata": {
        "colab": {
          "base_uri": "https://localhost:8080/"
        },
        "id": "jyDKFjk1_t49",
        "outputId": "9e68b325-a67c-482b-a0b8-ae8207d6db5d"
      },
      "source": [
        "data_outlier.shape"
      ],
      "execution_count": null,
      "outputs": [
        {
          "output_type": "execute_result",
          "data": {
            "text/plain": [
              "(628, 9)"
            ]
          },
          "metadata": {
            "tags": []
          },
          "execution_count": 59
        }
      ]
    },
    {
      "cell_type": "markdown",
      "metadata": {
        "id": "SoB6FwDChhIq"
      },
      "source": [
        "## Mengganti Nilai 0 dengan Nilai Rata-rata"
      ]
    },
    {
      "cell_type": "markdown",
      "metadata": {
        "id": "uMn7PbRSiVM9"
      },
      "source": [
        "### Mengganti Nilai 0 dengan NaN"
      ]
    },
    {
      "cell_type": "code",
      "metadata": {
        "colab": {
          "base_uri": "https://localhost:8080/"
        },
        "id": "wQW71BUAhoHv",
        "outputId": "36db3839-95c5-4cef-dfef-b44e3c2a4623"
      },
      "source": [
        "data_outlier[['Glucose','BloodPressure','SkinThickness','Insulin','BMI']] = data_outlier[['Glucose','BloodPressure','SkinThickness','Insulin','BMI']].replace(0,np.NaN)\r\n",
        "\r\n",
        "print(data_outlier.isnull().sum())"
      ],
      "execution_count": null,
      "outputs": [
        {
          "output_type": "stream",
          "text": [
            "Pregnancies                   0\n",
            "Glucose                       0\n",
            "BloodPressure                 0\n",
            "SkinThickness               173\n",
            "Insulin                     299\n",
            "BMI                           0\n",
            "DiabetesPedigreeFunction      0\n",
            "Age                           0\n",
            "Outcome                       0\n",
            "dtype: int64\n"
          ],
          "name": "stdout"
        },
        {
          "output_type": "stream",
          "text": [
            "/usr/local/lib/python3.6/dist-packages/pandas/core/frame.py:3069: SettingWithCopyWarning: \n",
            "A value is trying to be set on a copy of a slice from a DataFrame.\n",
            "Try using .loc[row_indexer,col_indexer] = value instead\n",
            "\n",
            "See the caveats in the documentation: https://pandas.pydata.org/pandas-docs/stable/user_guide/indexing.html#returning-a-view-versus-a-copy\n",
            "  self[k1] = value[k2]\n"
          ],
          "name": "stderr"
        }
      ]
    },
    {
      "cell_type": "markdown",
      "metadata": {
        "id": "Z0tE1roxidBW"
      },
      "source": [
        "### Mengisi Nilai NaN dengan Nilai Rata-rata"
      ]
    },
    {
      "cell_type": "code",
      "metadata": {
        "colab": {
          "base_uri": "https://localhost:8080/"
        },
        "id": "WR779ZjUil2q",
        "outputId": "452a5490-9cd1-4966-ddc5-ea480a580f66"
      },
      "source": [
        "data_outlier['Glucose'].fillna(data_outlier['Glucose'].mean(), inplace = True)\r\n",
        "data_outlier['BloodPressure'].fillna(data_outlier['BloodPressure'].mean(), inplace = True)\r\n",
        "data_outlier['SkinThickness'].fillna(data_outlier['SkinThickness'].mean(), inplace = True)\r\n",
        "data_outlier['Insulin'].fillna(data_outlier['Insulin'].mean(), inplace = True)\r\n",
        "data_outlier['BMI'].fillna(data_outlier['BMI'].mean(), inplace = True)"
      ],
      "execution_count": null,
      "outputs": [
        {
          "output_type": "stream",
          "text": [
            "/usr/local/lib/python3.6/dist-packages/pandas/core/series.py:4536: SettingWithCopyWarning: \n",
            "A value is trying to be set on a copy of a slice from a DataFrame\n",
            "\n",
            "See the caveats in the documentation: https://pandas.pydata.org/pandas-docs/stable/user_guide/indexing.html#returning-a-view-versus-a-copy\n",
            "  downcast=downcast,\n"
          ],
          "name": "stderr"
        }
      ]
    },
    {
      "cell_type": "code",
      "metadata": {
        "colab": {
          "base_uri": "https://localhost:8080/"
        },
        "id": "HPAxlt5HjDkA",
        "outputId": "0e54e28d-8c9d-41d0-b8ee-cf87d8882be4"
      },
      "source": [
        "data_outlier.isnull().sum()"
      ],
      "execution_count": null,
      "outputs": [
        {
          "output_type": "execute_result",
          "data": {
            "text/plain": [
              "Pregnancies                 0\n",
              "Glucose                     0\n",
              "BloodPressure               0\n",
              "SkinThickness               0\n",
              "Insulin                     0\n",
              "BMI                         0\n",
              "DiabetesPedigreeFunction    0\n",
              "Age                         0\n",
              "Outcome                     0\n",
              "dtype: int64"
            ]
          },
          "metadata": {
            "tags": []
          },
          "execution_count": 62
        }
      ]
    },
    {
      "cell_type": "markdown",
      "metadata": {
        "id": "SxeWXMcfAp_R"
      },
      "source": [
        "## Standarisasi"
      ]
    },
    {
      "cell_type": "code",
      "metadata": {
        "colab": {
          "base_uri": "https://localhost:8080/"
        },
        "id": "tiQVumbXCYSH",
        "outputId": "7ebf8653-2cc6-4a73-c879-993b6913e1b4"
      },
      "source": [
        "scaler = StandardScaler()\r\n",
        "\r\n",
        "scaler.fit(X = data_outlier.drop('Outcome', axis = 1))\r\n",
        "X = scaler.transform(X = data_outlier.drop('Outcome', axis = 1))\r\n",
        "\r\n",
        "data_scaler = pd.DataFrame(X, columns=data_outlier.columns[:-1])\r\n",
        "data_scaler.head()"
      ],
      "execution_count": null,
      "outputs": [
        {
          "output_type": "execute_result",
          "data": {
            "text/html": [
              "<div>\n",
              "<style scoped>\n",
              "    .dataframe tbody tr th:only-of-type {\n",
              "        vertical-align: middle;\n",
              "    }\n",
              "\n",
              "    .dataframe tbody tr th {\n",
              "        vertical-align: top;\n",
              "    }\n",
              "\n",
              "    .dataframe thead th {\n",
              "        text-align: right;\n",
              "    }\n",
              "</style>\n",
              "<table border=\"1\" class=\"dataframe\">\n",
              "  <thead>\n",
              "    <tr style=\"text-align: right;\">\n",
              "      <th></th>\n",
              "      <th>Pregnancies</th>\n",
              "      <th>Glucose</th>\n",
              "      <th>BloodPressure</th>\n",
              "      <th>SkinThickness</th>\n",
              "      <th>Insulin</th>\n",
              "      <th>BMI</th>\n",
              "      <th>DiabetesPedigreeFunction</th>\n",
              "      <th>Age</th>\n",
              "    </tr>\n",
              "  </thead>\n",
              "  <tbody>\n",
              "    <tr>\n",
              "      <th>0</th>\n",
              "      <td>0.686942</td>\n",
              "      <td>1.024043</td>\n",
              "      <td>0.006625</td>\n",
              "      <td>7.817167e-01</td>\n",
              "      <td>0.000000</td>\n",
              "      <td>0.263982</td>\n",
              "      <td>0.825287</td>\n",
              "      <td>1.617837</td>\n",
              "    </tr>\n",
              "    <tr>\n",
              "      <th>1</th>\n",
              "      <td>-0.854872</td>\n",
              "      <td>-1.161598</td>\n",
              "      <td>-0.524526</td>\n",
              "      <td>6.582049e-02</td>\n",
              "      <td>0.000000</td>\n",
              "      <td>-0.839225</td>\n",
              "      <td>-0.301871</td>\n",
              "      <td>-0.138033</td>\n",
              "    </tr>\n",
              "    <tr>\n",
              "      <th>2</th>\n",
              "      <td>1.303667</td>\n",
              "      <td>2.238288</td>\n",
              "      <td>-0.701577</td>\n",
              "      <td>-8.477914e-16</td>\n",
              "      <td>0.000000</td>\n",
              "      <td>-1.359309</td>\n",
              "      <td>1.009063</td>\n",
              "      <td>-0.045618</td>\n",
              "    </tr>\n",
              "    <tr>\n",
              "      <th>3</th>\n",
              "      <td>-0.854872</td>\n",
              "      <td>-1.022827</td>\n",
              "      <td>-0.524526</td>\n",
              "      <td>-6.500757e-01</td>\n",
              "      <td>-0.673551</td>\n",
              "      <td>-0.602824</td>\n",
              "      <td>-1.053310</td>\n",
              "      <td>-1.062175</td>\n",
              "    </tr>\n",
              "    <tr>\n",
              "      <th>4</th>\n",
              "      <td>0.378579</td>\n",
              "      <td>-0.086124</td>\n",
              "      <td>0.183676</td>\n",
              "      <td>-8.477914e-16</td>\n",
              "      <td>0.000000</td>\n",
              "      <td>-0.996826</td>\n",
              "      <td>-0.914457</td>\n",
              "      <td>-0.230447</td>\n",
              "    </tr>\n",
              "  </tbody>\n",
              "</table>\n",
              "</div>"
            ],
            "text/plain": [
              "   Pregnancies   Glucose  ...  DiabetesPedigreeFunction       Age\n",
              "0     0.686942  1.024043  ...                  0.825287  1.617837\n",
              "1    -0.854872 -1.161598  ...                 -0.301871 -0.138033\n",
              "2     1.303667  2.238288  ...                  1.009063 -0.045618\n",
              "3    -0.854872 -1.022827  ...                 -1.053310 -1.062175\n",
              "4     0.378579 -0.086124  ...                 -0.914457 -0.230447\n",
              "\n",
              "[5 rows x 8 columns]"
            ]
          },
          "metadata": {
            "tags": []
          },
          "execution_count": 63
        }
      ]
    },
    {
      "cell_type": "markdown",
      "metadata": {
        "id": "Zt-W1UUjDrTk"
      },
      "source": [
        "## Split Data untuk Train dan Test"
      ]
    },
    {
      "cell_type": "code",
      "metadata": {
        "id": "XRuD4DJPDxQN"
      },
      "source": [
        "y = data_outlier['Outcome']\r\n",
        "\r\n",
        "X_train, X_test, y_train, y_test = train_test_split(data_scaler, y, test_size = 0.1, random_state = 101)"
      ],
      "execution_count": null,
      "outputs": []
    },
    {
      "cell_type": "markdown",
      "metadata": {
        "id": "vkvx6hBRA7B1"
      },
      "source": [
        "## Recursive Feature Elimination Cross-Validation ( RFECV )"
      ]
    },
    {
      "cell_type": "markdown",
      "metadata": {
        "id": "Qrd55QUTE09h"
      },
      "source": [
        "### Menghitung Jumlah Fitur yang Optimal"
      ]
    },
    {
      "cell_type": "code",
      "metadata": {
        "colab": {
          "base_uri": "https://localhost:8080/"
        },
        "id": "eWXdGD-uBDEY",
        "outputId": "6ffb36fc-1027-46ff-befc-8ce198f75891"
      },
      "source": [
        "rfc = RandomForestClassifier()\r\n",
        "rfecv = RFECV(estimator=rfc, step=1, cv=StratifiedKFold(10), scoring='accuracy')\r\n",
        "rfecv.fit(data_scaler, y)\r\n",
        "\r\n",
        "print('Jumlah fitur yang Optimal : {}'.format(rfecv.n_features_))"
      ],
      "execution_count": null,
      "outputs": [
        {
          "output_type": "stream",
          "text": [
            "Jumlah fitur yang Optimal : 4\n"
          ],
          "name": "stdout"
        }
      ]
    },
    {
      "cell_type": "markdown",
      "metadata": {
        "id": "TKbXO_gZE-eO"
      },
      "source": [
        "### Plot List Fitur yang Optimal"
      ]
    },
    {
      "cell_type": "code",
      "metadata": {
        "colab": {
          "base_uri": "https://localhost:8080/",
          "height": 334
        },
        "id": "JYC8uzMBEz7o",
        "outputId": "49f63309-8782-4039-b9de-e086e70f947a"
      },
      "source": [
        "# List fitur yang maksimal\r\n",
        "rfecv.estimator_.feature_importances_\r\n",
        "\r\n",
        "data_scaler.drop(data_scaler.columns[np.where(rfecv.support_ == False)[0]], axis=1, inplace=True)\r\n",
        "\r\n",
        "dset = pd.DataFrame()\r\n",
        "dset['attr'] = data_scaler.columns\r\n",
        "dset['importance'] = rfecv.estimator_.feature_importances_\r\n",
        "\r\n",
        "dset = dset.sort_values(by='importance', ascending=False)\r\n",
        "\r\n",
        "plt.barh(y=dset['attr'], width=dset['importance'], color='mediumseagreen')\r\n",
        "plt.title('RFECV - Fitur Terpenting', fontsize=20, fontweight='bold', pad=20)\r\n",
        "plt.xlabel('Penting', fontsize=14, labelpad=20)\r\n",
        "plt.show()"
      ],
      "execution_count": null,
      "outputs": [
        {
          "output_type": "display_data",
          "data": {
            "image/png": "[encoded data removed]",
            "text/plain": [
              "<Figure size 432x288 with 1 Axes>"
            ]
          },
          "metadata": {
            "tags": []
          }
        }
      ]
    },
    {
      "cell_type": "markdown",
      "metadata": {
        "id": "z9i-4govG0yR"
      },
      "source": [
        "## Menyiapkan Data Hasil RFECV "
      ]
    },
    {
      "cell_type": "code",
      "metadata": {
        "colab": {
          "base_uri": "https://localhost:8080/"
        },
        "id": "xwND3X-1G6Mi",
        "outputId": "8fd9920b-89fb-4a0b-e981-0713c074f55c"
      },
      "source": [
        "data_clean = data_scaler\r\n",
        "\r\n",
        "data_clean.head()"
      ],
      "execution_count": null,
      "outputs": [
        {
          "output_type": "execute_result",
          "data": {
            "text/html": [
              "<div>\n",
              "<style scoped>\n",
              "    .dataframe tbody tr th:only-of-type {\n",
              "        vertical-align: middle;\n",
              "    }\n",
              "\n",
              "    .dataframe tbody tr th {\n",
              "        vertical-align: top;\n",
              "    }\n",
              "\n",
              "    .dataframe thead th {\n",
              "        text-align: right;\n",
              "    }\n",
              "</style>\n",
              "<table border=\"1\" class=\"dataframe\">\n",
              "  <thead>\n",
              "    <tr style=\"text-align: right;\">\n",
              "      <th></th>\n",
              "      <th>Glucose</th>\n",
              "      <th>BMI</th>\n",
              "      <th>DiabetesPedigreeFunction</th>\n",
              "      <th>Age</th>\n",
              "    </tr>\n",
              "  </thead>\n",
              "  <tbody>\n",
              "    <tr>\n",
              "      <th>0</th>\n",
              "      <td>1.024043</td>\n",
              "      <td>0.263982</td>\n",
              "      <td>0.825287</td>\n",
              "      <td>1.617837</td>\n",
              "    </tr>\n",
              "    <tr>\n",
              "      <th>1</th>\n",
              "      <td>-1.161598</td>\n",
              "      <td>-0.839225</td>\n",
              "      <td>-0.301871</td>\n",
              "      <td>-0.138033</td>\n",
              "    </tr>\n",
              "    <tr>\n",
              "      <th>2</th>\n",
              "      <td>2.238288</td>\n",
              "      <td>-1.359309</td>\n",
              "      <td>1.009063</td>\n",
              "      <td>-0.045618</td>\n",
              "    </tr>\n",
              "    <tr>\n",
              "      <th>3</th>\n",
              "      <td>-1.022827</td>\n",
              "      <td>-0.602824</td>\n",
              "      <td>-1.053310</td>\n",
              "      <td>-1.062175</td>\n",
              "    </tr>\n",
              "    <tr>\n",
              "      <th>4</th>\n",
              "      <td>-0.086124</td>\n",
              "      <td>-0.996826</td>\n",
              "      <td>-0.914457</td>\n",
              "      <td>-0.230447</td>\n",
              "    </tr>\n",
              "  </tbody>\n",
              "</table>\n",
              "</div>"
            ],
            "text/plain": [
              "    Glucose       BMI  DiabetesPedigreeFunction       Age\n",
              "0  1.024043  0.263982                  0.825287  1.617837\n",
              "1 -1.161598 -0.839225                 -0.301871 -0.138033\n",
              "2  2.238288 -1.359309                  1.009063 -0.045618\n",
              "3 -1.022827 -0.602824                 -1.053310 -1.062175\n",
              "4 -0.086124 -0.996826                 -0.914457 -0.230447"
            ]
          },
          "metadata": {
            "tags": []
          },
          "execution_count": 86
        }
      ]
    },
    {
      "cell_type": "code",
      "metadata": {
        "colab": {
          "base_uri": "https://localhost:8080/"
        },
        "id": "cDZU5r-KHfFm",
        "outputId": "eeff14be-c7db-4705-e15a-76886c8d3c88"
      },
      "source": [
        "target = y\r\n",
        "\r\n",
        "target.head()"
      ],
      "execution_count": null,
      "outputs": [
        {
          "output_type": "execute_result",
          "data": {
            "text/plain": [
              "0    1\n",
              "1    0\n",
              "2    1\n",
              "3    0\n",
              "5    0\n",
              "Name: Outcome, dtype: int64"
            ]
          },
          "metadata": {
            "tags": []
          },
          "execution_count": 87
        }
      ]
    },
    {
      "cell_type": "markdown",
      "metadata": {
        "id": "YddRSwDYHyK4"
      },
      "source": [
        "## Split Data Hasil RFECV"
      ]
    },
    {
      "cell_type": "code",
      "metadata": {
        "id": "XN_-eFt-H2iO"
      },
      "source": [
        "X_train, X_test, y_train, y_test = train_test_split(data_clean, target, test_size = 0.1, random_state = 101)"
      ],
      "execution_count": null,
      "outputs": []
    },
    {
      "cell_type": "markdown",
      "metadata": {
        "id": "IGqNqPHqGifh"
      },
      "source": [
        "# **KNN**"
      ]
    },
    {
      "cell_type": "markdown",
      "metadata": {
        "id": "dltEuH4UISx0"
      },
      "source": [
        "## Prediksi Model KNN"
      ]
    },
    {
      "cell_type": "code",
      "metadata": {
        "id": "2z0LRsOyGkIY"
      },
      "source": [
        "fix_KNN = KNeighborsClassifier(n_neighbors = 1)\r\n",
        "\r\n",
        "fix_KNN.fit(X_train, y_train)\r\n",
        "\r\n",
        "y_predict = fix_KNN.predict(X_test)"
      ],
      "execution_count": null,
      "outputs": []
    },
    {
      "cell_type": "markdown",
      "metadata": {
        "id": "AY4tEyYeIYiQ"
      },
      "source": [
        "### Evaluasi Model KNN"
      ]
    },
    {
      "cell_type": "markdown",
      "metadata": {
        "id": "18ToejpCJivu"
      },
      "source": [
        "Akurasi"
      ]
    },
    {
      "cell_type": "code",
      "metadata": {
        "colab": {
          "base_uri": "https://localhost:8080/"
        },
        "id": "SVcX73CEIKWj",
        "outputId": "50ca3c77-3581-4261-c5e2-f40a236ffa80"
      },
      "source": [
        "accuracy= accuracy_score(y_test, y_predict)\r\n",
        "print(\"Akurasi : \",accuracy)"
      ],
      "execution_count": null,
      "outputs": [
        {
          "output_type": "stream",
          "text": [
            "Akurasi :  0.746031746031746\n"
          ],
          "name": "stdout"
        }
      ]
    },
    {
      "cell_type": "markdown",
      "metadata": {
        "id": "qVl38Jc4JkM9"
      },
      "source": [
        "Confusion Matrix"
      ]
    },
    {
      "cell_type": "code",
      "metadata": {
        "colab": {
          "base_uri": "https://localhost:8080/"
        },
        "id": "Q6ThyOeBJmlL",
        "outputId": "fc9321a8-b303-4da5-e24e-1f5a9bdb813b"
      },
      "source": [
        "print(confusion_matrix(y_test,y_predict))"
      ],
      "execution_count": null,
      "outputs": [
        {
          "output_type": "stream",
          "text": [
            "[[36  7]\n",
            " [ 9 11]]\n"
          ],
          "name": "stdout"
        }
      ]
    },
    {
      "cell_type": "markdown",
      "metadata": {
        "id": "sRUSXSttJtIg"
      },
      "source": [
        "Classification Report"
      ]
    },
    {
      "cell_type": "code",
      "metadata": {
        "colab": {
          "base_uri": "https://localhost:8080/"
        },
        "id": "85b3gs-MJxYy",
        "outputId": "26fcdb17-3577-4db0-eba4-0d5411fdadd3"
      },
      "source": [
        "print(classification_report(y_test,y_predict))"
      ],
      "execution_count": null,
      "outputs": [
        {
          "output_type": "stream",
          "text": [
            "              precision    recall  f1-score   support\n",
            "\n",
            "           0       0.80      0.84      0.82        43\n",
            "           1       0.61      0.55      0.58        20\n",
            "\n",
            "    accuracy                           0.75        63\n",
            "   macro avg       0.71      0.69      0.70        63\n",
            "weighted avg       0.74      0.75      0.74        63\n",
            "\n"
          ],
          "name": "stdout"
        }
      ]
    },
    {
      "cell_type": "markdown",
      "metadata": {
        "id": "veY4Fs7MJ7Di"
      },
      "source": [
        "## Memilih Nilai K"
      ]
    },
    {
      "cell_type": "code",
      "metadata": {
        "colab": {
          "base_uri": "https://localhost:8080/",
          "height": 425
        },
        "id": "gqKbPvhnJ94Y",
        "outputId": "44285e0e-57e2-4f84-e94c-75734e3b019d"
      },
      "source": [
        "err_rates = []\r\n",
        "for idx in range(1,50):\r\n",
        "    knn = KNeighborsClassifier(n_neighbors = idx)\r\n",
        "    knn.fit(X_train, y_train)\r\n",
        "    pred_idx = knn.predict(X_test)\r\n",
        "    err_rates.append(np.mean(y_test != pred_idx))\r\n",
        "\r\n",
        "plt.style.use('ggplot')\r\n",
        "plt.subplots(figsize = (10,6))\r\n",
        "plt.plot(range(1,50), err_rates, linestyle = 'dashed', color = 'blue', marker = 'o', markerfacecolor = 'red')\r\n",
        "plt.xlabel('K-value')\r\n",
        "plt.ylabel('Error Rate')\r\n",
        "plt.title('Error Rate vs K-value')"
      ],
      "execution_count": null,
      "outputs": [
        {
          "output_type": "execute_result",
          "data": {
            "text/plain": [
              "Text(0.5, 1.0, 'Error Rate vs K-value')"
            ]
          },
          "metadata": {
            "tags": []
          },
          "execution_count": 100
        },
        {
          "output_type": "display_data",
          "data": {
            "image/png": "[encoded data removed]",
            "text/plain": [
              "<Figure size 720x432 with 1 Axes>"
            ]
          },
          "metadata": {
            "tags": []
          }
        }
      ]
    },
    {
      "cell_type": "markdown",
      "metadata": {
        "id": "j7olFvuCKhzc"
      },
      "source": [
        "## Prediksi Model KNN dengan Nilai K Baru"
      ]
    },
    {
      "cell_type": "code",
      "metadata": {
        "id": "MWHX9NixKhzf"
      },
      "source": [
        "new_KNN = KNeighborsClassifier(n_neighbors = 21)\r\n",
        "\r\n",
        "new_KNN.fit(X_train, y_train)\r\n",
        "\r\n",
        "y_predict = new_KNN.predict(X_test)"
      ],
      "execution_count": null,
      "outputs": []
    },
    {
      "cell_type": "markdown",
      "metadata": {
        "id": "MnnGu6FrKuBd"
      },
      "source": [
        "### Evaluasi Model KNN"
      ]
    },
    {
      "cell_type": "markdown",
      "metadata": {
        "id": "63la_GzTKuBl"
      },
      "source": [
        "Akurasi"
      ]
    },
    {
      "cell_type": "code",
      "metadata": {
        "colab": {
          "base_uri": "https://localhost:8080/"
        },
        "id": "eXmO5TtVKuBn",
        "outputId": "3839563e-5e12-4a89-e1fd-15e69cd58b81"
      },
      "source": [
        "accuracy= accuracy_score(y_test, y_predict)\r\n",
        "print(\"Akurasi : \",accuracy)"
      ],
      "execution_count": null,
      "outputs": [
        {
          "output_type": "stream",
          "text": [
            "Akurasi :  0.8412698412698413\n"
          ],
          "name": "stdout"
        }
      ]
    },
    {
      "cell_type": "markdown",
      "metadata": {
        "id": "gLkncC8JKuBp"
      },
      "source": [
        "Confusion Matrix"
      ]
    },
    {
      "cell_type": "code",
      "metadata": {
        "colab": {
          "base_uri": "https://localhost:8080/"
        },
        "id": "V2EFDrBhKuBq",
        "outputId": "b3b234ed-4b5b-495e-8f2b-3c643caa9df3"
      },
      "source": [
        "print(confusion_matrix(y_test,y_predict))"
      ],
      "execution_count": null,
      "outputs": [
        {
          "output_type": "stream",
          "text": [
            "[[40  3]\n",
            " [ 7 13]]\n"
          ],
          "name": "stdout"
        }
      ]
    },
    {
      "cell_type": "markdown",
      "metadata": {
        "id": "Kn9UIdIbKuBr"
      },
      "source": [
        "Classification Report"
      ]
    },
    {
      "cell_type": "code",
      "metadata": {
        "colab": {
          "base_uri": "https://localhost:8080/"
        },
        "id": "eNa52lOmKuBs",
        "outputId": "b313a767-4dbb-4b25-fe0d-31b5ce1c7a07"
      },
      "source": [
        "print(classification_report(y_test,y_predict))"
      ],
      "execution_count": null,
      "outputs": [
        {
          "output_type": "stream",
          "text": [
            "              precision    recall  f1-score   support\n",
            "\n",
            "           0       0.85      0.93      0.89        43\n",
            "           1       0.81      0.65      0.72        20\n",
            "\n",
            "    accuracy                           0.84        63\n",
            "   macro avg       0.83      0.79      0.81        63\n",
            "weighted avg       0.84      0.84      0.84        63\n",
            "\n"
          ],
          "name": "stdout"
        }
      ]
    }
  ]
}